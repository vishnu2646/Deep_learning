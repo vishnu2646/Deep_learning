{
 "cells": [
  {
   "cell_type": "code",
   "execution_count": 1,
   "metadata": {},
   "outputs": [
    {
<<<<<<< HEAD
     "name": "stderr",
     "output_type": "stream",
     "text": [
      "C:\\Users\\shrut\\anaconda3\\lib\\site-packages\\scipy\\__init__.py:155: UserWarning: A NumPy version >=1.18.5 and <1.25.0 is required for this version of SciPy (detected version 1.26.2\n",
      "  warnings.warn(f\"A NumPy version >={np_minversion} and <{np_maxversion}\"\n"
=======
     "name": "stdout",
     "output_type": "stream",
     "text": [
      " hi there baby\n"
>>>>>>> 104d26f96e50e44d222b2e3f2483806b63dac7c4
     ]
    }
   ],
   "source": [
<<<<<<< HEAD
=======
    "print(\" hi there baby\")"
   ]
  },
  {
   "cell_type": "code",
   "execution_count": 86,
   "metadata": {},
   "outputs": [],
   "source": [
>>>>>>> 104d26f96e50e44d222b2e3f2483806b63dac7c4
    "import pandas as pd\n",
    "import numpy as np\n",
    "import matplotlib.pyplot as plt\n",
    "import seaborn as sns\n",
    "import sweetviz as sv\n",
    "import warnings\n",
    "warnings.filterwarnings(\"ignore\")"
   ]
  },
  {
   "cell_type": "code",
<<<<<<< HEAD
   "execution_count": 2,
=======
   "execution_count": 87,
>>>>>>> 104d26f96e50e44d222b2e3f2483806b63dac7c4
   "metadata": {},
   "outputs": [
    {
     "data": {
      "text/html": [
       "<div>\n",
       "<style scoped>\n",
       "    .dataframe tbody tr th:only-of-type {\n",
       "        vertical-align: middle;\n",
       "    }\n",
       "\n",
       "    .dataframe tbody tr th {\n",
       "        vertical-align: top;\n",
       "    }\n",
       "\n",
       "    .dataframe thead th {\n",
       "        text-align: right;\n",
       "    }\n",
       "</style>\n",
       "<table border=\"1\" class=\"dataframe\">\n",
       "  <thead>\n",
       "    <tr style=\"text-align: right;\">\n",
       "      <th></th>\n",
       "      <th>id</th>\n",
       "      <th>diagnosis</th>\n",
       "      <th>radius_mean</th>\n",
       "      <th>texture_mean</th>\n",
       "      <th>perimeter_mean</th>\n",
       "      <th>area_mean</th>\n",
       "      <th>smoothness_mean</th>\n",
       "      <th>compactness_mean</th>\n",
       "      <th>concavity_mean</th>\n",
       "      <th>concave points_mean</th>\n",
       "      <th>...</th>\n",
       "      <th>texture_worst</th>\n",
       "      <th>perimeter_worst</th>\n",
       "      <th>area_worst</th>\n",
       "      <th>smoothness_worst</th>\n",
       "      <th>compactness_worst</th>\n",
       "      <th>concavity_worst</th>\n",
       "      <th>concave points_worst</th>\n",
       "      <th>symmetry_worst</th>\n",
       "      <th>fractal_dimension_worst</th>\n",
       "      <th>Unnamed: 32</th>\n",
       "    </tr>\n",
       "  </thead>\n",
       "  <tbody>\n",
       "    <tr>\n",
       "      <th>0</th>\n",
       "      <td>842302</td>\n",
       "      <td>M</td>\n",
       "      <td>17.99</td>\n",
       "      <td>10.38</td>\n",
       "      <td>122.80</td>\n",
       "      <td>1001.0</td>\n",
       "      <td>0.11840</td>\n",
       "      <td>0.27760</td>\n",
       "      <td>0.30010</td>\n",
       "      <td>0.14710</td>\n",
       "      <td>...</td>\n",
       "      <td>17.33</td>\n",
       "      <td>184.60</td>\n",
       "      <td>2019.0</td>\n",
       "      <td>0.16220</td>\n",
       "      <td>0.66560</td>\n",
       "      <td>0.7119</td>\n",
       "      <td>0.2654</td>\n",
       "      <td>0.4601</td>\n",
       "      <td>0.11890</td>\n",
       "      <td>NaN</td>\n",
       "    </tr>\n",
       "    <tr>\n",
       "      <th>1</th>\n",
       "      <td>842517</td>\n",
       "      <td>M</td>\n",
       "      <td>20.57</td>\n",
       "      <td>17.77</td>\n",
       "      <td>132.90</td>\n",
       "      <td>1326.0</td>\n",
       "      <td>0.08474</td>\n",
       "      <td>0.07864</td>\n",
       "      <td>0.08690</td>\n",
       "      <td>0.07017</td>\n",
       "      <td>...</td>\n",
       "      <td>23.41</td>\n",
       "      <td>158.80</td>\n",
       "      <td>1956.0</td>\n",
       "      <td>0.12380</td>\n",
       "      <td>0.18660</td>\n",
       "      <td>0.2416</td>\n",
       "      <td>0.1860</td>\n",
       "      <td>0.2750</td>\n",
       "      <td>0.08902</td>\n",
       "      <td>NaN</td>\n",
       "    </tr>\n",
       "    <tr>\n",
       "      <th>2</th>\n",
       "      <td>84300903</td>\n",
       "      <td>M</td>\n",
       "      <td>19.69</td>\n",
       "      <td>21.25</td>\n",
       "      <td>130.00</td>\n",
       "      <td>1203.0</td>\n",
       "      <td>0.10960</td>\n",
       "      <td>0.15990</td>\n",
       "      <td>0.19740</td>\n",
       "      <td>0.12790</td>\n",
       "      <td>...</td>\n",
       "      <td>25.53</td>\n",
       "      <td>152.50</td>\n",
       "      <td>1709.0</td>\n",
       "      <td>0.14440</td>\n",
       "      <td>0.42450</td>\n",
       "      <td>0.4504</td>\n",
       "      <td>0.2430</td>\n",
       "      <td>0.3613</td>\n",
       "      <td>0.08758</td>\n",
       "      <td>NaN</td>\n",
       "    </tr>\n",
       "    <tr>\n",
       "      <th>3</th>\n",
       "      <td>84348301</td>\n",
       "      <td>M</td>\n",
       "      <td>11.42</td>\n",
       "      <td>20.38</td>\n",
       "      <td>77.58</td>\n",
       "      <td>386.1</td>\n",
       "      <td>0.14250</td>\n",
       "      <td>0.28390</td>\n",
       "      <td>0.24140</td>\n",
       "      <td>0.10520</td>\n",
       "      <td>...</td>\n",
       "      <td>26.50</td>\n",
       "      <td>98.87</td>\n",
       "      <td>567.7</td>\n",
       "      <td>0.20980</td>\n",
       "      <td>0.86630</td>\n",
       "      <td>0.6869</td>\n",
       "      <td>0.2575</td>\n",
       "      <td>0.6638</td>\n",
       "      <td>0.17300</td>\n",
       "      <td>NaN</td>\n",
       "    </tr>\n",
       "    <tr>\n",
       "      <th>4</th>\n",
       "      <td>84358402</td>\n",
       "      <td>M</td>\n",
       "      <td>20.29</td>\n",
       "      <td>14.34</td>\n",
       "      <td>135.10</td>\n",
       "      <td>1297.0</td>\n",
       "      <td>0.10030</td>\n",
       "      <td>0.13280</td>\n",
       "      <td>0.19800</td>\n",
       "      <td>0.10430</td>\n",
       "      <td>...</td>\n",
       "      <td>16.67</td>\n",
       "      <td>152.20</td>\n",
       "      <td>1575.0</td>\n",
       "      <td>0.13740</td>\n",
       "      <td>0.20500</td>\n",
       "      <td>0.4000</td>\n",
       "      <td>0.1625</td>\n",
       "      <td>0.2364</td>\n",
       "      <td>0.07678</td>\n",
       "      <td>NaN</td>\n",
       "    </tr>\n",
       "    <tr>\n",
       "      <th>...</th>\n",
       "      <td>...</td>\n",
       "      <td>...</td>\n",
       "      <td>...</td>\n",
       "      <td>...</td>\n",
       "      <td>...</td>\n",
       "      <td>...</td>\n",
       "      <td>...</td>\n",
       "      <td>...</td>\n",
       "      <td>...</td>\n",
       "      <td>...</td>\n",
       "      <td>...</td>\n",
       "      <td>...</td>\n",
       "      <td>...</td>\n",
       "      <td>...</td>\n",
       "      <td>...</td>\n",
       "      <td>...</td>\n",
       "      <td>...</td>\n",
       "      <td>...</td>\n",
       "      <td>...</td>\n",
       "      <td>...</td>\n",
       "      <td>...</td>\n",
       "    </tr>\n",
       "    <tr>\n",
       "      <th>564</th>\n",
       "      <td>926424</td>\n",
       "      <td>M</td>\n",
       "      <td>21.56</td>\n",
       "      <td>22.39</td>\n",
       "      <td>142.00</td>\n",
       "      <td>1479.0</td>\n",
       "      <td>0.11100</td>\n",
       "      <td>0.11590</td>\n",
       "      <td>0.24390</td>\n",
       "      <td>0.13890</td>\n",
       "      <td>...</td>\n",
       "      <td>26.40</td>\n",
       "      <td>166.10</td>\n",
       "      <td>2027.0</td>\n",
       "      <td>0.14100</td>\n",
       "      <td>0.21130</td>\n",
       "      <td>0.4107</td>\n",
       "      <td>0.2216</td>\n",
       "      <td>0.2060</td>\n",
       "      <td>0.07115</td>\n",
       "      <td>NaN</td>\n",
       "    </tr>\n",
       "    <tr>\n",
       "      <th>565</th>\n",
       "      <td>926682</td>\n",
       "      <td>M</td>\n",
       "      <td>20.13</td>\n",
       "      <td>28.25</td>\n",
       "      <td>131.20</td>\n",
       "      <td>1261.0</td>\n",
       "      <td>0.09780</td>\n",
       "      <td>0.10340</td>\n",
       "      <td>0.14400</td>\n",
       "      <td>0.09791</td>\n",
       "      <td>...</td>\n",
       "      <td>38.25</td>\n",
       "      <td>155.00</td>\n",
       "      <td>1731.0</td>\n",
       "      <td>0.11660</td>\n",
       "      <td>0.19220</td>\n",
       "      <td>0.3215</td>\n",
       "      <td>0.1628</td>\n",
       "      <td>0.2572</td>\n",
       "      <td>0.06637</td>\n",
       "      <td>NaN</td>\n",
       "    </tr>\n",
       "    <tr>\n",
       "      <th>566</th>\n",
       "      <td>926954</td>\n",
       "      <td>M</td>\n",
       "      <td>16.60</td>\n",
       "      <td>28.08</td>\n",
       "      <td>108.30</td>\n",
       "      <td>858.1</td>\n",
       "      <td>0.08455</td>\n",
       "      <td>0.10230</td>\n",
       "      <td>0.09251</td>\n",
       "      <td>0.05302</td>\n",
       "      <td>...</td>\n",
       "      <td>34.12</td>\n",
       "      <td>126.70</td>\n",
       "      <td>1124.0</td>\n",
       "      <td>0.11390</td>\n",
       "      <td>0.30940</td>\n",
       "      <td>0.3403</td>\n",
       "      <td>0.1418</td>\n",
       "      <td>0.2218</td>\n",
       "      <td>0.07820</td>\n",
       "      <td>NaN</td>\n",
       "    </tr>\n",
       "    <tr>\n",
       "      <th>567</th>\n",
       "      <td>927241</td>\n",
       "      <td>M</td>\n",
       "      <td>20.60</td>\n",
       "      <td>29.33</td>\n",
       "      <td>140.10</td>\n",
       "      <td>1265.0</td>\n",
       "      <td>0.11780</td>\n",
       "      <td>0.27700</td>\n",
       "      <td>0.35140</td>\n",
       "      <td>0.15200</td>\n",
       "      <td>...</td>\n",
       "      <td>39.42</td>\n",
       "      <td>184.60</td>\n",
       "      <td>1821.0</td>\n",
       "      <td>0.16500</td>\n",
       "      <td>0.86810</td>\n",
       "      <td>0.9387</td>\n",
       "      <td>0.2650</td>\n",
       "      <td>0.4087</td>\n",
       "      <td>0.12400</td>\n",
       "      <td>NaN</td>\n",
       "    </tr>\n",
       "    <tr>\n",
       "      <th>568</th>\n",
       "      <td>92751</td>\n",
       "      <td>B</td>\n",
       "      <td>7.76</td>\n",
       "      <td>24.54</td>\n",
       "      <td>47.92</td>\n",
       "      <td>181.0</td>\n",
       "      <td>0.05263</td>\n",
       "      <td>0.04362</td>\n",
       "      <td>0.00000</td>\n",
       "      <td>0.00000</td>\n",
       "      <td>...</td>\n",
       "      <td>30.37</td>\n",
       "      <td>59.16</td>\n",
       "      <td>268.6</td>\n",
       "      <td>0.08996</td>\n",
       "      <td>0.06444</td>\n",
       "      <td>0.0000</td>\n",
       "      <td>0.0000</td>\n",
       "      <td>0.2871</td>\n",
       "      <td>0.07039</td>\n",
       "      <td>NaN</td>\n",
       "    </tr>\n",
       "  </tbody>\n",
       "</table>\n",
       "<p>569 rows × 33 columns</p>\n",
       "</div>"
      ],
      "text/plain": [
       "           id diagnosis  radius_mean  texture_mean  perimeter_mean  area_mean  \\\n",
       "0      842302         M        17.99         10.38          122.80     1001.0   \n",
       "1      842517         M        20.57         17.77          132.90     1326.0   \n",
       "2    84300903         M        19.69         21.25          130.00     1203.0   \n",
       "3    84348301         M        11.42         20.38           77.58      386.1   \n",
       "4    84358402         M        20.29         14.34          135.10     1297.0   \n",
       "..        ...       ...          ...           ...             ...        ...   \n",
       "564    926424         M        21.56         22.39          142.00     1479.0   \n",
       "565    926682         M        20.13         28.25          131.20     1261.0   \n",
       "566    926954         M        16.60         28.08          108.30      858.1   \n",
       "567    927241         M        20.60         29.33          140.10     1265.0   \n",
       "568     92751         B         7.76         24.54           47.92      181.0   \n",
       "\n",
       "     smoothness_mean  compactness_mean  concavity_mean  concave points_mean  \\\n",
       "0            0.11840           0.27760         0.30010              0.14710   \n",
       "1            0.08474           0.07864         0.08690              0.07017   \n",
       "2            0.10960           0.15990         0.19740              0.12790   \n",
       "3            0.14250           0.28390         0.24140              0.10520   \n",
       "4            0.10030           0.13280         0.19800              0.10430   \n",
       "..               ...               ...             ...                  ...   \n",
       "564          0.11100           0.11590         0.24390              0.13890   \n",
       "565          0.09780           0.10340         0.14400              0.09791   \n",
       "566          0.08455           0.10230         0.09251              0.05302   \n",
       "567          0.11780           0.27700         0.35140              0.15200   \n",
       "568          0.05263           0.04362         0.00000              0.00000   \n",
       "\n",
       "     ...  texture_worst  perimeter_worst  area_worst  smoothness_worst  \\\n",
       "0    ...          17.33           184.60      2019.0           0.16220   \n",
       "1    ...          23.41           158.80      1956.0           0.12380   \n",
       "2    ...          25.53           152.50      1709.0           0.14440   \n",
       "3    ...          26.50            98.87       567.7           0.20980   \n",
       "4    ...          16.67           152.20      1575.0           0.13740   \n",
       "..   ...            ...              ...         ...               ...   \n",
       "564  ...          26.40           166.10      2027.0           0.14100   \n",
       "565  ...          38.25           155.00      1731.0           0.11660   \n",
       "566  ...          34.12           126.70      1124.0           0.11390   \n",
       "567  ...          39.42           184.60      1821.0           0.16500   \n",
       "568  ...          30.37            59.16       268.6           0.08996   \n",
       "\n",
       "     compactness_worst  concavity_worst  concave points_worst  symmetry_worst  \\\n",
       "0              0.66560           0.7119                0.2654          0.4601   \n",
       "1              0.18660           0.2416                0.1860          0.2750   \n",
       "2              0.42450           0.4504                0.2430          0.3613   \n",
       "3              0.86630           0.6869                0.2575          0.6638   \n",
       "4              0.20500           0.4000                0.1625          0.2364   \n",
       "..                 ...              ...                   ...             ...   \n",
       "564            0.21130           0.4107                0.2216          0.2060   \n",
       "565            0.19220           0.3215                0.1628          0.2572   \n",
       "566            0.30940           0.3403                0.1418          0.2218   \n",
       "567            0.86810           0.9387                0.2650          0.4087   \n",
       "568            0.06444           0.0000                0.0000          0.2871   \n",
       "\n",
       "     fractal_dimension_worst  Unnamed: 32  \n",
       "0                    0.11890          NaN  \n",
       "1                    0.08902          NaN  \n",
       "2                    0.08758          NaN  \n",
       "3                    0.17300          NaN  \n",
       "4                    0.07678          NaN  \n",
       "..                       ...          ...  \n",
       "564                  0.07115          NaN  \n",
       "565                  0.06637          NaN  \n",
       "566                  0.07820          NaN  \n",
       "567                  0.12400          NaN  \n",
       "568                  0.07039          NaN  \n",
       "\n",
       "[569 rows x 33 columns]"
      ]
     },
<<<<<<< HEAD
     "execution_count": 2,
=======
     "execution_count": 87,
>>>>>>> 104d26f96e50e44d222b2e3f2483806b63dac7c4
     "metadata": {},
     "output_type": "execute_result"
    }
   ],
   "source": [
    "data = pd.read_csv('./breast_cancer.csv')\n",
    "data"
   ]
  },
  {
   "cell_type": "code",
<<<<<<< HEAD
   "execution_count": 3,
=======
   "execution_count": 88,
>>>>>>> 104d26f96e50e44d222b2e3f2483806b63dac7c4
   "metadata": {},
   "outputs": [
    {
     "data": {
      "text/plain": [
       "(569, 33)"
      ]
     },
<<<<<<< HEAD
     "execution_count": 3,
=======
     "execution_count": 88,
>>>>>>> 104d26f96e50e44d222b2e3f2483806b63dac7c4
     "metadata": {},
     "output_type": "execute_result"
    }
   ],
   "source": [
    "data.shape"
   ]
  },
  {
   "cell_type": "code",
<<<<<<< HEAD
   "execution_count": 4,
=======
   "execution_count": 89,
>>>>>>> 104d26f96e50e44d222b2e3f2483806b63dac7c4
   "metadata": {},
   "outputs": [
    {
     "data": {
      "text/plain": [
       "Index(['id', 'diagnosis', 'radius_mean', 'texture_mean', 'perimeter_mean',\n",
       "       'area_mean', 'smoothness_mean', 'compactness_mean', 'concavity_mean',\n",
       "       'concave points_mean', 'symmetry_mean', 'fractal_dimension_mean',\n",
       "       'radius_se', 'texture_se', 'perimeter_se', 'area_se', 'smoothness_se',\n",
       "       'compactness_se', 'concavity_se', 'concave points_se', 'symmetry_se',\n",
       "       'fractal_dimension_se', 'radius_worst', 'texture_worst',\n",
       "       'perimeter_worst', 'area_worst', 'smoothness_worst',\n",
       "       'compactness_worst', 'concavity_worst', 'concave points_worst',\n",
       "       'symmetry_worst', 'fractal_dimension_worst', 'Unnamed: 32'],\n",
       "      dtype='object')"
      ]
     },
<<<<<<< HEAD
     "execution_count": 4,
=======
     "execution_count": 89,
>>>>>>> 104d26f96e50e44d222b2e3f2483806b63dac7c4
     "metadata": {},
     "output_type": "execute_result"
    }
   ],
   "source": [
    "data.columns"
   ]
  },
  {
   "cell_type": "code",
<<<<<<< HEAD
   "execution_count": 5,
=======
   "execution_count": 90,
>>>>>>> 104d26f96e50e44d222b2e3f2483806b63dac7c4
   "metadata": {},
   "outputs": [
    {
     "data": {
      "text/html": [
       "<div>\n",
       "<style scoped>\n",
       "    .dataframe tbody tr th:only-of-type {\n",
       "        vertical-align: middle;\n",
       "    }\n",
       "\n",
       "    .dataframe tbody tr th {\n",
       "        vertical-align: top;\n",
       "    }\n",
       "\n",
       "    .dataframe thead th {\n",
       "        text-align: right;\n",
       "    }\n",
       "</style>\n",
       "<table border=\"1\" class=\"dataframe\">\n",
       "  <thead>\n",
       "    <tr style=\"text-align: right;\">\n",
       "      <th></th>\n",
       "      <th>id</th>\n",
       "      <th>diagnosis</th>\n",
       "      <th>radius_mean</th>\n",
       "      <th>texture_mean</th>\n",
       "      <th>perimeter_mean</th>\n",
       "      <th>area_mean</th>\n",
       "      <th>smoothness_mean</th>\n",
       "      <th>compactness_mean</th>\n",
       "      <th>concavity_mean</th>\n",
       "      <th>concave points_mean</th>\n",
       "      <th>...</th>\n",
       "      <th>texture_worst</th>\n",
       "      <th>perimeter_worst</th>\n",
       "      <th>area_worst</th>\n",
       "      <th>smoothness_worst</th>\n",
       "      <th>compactness_worst</th>\n",
       "      <th>concavity_worst</th>\n",
       "      <th>concave points_worst</th>\n",
       "      <th>symmetry_worst</th>\n",
       "      <th>fractal_dimension_worst</th>\n",
       "      <th>Unnamed: 32</th>\n",
       "    </tr>\n",
       "  </thead>\n",
       "  <tbody>\n",
       "    <tr>\n",
       "      <th>0</th>\n",
       "      <td>842302</td>\n",
       "      <td>M</td>\n",
       "      <td>17.99</td>\n",
       "      <td>10.38</td>\n",
       "      <td>122.80</td>\n",
       "      <td>1001.0</td>\n",
       "      <td>0.11840</td>\n",
       "      <td>0.27760</td>\n",
       "      <td>0.3001</td>\n",
       "      <td>0.14710</td>\n",
       "      <td>...</td>\n",
       "      <td>17.33</td>\n",
       "      <td>184.60</td>\n",
       "      <td>2019.0</td>\n",
       "      <td>0.1622</td>\n",
       "      <td>0.6656</td>\n",
       "      <td>0.7119</td>\n",
       "      <td>0.2654</td>\n",
       "      <td>0.4601</td>\n",
       "      <td>0.11890</td>\n",
       "      <td>NaN</td>\n",
       "    </tr>\n",
       "    <tr>\n",
       "      <th>1</th>\n",
       "      <td>842517</td>\n",
       "      <td>M</td>\n",
       "      <td>20.57</td>\n",
       "      <td>17.77</td>\n",
       "      <td>132.90</td>\n",
       "      <td>1326.0</td>\n",
       "      <td>0.08474</td>\n",
       "      <td>0.07864</td>\n",
       "      <td>0.0869</td>\n",
       "      <td>0.07017</td>\n",
       "      <td>...</td>\n",
       "      <td>23.41</td>\n",
       "      <td>158.80</td>\n",
       "      <td>1956.0</td>\n",
       "      <td>0.1238</td>\n",
       "      <td>0.1866</td>\n",
       "      <td>0.2416</td>\n",
       "      <td>0.1860</td>\n",
       "      <td>0.2750</td>\n",
       "      <td>0.08902</td>\n",
       "      <td>NaN</td>\n",
       "    </tr>\n",
       "    <tr>\n",
       "      <th>2</th>\n",
       "      <td>84300903</td>\n",
       "      <td>M</td>\n",
       "      <td>19.69</td>\n",
       "      <td>21.25</td>\n",
       "      <td>130.00</td>\n",
       "      <td>1203.0</td>\n",
       "      <td>0.10960</td>\n",
       "      <td>0.15990</td>\n",
       "      <td>0.1974</td>\n",
       "      <td>0.12790</td>\n",
       "      <td>...</td>\n",
       "      <td>25.53</td>\n",
       "      <td>152.50</td>\n",
       "      <td>1709.0</td>\n",
       "      <td>0.1444</td>\n",
       "      <td>0.4245</td>\n",
       "      <td>0.4504</td>\n",
       "      <td>0.2430</td>\n",
       "      <td>0.3613</td>\n",
       "      <td>0.08758</td>\n",
       "      <td>NaN</td>\n",
       "    </tr>\n",
       "    <tr>\n",
       "      <th>3</th>\n",
       "      <td>84348301</td>\n",
       "      <td>M</td>\n",
       "      <td>11.42</td>\n",
       "      <td>20.38</td>\n",
       "      <td>77.58</td>\n",
       "      <td>386.1</td>\n",
       "      <td>0.14250</td>\n",
       "      <td>0.28390</td>\n",
       "      <td>0.2414</td>\n",
       "      <td>0.10520</td>\n",
       "      <td>...</td>\n",
       "      <td>26.50</td>\n",
       "      <td>98.87</td>\n",
       "      <td>567.7</td>\n",
       "      <td>0.2098</td>\n",
       "      <td>0.8663</td>\n",
       "      <td>0.6869</td>\n",
       "      <td>0.2575</td>\n",
       "      <td>0.6638</td>\n",
       "      <td>0.17300</td>\n",
       "      <td>NaN</td>\n",
       "    </tr>\n",
       "    <tr>\n",
       "      <th>4</th>\n",
       "      <td>84358402</td>\n",
       "      <td>M</td>\n",
       "      <td>20.29</td>\n",
       "      <td>14.34</td>\n",
       "      <td>135.10</td>\n",
       "      <td>1297.0</td>\n",
       "      <td>0.10030</td>\n",
       "      <td>0.13280</td>\n",
       "      <td>0.1980</td>\n",
       "      <td>0.10430</td>\n",
       "      <td>...</td>\n",
       "      <td>16.67</td>\n",
       "      <td>152.20</td>\n",
       "      <td>1575.0</td>\n",
       "      <td>0.1374</td>\n",
       "      <td>0.2050</td>\n",
       "      <td>0.4000</td>\n",
       "      <td>0.1625</td>\n",
       "      <td>0.2364</td>\n",
       "      <td>0.07678</td>\n",
       "      <td>NaN</td>\n",
       "    </tr>\n",
       "  </tbody>\n",
       "</table>\n",
       "<p>5 rows × 33 columns</p>\n",
       "</div>"
      ],
      "text/plain": [
       "         id diagnosis  radius_mean  texture_mean  perimeter_mean  area_mean  \\\n",
       "0    842302         M        17.99         10.38          122.80     1001.0   \n",
       "1    842517         M        20.57         17.77          132.90     1326.0   \n",
       "2  84300903         M        19.69         21.25          130.00     1203.0   \n",
       "3  84348301         M        11.42         20.38           77.58      386.1   \n",
       "4  84358402         M        20.29         14.34          135.10     1297.0   \n",
       "\n",
       "   smoothness_mean  compactness_mean  concavity_mean  concave points_mean  \\\n",
       "0          0.11840           0.27760          0.3001              0.14710   \n",
       "1          0.08474           0.07864          0.0869              0.07017   \n",
       "2          0.10960           0.15990          0.1974              0.12790   \n",
       "3          0.14250           0.28390          0.2414              0.10520   \n",
       "4          0.10030           0.13280          0.1980              0.10430   \n",
       "\n",
       "   ...  texture_worst  perimeter_worst  area_worst  smoothness_worst  \\\n",
       "0  ...          17.33           184.60      2019.0            0.1622   \n",
       "1  ...          23.41           158.80      1956.0            0.1238   \n",
       "2  ...          25.53           152.50      1709.0            0.1444   \n",
       "3  ...          26.50            98.87       567.7            0.2098   \n",
       "4  ...          16.67           152.20      1575.0            0.1374   \n",
       "\n",
       "   compactness_worst  concavity_worst  concave points_worst  symmetry_worst  \\\n",
       "0             0.6656           0.7119                0.2654          0.4601   \n",
       "1             0.1866           0.2416                0.1860          0.2750   \n",
       "2             0.4245           0.4504                0.2430          0.3613   \n",
       "3             0.8663           0.6869                0.2575          0.6638   \n",
       "4             0.2050           0.4000                0.1625          0.2364   \n",
       "\n",
       "   fractal_dimension_worst  Unnamed: 32  \n",
       "0                  0.11890          NaN  \n",
       "1                  0.08902          NaN  \n",
       "2                  0.08758          NaN  \n",
       "3                  0.17300          NaN  \n",
       "4                  0.07678          NaN  \n",
       "\n",
       "[5 rows x 33 columns]"
      ]
     },
<<<<<<< HEAD
     "execution_count": 5,
=======
     "execution_count": 90,
>>>>>>> 104d26f96e50e44d222b2e3f2483806b63dac7c4
     "metadata": {},
     "output_type": "execute_result"
    }
   ],
   "source": [
    "data.head()"
   ]
  },
  {
   "cell_type": "code",
<<<<<<< HEAD
   "execution_count": 6,
=======
   "execution_count": 91,
>>>>>>> 104d26f96e50e44d222b2e3f2483806b63dac7c4
   "metadata": {},
   "outputs": [
    {
     "data": {
      "text/html": [
       "<div>\n",
       "<style scoped>\n",
       "    .dataframe tbody tr th:only-of-type {\n",
       "        vertical-align: middle;\n",
       "    }\n",
       "\n",
       "    .dataframe tbody tr th {\n",
       "        vertical-align: top;\n",
       "    }\n",
       "\n",
       "    .dataframe thead th {\n",
       "        text-align: right;\n",
       "    }\n",
       "</style>\n",
       "<table border=\"1\" class=\"dataframe\">\n",
       "  <thead>\n",
       "    <tr style=\"text-align: right;\">\n",
       "      <th></th>\n",
       "      <th>id</th>\n",
       "      <th>diagnosis</th>\n",
       "      <th>radius_mean</th>\n",
       "      <th>texture_mean</th>\n",
       "      <th>perimeter_mean</th>\n",
       "      <th>area_mean</th>\n",
       "      <th>smoothness_mean</th>\n",
       "      <th>compactness_mean</th>\n",
       "      <th>concavity_mean</th>\n",
       "      <th>concave points_mean</th>\n",
       "      <th>...</th>\n",
       "      <th>texture_worst</th>\n",
       "      <th>perimeter_worst</th>\n",
       "      <th>area_worst</th>\n",
       "      <th>smoothness_worst</th>\n",
       "      <th>compactness_worst</th>\n",
       "      <th>concavity_worst</th>\n",
       "      <th>concave points_worst</th>\n",
       "      <th>symmetry_worst</th>\n",
       "      <th>fractal_dimension_worst</th>\n",
       "      <th>Unnamed: 32</th>\n",
       "    </tr>\n",
       "  </thead>\n",
       "  <tbody>\n",
       "    <tr>\n",
       "      <th>564</th>\n",
       "      <td>926424</td>\n",
       "      <td>M</td>\n",
       "      <td>21.56</td>\n",
       "      <td>22.39</td>\n",
       "      <td>142.00</td>\n",
       "      <td>1479.0</td>\n",
       "      <td>0.11100</td>\n",
       "      <td>0.11590</td>\n",
       "      <td>0.24390</td>\n",
       "      <td>0.13890</td>\n",
       "      <td>...</td>\n",
       "      <td>26.40</td>\n",
       "      <td>166.10</td>\n",
       "      <td>2027.0</td>\n",
       "      <td>0.14100</td>\n",
       "      <td>0.21130</td>\n",
       "      <td>0.4107</td>\n",
       "      <td>0.2216</td>\n",
       "      <td>0.2060</td>\n",
       "      <td>0.07115</td>\n",
       "      <td>NaN</td>\n",
       "    </tr>\n",
       "    <tr>\n",
       "      <th>565</th>\n",
       "      <td>926682</td>\n",
       "      <td>M</td>\n",
       "      <td>20.13</td>\n",
       "      <td>28.25</td>\n",
       "      <td>131.20</td>\n",
       "      <td>1261.0</td>\n",
       "      <td>0.09780</td>\n",
       "      <td>0.10340</td>\n",
       "      <td>0.14400</td>\n",
       "      <td>0.09791</td>\n",
       "      <td>...</td>\n",
       "      <td>38.25</td>\n",
       "      <td>155.00</td>\n",
       "      <td>1731.0</td>\n",
       "      <td>0.11660</td>\n",
       "      <td>0.19220</td>\n",
       "      <td>0.3215</td>\n",
       "      <td>0.1628</td>\n",
       "      <td>0.2572</td>\n",
       "      <td>0.06637</td>\n",
       "      <td>NaN</td>\n",
       "    </tr>\n",
       "    <tr>\n",
       "      <th>566</th>\n",
       "      <td>926954</td>\n",
       "      <td>M</td>\n",
       "      <td>16.60</td>\n",
       "      <td>28.08</td>\n",
       "      <td>108.30</td>\n",
       "      <td>858.1</td>\n",
       "      <td>0.08455</td>\n",
       "      <td>0.10230</td>\n",
       "      <td>0.09251</td>\n",
       "      <td>0.05302</td>\n",
       "      <td>...</td>\n",
       "      <td>34.12</td>\n",
       "      <td>126.70</td>\n",
       "      <td>1124.0</td>\n",
       "      <td>0.11390</td>\n",
       "      <td>0.30940</td>\n",
       "      <td>0.3403</td>\n",
       "      <td>0.1418</td>\n",
       "      <td>0.2218</td>\n",
       "      <td>0.07820</td>\n",
       "      <td>NaN</td>\n",
       "    </tr>\n",
       "    <tr>\n",
       "      <th>567</th>\n",
       "      <td>927241</td>\n",
       "      <td>M</td>\n",
       "      <td>20.60</td>\n",
       "      <td>29.33</td>\n",
       "      <td>140.10</td>\n",
       "      <td>1265.0</td>\n",
       "      <td>0.11780</td>\n",
       "      <td>0.27700</td>\n",
       "      <td>0.35140</td>\n",
       "      <td>0.15200</td>\n",
       "      <td>...</td>\n",
       "      <td>39.42</td>\n",
       "      <td>184.60</td>\n",
       "      <td>1821.0</td>\n",
       "      <td>0.16500</td>\n",
       "      <td>0.86810</td>\n",
       "      <td>0.9387</td>\n",
       "      <td>0.2650</td>\n",
       "      <td>0.4087</td>\n",
       "      <td>0.12400</td>\n",
       "      <td>NaN</td>\n",
       "    </tr>\n",
       "    <tr>\n",
       "      <th>568</th>\n",
       "      <td>92751</td>\n",
       "      <td>B</td>\n",
       "      <td>7.76</td>\n",
       "      <td>24.54</td>\n",
       "      <td>47.92</td>\n",
       "      <td>181.0</td>\n",
       "      <td>0.05263</td>\n",
       "      <td>0.04362</td>\n",
       "      <td>0.00000</td>\n",
       "      <td>0.00000</td>\n",
       "      <td>...</td>\n",
       "      <td>30.37</td>\n",
       "      <td>59.16</td>\n",
       "      <td>268.6</td>\n",
       "      <td>0.08996</td>\n",
       "      <td>0.06444</td>\n",
       "      <td>0.0000</td>\n",
       "      <td>0.0000</td>\n",
       "      <td>0.2871</td>\n",
       "      <td>0.07039</td>\n",
       "      <td>NaN</td>\n",
       "    </tr>\n",
       "  </tbody>\n",
       "</table>\n",
       "<p>5 rows × 33 columns</p>\n",
       "</div>"
      ],
      "text/plain": [
       "         id diagnosis  radius_mean  texture_mean  perimeter_mean  area_mean  \\\n",
       "564  926424         M        21.56         22.39          142.00     1479.0   \n",
       "565  926682         M        20.13         28.25          131.20     1261.0   \n",
       "566  926954         M        16.60         28.08          108.30      858.1   \n",
       "567  927241         M        20.60         29.33          140.10     1265.0   \n",
       "568   92751         B         7.76         24.54           47.92      181.0   \n",
       "\n",
       "     smoothness_mean  compactness_mean  concavity_mean  concave points_mean  \\\n",
       "564          0.11100           0.11590         0.24390              0.13890   \n",
       "565          0.09780           0.10340         0.14400              0.09791   \n",
       "566          0.08455           0.10230         0.09251              0.05302   \n",
       "567          0.11780           0.27700         0.35140              0.15200   \n",
       "568          0.05263           0.04362         0.00000              0.00000   \n",
       "\n",
       "     ...  texture_worst  perimeter_worst  area_worst  smoothness_worst  \\\n",
       "564  ...          26.40           166.10      2027.0           0.14100   \n",
       "565  ...          38.25           155.00      1731.0           0.11660   \n",
       "566  ...          34.12           126.70      1124.0           0.11390   \n",
       "567  ...          39.42           184.60      1821.0           0.16500   \n",
       "568  ...          30.37            59.16       268.6           0.08996   \n",
       "\n",
       "     compactness_worst  concavity_worst  concave points_worst  symmetry_worst  \\\n",
       "564            0.21130           0.4107                0.2216          0.2060   \n",
       "565            0.19220           0.3215                0.1628          0.2572   \n",
       "566            0.30940           0.3403                0.1418          0.2218   \n",
       "567            0.86810           0.9387                0.2650          0.4087   \n",
       "568            0.06444           0.0000                0.0000          0.2871   \n",
       "\n",
       "     fractal_dimension_worst  Unnamed: 32  \n",
       "564                  0.07115          NaN  \n",
       "565                  0.06637          NaN  \n",
       "566                  0.07820          NaN  \n",
       "567                  0.12400          NaN  \n",
       "568                  0.07039          NaN  \n",
       "\n",
       "[5 rows x 33 columns]"
      ]
     },
<<<<<<< HEAD
     "execution_count": 6,
=======
     "execution_count": 91,
>>>>>>> 104d26f96e50e44d222b2e3f2483806b63dac7c4
     "metadata": {},
     "output_type": "execute_result"
    }
   ],
   "source": [
    "data.tail()"
   ]
  },
  {
   "cell_type": "code",
<<<<<<< HEAD
   "execution_count": 7,
=======
   "execution_count": 92,
>>>>>>> 104d26f96e50e44d222b2e3f2483806b63dac7c4
   "metadata": {},
   "outputs": [
    {
     "name": "stdout",
     "output_type": "stream",
     "text": [
      "<class 'pandas.core.frame.DataFrame'>\n",
      "RangeIndex: 569 entries, 0 to 568\n",
      "Data columns (total 33 columns):\n",
      " #   Column                   Non-Null Count  Dtype  \n",
      "---  ------                   --------------  -----  \n",
      " 0   id                       569 non-null    int64  \n",
      " 1   diagnosis                569 non-null    object \n",
      " 2   radius_mean              569 non-null    float64\n",
      " 3   texture_mean             569 non-null    float64\n",
      " 4   perimeter_mean           569 non-null    float64\n",
      " 5   area_mean                569 non-null    float64\n",
      " 6   smoothness_mean          569 non-null    float64\n",
      " 7   compactness_mean         569 non-null    float64\n",
      " 8   concavity_mean           569 non-null    float64\n",
      " 9   concave points_mean      569 non-null    float64\n",
      " 10  symmetry_mean            569 non-null    float64\n",
      " 11  fractal_dimension_mean   569 non-null    float64\n",
      " 12  radius_se                569 non-null    float64\n",
      " 13  texture_se               569 non-null    float64\n",
      " 14  perimeter_se             569 non-null    float64\n",
      " 15  area_se                  569 non-null    float64\n",
      " 16  smoothness_se            569 non-null    float64\n",
      " 17  compactness_se           569 non-null    float64\n",
      " 18  concavity_se             569 non-null    float64\n",
      " 19  concave points_se        569 non-null    float64\n",
      " 20  symmetry_se              569 non-null    float64\n",
      " 21  fractal_dimension_se     569 non-null    float64\n",
      " 22  radius_worst             569 non-null    float64\n",
      " 23  texture_worst            569 non-null    float64\n",
      " 24  perimeter_worst          569 non-null    float64\n",
      " 25  area_worst               569 non-null    float64\n",
      " 26  smoothness_worst         569 non-null    float64\n",
      " 27  compactness_worst        569 non-null    float64\n",
      " 28  concavity_worst          569 non-null    float64\n",
      " 29  concave points_worst     569 non-null    float64\n",
      " 30  symmetry_worst           569 non-null    float64\n",
      " 31  fractal_dimension_worst  569 non-null    float64\n",
      " 32  Unnamed: 32              0 non-null      float64\n",
      "dtypes: float64(31), int64(1), object(1)\n",
      "memory usage: 146.8+ KB\n"
     ]
    }
   ],
   "source": [
    "data.info()"
   ]
  },
  {
   "cell_type": "markdown",
   "metadata": {},
   "source": [
    "### Exploratry Data Analysis"
   ]
  },
  {
   "cell_type": "code",
<<<<<<< HEAD
   "execution_count": 8,
=======
   "execution_count": 93,
>>>>>>> 104d26f96e50e44d222b2e3f2483806b63dac7c4
   "metadata": {},
   "outputs": [
    {
     "data": {
      "application/vnd.jupyter.widget-view+json": {
<<<<<<< HEAD
       "model_id": "43da52d5a3bd4a2685cafe97f1343ff1",
=======
       "model_id": "9e501a07ca574607a546bcfc257b1ccd",
>>>>>>> 104d26f96e50e44d222b2e3f2483806b63dac7c4
       "version_major": 2,
       "version_minor": 0
      },
      "text/plain": [
<<<<<<< HEAD
       "                                             |                                             | [  0%]   00:00 ->…"
=======
       "                                             |          | [  0%]   00:00 -> (? left)"
>>>>>>> 104d26f96e50e44d222b2e3f2483806b63dac7c4
      ]
     },
     "metadata": {},
     "output_type": "display_data"
    },
    {
     "name": "stdout",
     "output_type": "stream",
     "text": [
      "Report SWEETVIZ_REPORT.html was generated! NOTEBOOK/COLAB USERS: the web browser MAY not pop up, regardless, the report IS saved in your notebook/colab files.\n"
     ]
    }
   ],
   "source": [
    "report = sv.analyze(data)\n",
    "report.show_html()"
   ]
  },
  {
   "cell_type": "code",
<<<<<<< HEAD
   "execution_count": 9,
=======
   "execution_count": 94,
>>>>>>> 104d26f96e50e44d222b2e3f2483806b63dac7c4
   "metadata": {},
   "outputs": [
    {
     "data": {
<<<<<<< HEAD
      "image/png": "iVBORw0KGgoAAAANSUhEUgAAA90AAAPeCAYAAAARWnkoAAAAOXRFWHRTb2Z0d2FyZQBNYXRwbG90bGliIHZlcnNpb24zLjUuMiwgaHR0cHM6Ly9tYXRwbG90bGliLm9yZy8qNh9FAAAACXBIWXMAAA9hAAAPYQGoP6dpAAEAAElEQVR4nOzdeVxU1f/H8Rc7goALqICKliuCW5q2ama5YWalpZn7rlSW2WpZpl9LUzMNs8xMzdxSs8wdNTVtVct9w9RcUEGQGWEEfn+Y84sYSGGYjffz8eBRc++dez8z3ve9c2bOPdctOzs7GxERERERERGxOnd7FyAiIiIiIiLiqtToFhERERERESkianSLiIiIiIiIFBE1ukVERERERESKiBrdIiIiIiIiIkVEjW4RERERERGRIqJGt4iIiIiIiEgRUaNbREREREREpIh42rsAW8jKyiIp6SK+viVwc3OzdzkiVpOdnc2VK0ZKly6Du3vx+g5NuRZXVJwzDcq1uKbinGtlWlzVzea6WDS6k5IuMnRgX3uXIVJkpk7/hLJlg+1dhk0p1+LKimOmQbkW11Ycc61Mi6u70VwXi0a3r28J4NqbUqKEn52rEbEeo9HA0IF9zft4caJciysqzpkG5VpcU3HOtTItrupmc23XRveK5UtZ+c3XpKdfoW79Bgwc/DS//PwjU9+faF6mZEAAH386h+zsbObP+5xN8Rvw8PAg5qGHaRvz0A1t53p3lhIl/PDzU+DF9RTHLlvKtbiy4phpUK7FtRXHXCvT4upuNNd2a3Tv3rWTBfPn8eIrIylVujRj33qDVStX4OXlTc2atXnh5VcBcHO71kd+52+/sG7NKl59YzSXkpOZ8M4YoqLrUjmiir1egoiIiIiIiEi+7Nbo9vT0pGu37kTXrQdAaFgYl5Iv4enpSekyZfD3L5lj+X1791C9Ri1uvbUaAOXKlefA/n1qdIuIiIiIiIjDstsQipF1oszdw48nHOPwoYPcdc+9JCVd5NDBAwwZ0IeXXhjG77t3AZCSkoKvr6/5+X7+/qSkpFhct8lkwmAwmP+MRkPRvyARERERERGRf7H7QGoXLpxn/LgxtIvpQLXqNWjR8gEio6KpUaMWq7/7limTJhA341OLz82rC/3ypYtZsmhBEVYtRSUzMxOTyWTvMhyGl5cXHh4e9i7DqWmfykn7lIgUlo6rOem4Kq5Auc7J2rm2a6M7JSWFsaNHUScqms5dngQgNCycatVq4O3jQ6s27Vi3dhUXL14kICCAC+cTzc81Go0EBpWyuN4OHR+jbUyHfyxr0O0KHFx2djZnzpwhOTnZ3qU4nFKlSlGhQoViOQBLYWifypv2KREpCB1X86bjqjgr5Tpv1sy13RrdV4xG3h07muDgYLr16IXBkIabmzsT3hlLcHAIPXr3Y+uWzZQsGUCZMmWoHRnFmlUrOXTwAAaDgbNnzlC7dqTFdXt5eeHl5WXjVySFcT3s5cqVw8/PTyctrh0EDQYD586dAyA0NNTOFTkX7VO5FWafOp+YSGqq5Ut65OYEBAQSHBJi7zJEbpqOq7npXC3OTrnOrShybbdG944dP3DkyCEA+vfuDkBwSAjDR7zCzBnTGRY7kHLlK/DMcy/g6eVFg4a30bpNDOPHjcHD04PuPXsTXrGS1erJzMwEUPcgO8jMzDSHvWzZsvYux6GUKHHt3n/nzp2jXLlyDr9/ZmZmsmD+XDasWwNAg4aN6DdwCD/9uN3qtwL8rzq0T1lWkH3qfGIiw58dQnpGRlGXVyz4eHszYfI0NbyLkWkTxmBIScpzvl9gaYYMf9WGFd08HVfz5mznarGO/HLtDJkG5To/1s613RrdzZq3oFnzFhbnvTX2nVzT3Nzc6NKtO126dS/q0sTGrl8/ovs3Wnb9fTGZTA5/It/y/SY2rFvLCy+9RsmAAN4eNZIN69aQmZlp01sBap/K383uU6mpKaRnZDDkvtqEl9Z7WhinkgxMi99HamqKGt3FiCEliRfuqZjn/PHfn7RhNQWj42r+nOlcLdaRX66dIdOgXP8Xa+ba7gOpiVyn7iyWOdP78s8v09LSLuPp6YmHhwcXzp+3y60Anem9s6WCvi/hpf2oGhxg5WpExJnouGqZ3hdxZtp/LbPm+2K3W4aJFFTz5s2pUqUKP/zwA8HBwXz11Vf2LilfixcvJjg4mB07dti7FJsZ8fwz9O/dnQqhobR8sLXD3wpQ+5SIiHXpuCriepTrgtMv3eK06tWrR1xcHPfdd5+9S8nXfffdR1xcHHXr1rV3KTbz4isjOf3XKaZMeo9NGzc4za0AtU+J3Li4qe+zeVN8jmnly1fgtTdGEzftfY4eOUxoWDgDBscSYaXeK+J8dFwVcT3K9c1To1uclp+fH506dbJ3Gf+pbNmyTlGnNRw/nsCl5GTq1qtP2bLBREZFsXfPH9Sr/5RT3ApQ+5TIjevdbyDde/UxP544fhy33FqNuXNm4ePjy/iJH7B44XxmxE1lzLgJdqzUOlxhMDR70HFVxPUo1zdP3cvF4f3000/UrVuXgIAAHnnkEfN9BDdu3IibmxufffYZAKmpqfTv35/g4GACAwOJiYnhxIkT5vWsX7+eWrVqERAQQMeOHWnXrh1VqlQB4LPPPsPNzY333nuPmjVrUrJkSTp16oTRaDQ//7PPPqNmzZr4+vrSoEED1q9fb5534cIFnnzyScqWLUtwcDBPPfUUFy5cyLHujRs3ApCQkED79u0JCgoiNDSU2NhYrly5UnRvoA39mXCMSRPGcejgAU6c+JNDBw9QpWpVJrwzlmkfTObixYu5bgV48MB+Dh08wK6dv/3nrQD9/PzMfyVKFHzQD+1TIoXn4+ODv39J/P1LcuH8eQ7s30er1u3Yt3cPd9/bjOCQEJq3aMnRI4dJT0+3d7mFdn3QpLz+8muQFwc6roq4HuXaetToFodmMpl49NFHOXHiBCNGjMDX15ddu3ZZXHbo0KF89tlnPPXUU7zwwgts3LiRvn2v/RKalJREx44dSU5O5uWXX8bPz4+VK1fmWsfEiRN56qmnaNWqFYsXL2b27NkALFmyhF69elG5cmVGjRpFamoqMTExHD161LztRYsWMWjQIPr27cv8+fMZPHiwxTq7dOnC5s2bGTFiBA8//DBTp07ljTfesMbbZXd339uc+x9oxfhxY3jr9VdpeFtjHmzVlv4Dh5B08SLDYgfy8087LN4KcPqHU6x+K0BLtE+JWN83K5bT6PYmBIeEkPqPsRr8/f0BSLXDWA1iOzquirge5dq61L1cHNqqVas4ceIEH3/8sTm8Bw8e5Pz587mWjY2NJTY2lvr165OYmMgvv/zC2rVrAZg3bx6pqal8+eWXtG3bFoDDhw9z9uzZHOv48MMP6dChA6mpqXz11Vf8/vvvALz33nuEhoaycuVKvLy8iImJITo6mqlTpzJx4kT++OMPatSowdtvvw1AtWrVzN8G/tsff/zBvffey6uvXuuGeOutt1KqVKlCv1eOwM3NjW7de9Gte68c0yOqVHWYWwFqnxKxrosXLrBty/eMHDU6z2XsOVaDrZw6dYrxrw+3OO/MqZNA3rcMc3Y6roq4HuXautToFod26NAhAJo0aWKeVrJkSYuBL1euHAMHDmTNmmv3hba0nrvvvts87fpN7/8pKCgIgICAa7dFSktLA2DXrl20atUKLy8vAKKioihTpgz79+8H4Pnnn6dfv35ERkbSvn17Hn30UW6//XaLr2nEiBG8/vrrNG7cmHbt2tG5c2ciIy13qRbr0z4lYl3ffbuCiCpVqFmrNgABAYHm/fx698CAwCCLz7XFWA224pZpyvOevcPmJdi2GBvTcVXE9SjX1qXu5eLQ3N2v7aI3ckP6Xr16sXHjRsaMGcOyZcu4//77C7QeS3x8fHI9Nysry7zenj17sm/fPrp3784PP/xAkyZNGDlypMV1jRw5kp07d9K2bVu+/vproqOjmTFjRoHqkpunfUrEegwGA+vXraFNu/bmabUj6/D9pnjOJyayMX491avXxNvb2+LzrTlWg9iPjqvirKZNGMP414db/Js2YYy9y7Mr5dq61OgWh1a9enUAfvzxR/O01NRUi8v++OOPtGnThhdffJEOHTpQunRp87waNWoAsHXrVvO069+g3YioqCh27NjB1atXAdizZw/JyclER0eTmppKt27d2Lp1Ky+99BKbN2+mTZs2TJo0Kdd6jh07Rrdu3Th16hRvvvkmv/zyC7Vq1WLKlCk3XIsUjvYpEetZv3Y1Pr4+NL3jLvO0bt17kZmZxfBhsSQcO0q/gZavrRPXoeOqOKv8Bkgs7oMjKtfWpe7l4tBatWpFpUqVeO655zh58iR//PEHv/76KxEREbmWjY6OZu3atYwdO5YjR46wePFi4NpAEF27duXll1+mR48exMbGsnv3bn7++WeL67FkxIgRtG/fnrZt23L//fczc+ZM/Pz86N+/PwEBAezbt4/ly5dz9OhRvL292bZtG1FRUbnWExoaSnx8POvWreOZZ54hLS2NQ4cO8cgjjxTujZIbpn1KxHrad+hI+w4dc0wLDgnJ9/pucT06roq4HuXauvRLtzg0T09PlixZQsWKFRk3bhxGo5HWrVtbXHbWrFnUrVuXsWPHkpCQQK9e1wbzOnr0KEFBQSxdupSgoCD+97//kZGRQXR09A13dYmJiWH69OkcOnSIN954g9KlS7N69WqqVq0KwPLly3nwwQeZNGkS48eP595772X+/Pm51uPr68vatWuJjo7m7bff5qOPPqJz585MmzatgO+Q3CztUyIi1qXjqojrUa6tS790i8Nr3Lgxu3fvtjgvOzvb/P81a9Zky5YtOeZ/+umn5v+vVKmSedAFk8lERESEefCEnj170rNnzzzXDTBgwAAGDBhgsY6KFSuyZMkSi/P+ve7IyEjziI5iH9qnRESsS8dVEdejXFuPGt1SLCQlJdGgQQMeeOAB7rzzTtasWcPp06cZP368vUsTJ6V9SkTEunRcFXE9yvU1anRLsVC6dGk++ugj/ve///Hdd99RpUoVpk+fzpNPPmnv0sRJaZ8SEbEuHVfFkZw6dYrxrw/Pc/6ZUycBy7cJlP+nXF+jRrcUG127dqVr1672LkNciPYpERHr0nFVHIVbpokX7sm7UT1sXoLtinFyyrUa3SIiIiIi8rf/vT2K3bt2mh+3a9+B1m1iiJv2PkePHCY0LJwBg2OJiKhitxpFnI0a3SIiIiIiAly7BrdX3/7cdfe9AHh5efPh1Mn4+PgyfuIHLF44nxlxUxkzboKdKxVxHrplmIiIiIiIAJCclES5cuXx9y+Jv39JvL292bd3D3ff24zgkBCat2jJ0SOHSU9Pt3epIk5DjW4REREREeGqycTly6nMmzObwf17M2nCO6SmppCakoKvry8A/v7+AKSmpOR6vslkwmAwmP+MRoNN6xdxVOpeLiIiIiIi4OZGzz79qFAhDD8/P6Z9MJnFC7/Ma9Fcli9dzJJFC4q4SBHno0a3iIiIiIiQlZVFo0ZNKFO2LACNGt/O4UOHCAgIJC0tDQCj0QhAQGBQrud36PgYbWM6mB8bjQaGDuxrg8pFHJu6l4tYkZubG25ubnz66ae55q1bt848PyEhwfbFiVPSPiUiYn06tlp29sxphgzsww9bt3D27Bl279pJ5YgIakfW4ftN8ZxPTGRj/HqqV6+Jt7d3rud7eXnh5+dn/itRws8Or0KKI0fPtH7pFqdyPjGR1NTc1xAVlYCAQIJDQm76eQsWLKB37945pi1cuNBaZTmszMxMFsyfy4Z1awBo0LAR/QYOIeXSJYu3GsnOzmb+vM/ZFL8BDw8PYh56mLYxD9m0Zu1TIiLWZ8tja0GPq6Bj679VqhxBj959mfv5LIxGA9F169Hp8a5cMRqJmzaF4cNiCQsPZ9CQp+1dqtiYPi8Vjhrd4jTOJyby3LNDMWXYbrRML28fJk6eelOh9/X1ZcOGDVy4cIGyf3fPunr1KkuXLqVEiRLmblmuaMv3m9iwbi0vvPQaJQMCeHvUSDasW8P+/Xst3mpk52+/sG7NKl59YzSXkpOZ8M4YoqLrUtlG9/7UPiUiYn22PrYW5LgKOrbmpXWbGFq3ickxrWTJkowcNdpOFYm96fNS4anRLU4jNTUFU0Y6oa0G410mvMi3l3HxFKdXf0hqaspNBb5ly5Z88803fPXVV/Tr1w+ADRs2cP78edq3b8+KFSuKqmS7a9a8Bc2atwAgLe0ynp6eeHh4sG/vHnr06mu+1cibr79Ceno6+/buoXqNWtx6azUAypUrz4H9+2zW6NY+JSJifbY8thb0uAo6torcKH1eKjw1usXpeJcJx7dcVXuXkafy5cvTtGlTFixYYA78ggULCA0NpXHjxsXiJD7i+Wc4dfIEkXWiaPlga2bNnGHxViMp/7gFCYCfvz8pFm5BAtduQ2IymcyPrXkbEu1TIgWTlZnJsmVL2BS/nvDwSox4+TXOJyZavJxEih8dW0VcizJdcBpITcTKrly5wuOPP87GjRtJTEzEZDKxbNkyOnfuTEZGhr3Ls4kXXxnJy6+9wfGEBDZt3GBxGUu3Gslv+vKli+nTo6v5rziNhqp9ShzV7M9msnbVd3R7qheDhz4DwNw5s8yXk1SuHMGMuKl2rlLEMh1bRVyLI2faro3uFcuXMqhfL3p378Lkie9y5coVzicmMnrUa/R66gleefF5jh9PACA7O5sv5s5mQJ8eDO7fm5XffG3P0kXydOXKFTp37kx2djZLlixh3bp1XLx4kSeeeMLlrw87fjyB3bt2UrZsMFHR9YiMimLvnj/yvNVIQEAABkOa+flGo5HAoFIW192h42PMnP2F+W/q9E+K/PU4iuK8T4njSk5OZv3a1fTpP5DGTZpSMiAAgH1793D3vc3Ml5McPXKY9HTbXQcocqN0bBVxLY6cabs1unfv2smC+fMYHPssb455hwP79rFq5Yo8vyG/PuDSiFdG0nfAYOZ+Pos//26QiziS9PR0wsLCuOeee1i4cCELFy6kSpUqNG3a1OU/eP6ZcIxJE8Zx6OABTpz4k0MHD1ClatU8bzVSOzKKgwf2c+jgAXbt/I2zZ85Qu3akxXUX59uQFOd9ShzXkcMHycrKYvu2rQwZ2IdxY97iwoXzpP7jspF/Xk5iiclkwmAwmP+sedmIyH/RsVXEtThypu12Tbenpyddu3Unum49AELDwriUfMlhB1wSuVHZ2dkAPPHEEwwZMgR/f38GDx6cY56ruvve5hw/nsD4cWPIzs6m6Z138WCrttx++x0WbzXSoOFttG4Tw/hxY/Dw9KB7z96EV6xk51fheIrzPiWO61rvFTdq1KpFu4ceZkbcVObNmW1x2fwuG1myaEHRFSmSDx1bRVyLI2fabo3uyDpRRNaJAuB4wjEOHzpI1249WL3qW4cecEnkRj322GPExsaSmprKE088Ye9ybMLNzY1u3XvRrXuvHNODQ0Is3mrEzc2NLt2606Vbd1uV6NSK4z4ljiswMAhvb28ebNUWgDvuupvNG+PzvJzEkg4dH6NtTAfzY6PRUKzGaxDHoGOriGtxxEzbffTyCxfOM37cGNrFdKBa9RoWlynIgEv65tx1ZVw85RTbCQ4O5v777ychIYH69etbpygpEtqnRG5ejRo18fLyYvV339Lwtkb8/OMOqla9BZPJxPeb4qldu06Oy0ks8fLywsvLy8aVi63Y4thqjW3o2CpyY/R5qeDs2uhOSUlh7OhR1ImKpnOXJwHyHXDpwvlE83P/a8AlfXPuegICAvHy9uH06g9ttk0vbx8CAgJvePl/d11ZtWpVjsdTp05l6lSN5OsotE+JFJyfvz/Dho9g1syP+fKLOUTWiaJbj16YMkwWLyeR4sPWx9abPa6Cjq0iN0OflwrPbo3uK0Yj744dTXBwMN169MJgSMPNzd084NK/vyGvHRnFmlUrOXTwAAaD4T8HXNI3564nOCSEiZOnkppq+bKCohAQEEhwSIjNtie2pX1KpHAi60QzfuKUXNMtXU4ixYetj606rooULX1eKjy7Nbp37PiBI0cOAdC/97XrOYNDQnjjzbEacEnyFBwS4lIBFPvTPiUiYn06toq4FmW6cOzW6G7WvAXNmrewOE8DLomIiIiIiIgrsNt9ukVERERERERcnRrdIiIiIiIiIkVEjW4RERERERGRImL3+3SLiIiIiIhY27QJYzCkJOU5/8ypk0BF2xUkxZYa3SIiIiIi4nIMKUm8cE/ejeph8xJsV4wUa+peLiIiIiIiIlJE1OgWsSI3Nzfzn7e3NzVq1GDs2LFkZmbauzRxUtqnRESsT8dWEdfi6JlW93JxKucTE0lNTbHZ9gICAgkOCbmp51SvXp3nnnuOjIwMvvnmG1599VU8PT0ZMWJEEVUphaF9SkTE+mx5bC3IcRV0bBW5Gfq8VDhqdIvTOJ+YyPBnh5CekWGzbfp4ezNh8rSbCn1YWBgDBw4EoH///pQtW5Zly5Y5ROAlJ+1TIiLWZ+tja0GOq6Bjq8iN0uelwlOjW5xGamoK6RkZDLmvNuGl/Yp8e6eSDEyL30dqakqBvkEH8PX1xcfHh8uXL1u5OrEG7VMiItZny2OrNY6roGOrSH70eanw1OgWpxNe2o+qwQH2LiNP6enpnDx5koyMDD777DOSkpJ48cUX7V2W5EP7lIiI9enYKuJalOmCU6NbxMq2b99OpUqVzI8bNmzI0KFD7ViRODvtUyIi1qdja94mv/cuO7ZvY/6iZZxPTCRu2vscPXKY0LBwBgyOJSKiir1LFMnFkTOt0ctFrCwqKooVK1awYsUKxo0bx+7du+nWrZu9y7KZFcuXMqhfL3p378Lkie9y5coVtm7ZTJdOD5v/+vV+CoDs7Gy+mDubAX16MLh/b1Z+87Wdq3dMxX2fEhEpCjq2WvbzTz/y04/bzY/nzpmFj48v4yd+QOXKEcyIm2rH6kTy5siZ1i/dIlZWtmxZYmJiAIiJiWHLli0sW7aM5ORkSpUqZd/iitjuXTtZMH8eL74yklKlSzP2rTdYtXIFXl7e1KxZmxdefhUAN7dr3/ft/O0X1q1ZxatvjOZScjIT3hlDVHRdKusb9ByK8z4lIlJUdGzNzWAwMGvmR7Rq047vvl0BwL69e+jRqy/BISE0b9GSN19/hfT0dHx8fOxcrUhOjpxpNbpFitjly5dxd3cvFicnT09PunbrTnTdegCEhoVxKfkSnp6elC5TBn//kjmW37d3D9Vr1OLWW6sBUK5ceQ7s36dG938oTvuUOLb/vT2K3bt2mh+3a9+B1m1i1BVVnJKOrTB/7udE161PVHRdc6M7NSUFX19fAPz9/c3TfCwMcGUymTCZTObHRqPBBlWLWOZImVajW8TK/vrrL6ZPn05WVhY//fQTGzdupH379pQoUcLepRW5yDpRRNaJAuB4wjEOHzpI1249WLXyGw4dPMCQAX0ICAzkyad6El23Hin/OJED+Pn7k5Ji+R6QxflEXpz3KXFsSUlJ9Orbn7vuvhcALy9vPpw62dwVdfHC+cyIm8qYcRPsXKlIbjq25rR/315+/mkH4ydO4eDB/fku6+ZmefrypYtZsmhBEVQn8t8cOdNqdIvTOZVkm8ZWQbdz6NAhBg0ahLu7O2FhYQwYMICxY8dauTrHduHCecaPG0O7mA5Uq16DFi0fIDIqmho1arH6u2+ZMmkCcTM+tfhce5zItU+JFExyUhLlypXP0YtFXVHlOlscWwuzDR1bc1q6ZBGpqak8M3QAmZlZAPTp0ZWAgEDS0tIAMBqNAAQEBllcR4eOj9E2poP5sdFoYOjAvkVcudiKPi8VnBrd4jQCAgLx8fZmWvw+m23Tx9ubgIDAG14+Ozu7CKtxDikpKYwdPYo6UdF07vIkAKFh4VSrVgNvHx9atWnHurWruHjxIgEBAVw4n2h+rtFoJDColMX1FsWJXPuUSMFdNZm4fDmVeXNmMyNuGtVr1KTvgEHqiio2P7be7HEVdGy1ZNCQpzGZMgD444/fmRE3lXHjJzFvzmy+3xRP7dp12Bi/nurVa+Lt7W1xHV5eXnh5edmybLEBfV4qvAI3urOysrhiNOLn7092djYJx45Srnz5XNdsilhLcEgIEyZPIzXVcvfjohAQEEiwhQ+Krqqwub5iNPLu2NEEBwfTrUcvDIY03NzcmfDOWIKDQ+jRux9bt2ymZMkAypQpQ+3IKNasWsmhgwcwGAycPXOG2rUjLa67KE7k2qekOCv0edzNjZ59+lGhQhh+fn5M+2Ayixd+mdeiFqkrqmuy9bFVx9VrCpvpUqVLm/8/KOhPAELKladb917ETZvC8GGxhIWHM2jI00VSvzgufV4qvAI1uv88nsC7/3ubZs1b8GjnJxjz1uvs27sXHx9vXnjpNfM1nSLWFhwS4lIBdCTWyPWOHT9w5MghAPr37g5c+zcbPuIVZs6YzrDYgZQrX4FnnnsBTy8vGjS8jdZtYhg/bgwenh5079mb8IqV8tuE1WmfkuLIGnnPysqiUaMmlClbFoBGjW/n8KFD6ooqgI6ttmbtz+YNb2vM/EXLgGv/liNHjS6CqsWZKNOFU6BG9+xZM8nMzCQyKppff/mZgwf20+XJp9i8KZ4v583hrbHvWLtOESli1sh1s+YtaNa8hcV5lp7v5uZGl27d6dKte6HrF5EbZ428nz1zmhHPP8PTzw7nlmrV2L1rJ7VqRxIUFKSuqCI2ps/mIo7NvSBPOnb0MO3ad6BOVDS//fITtzW+nfYdOnJfi5b8+edxa9coIjagXIsUH9bIe6XKEfTo3Ze5n8/i5ReGUaFCBTo93pVu3XuRmZnF8GGxJBw7Sr+Bg4v41YiIzuEijq1Av3SX8PPjzz+Pk5qawi8//2QeLOmvv05Rws/+Q7KLyM1TrkWKD2vlvXWbGFq3ickxrWTJkuqKKmJjOoeLOLYC/dLdvPn9bNm8kQF9epKVlUXTpncyf94cNqxbw913N7N2jVJMOPqog/Ziq/fFFXOtfcoyvS/iinkX29DxwzJ7vy/KtBSGvfdfR2XN96VAv3R3eqIrpcuW5eSJP2lx/wP4/X1LkDbt2vP439+sidyo69fzGQwGh7h5vaMxGK7dQqeor3t0pVxrn8qfrfYpcVyulHexDR1X82fv46oyLQWhXOfPmrku8C3DWj7QKsfjLk8+VehipHjy8PCgVKlSnDt3DgA/Pz/c8rq/TDGSnZ2NwWDg3LlzlCpVCg8PjyLfpqvkWvuUZfbYp8RxuUrexTZ0XLXMkY6ryrTcLOXasqLI9Q03uufN+Yz7W7aiQmgo0z/8IM/l3IABg2MLXZgULxUqVAAwh17+X6lSpczvj7W5cq61T+WtKPcpcVyunHexDR1X82aP46oyLdagXOfNmrm+4Ub3D1u3UCcqmgqhoWzeuCGfJd0UbLlpbm5uhIaGUq5cOUwmk73LcRheXl5F+q25K+da+5RlRb1PieNy5byLbei4apm9jqvKtFiDcm2ZtXN9w43uSR/Emfuzf7FwqVU2fulSMlu3bGbzxniGxD5LpcoRbN2ymanvTzQvUzIggI8/nUN2djbz533OpvgNeHh4EPPQw7SNecgqdYjj8PDwUIPAhooi145G+5TINcUh72IbOq46BmVarEm5Llo33Oj+9wXkqakpXDEaCSlXnitGI7t37yS8YiXCwyve0PqMRiOxg/pTpUpVjiccM09PTkqiZs3avPDyqwC4uV0bYH3nb7+wbs0qXn1jNJeSk5nwzhiioutSOaLKjb4EEfkXa+daRByX8i7iWpRpEedRoIHU9u75g/feHUvrNjF0fLQTI199kVMnT+Du7k7ss8/TpOmd/7kOb29vPoibQUZ6Ok8PGWCenpyUROkyZfD3L5lj+X1791C9Ri1uvbUaAOXKlefA/n1qdItYiTVyLSLOQXkXcS3KtIhjK1Cj+4u5swkKKkXjJk3ZseMHziee4+lhw1n5zdd8tXjhDQXbw8ODoKBSJJ47m2N6UtJFDh08wJABfQgIDOTJp3oSXbceKSkp+Pr6mpfz8/cnJSXF4rpNJlOOaxKMRkNBXqZIsWKNXIuIc1DeRVyLMu1c3nlvIkkpaRbnlQ7058Xnn7NxRVLUCtToPnniBJ27dKVK1Vv4dsVyGje5g6Z33EVyUhLz531eqIJatHyAyKhoatSoxervvmXKpAnEzfjU4rJ5jWi/fOlilixaUKg6RIqbosy1iDgW5V3EtSjTziUpJQ3fB563PG/tezauRmzBvSBPKlWqFHt+383RI4f57defqVevPgAH9u8jKKhUoQoKDQvn7rvvpWKlSrRq047Ll1O5ePEiAQEBGAz//42Q0WgkMI9tdej4GDNnf2H+mzr9k0LVJFIcFGWuRcSxKO8irkWZFnFsBfqlu0279sye9Qm//forISEhNG5yBx9Pn8aO7dt4vEu3QhU04Z2xBAeH0KN3P7Zu2UzJkgGUKVOG2pFRrFm1kkMHD2AwGDh75gy1a0daXIeXl1euwSVEJH9FmWt7OZ+YSGqq5ctQ5MadOnXS3iWIlbli3kWKM2VaxLEVqNHdqk07KoSGcfLEn9xx1z14e3sTFl6R7r360LpNTKEK6j9wCDNnTGdY7EDKla/AM8+9gKeXFw0a3kbrNjGMHzcGD08PuvfsTXjFSoXaloj8v6LMtT2cT0zkuWeHYspIt3cpLiEbSDZk2LsMsRJXy7tIcadMizi2AjW6AerVb0C9+g1ISUnhcmoq7dp3KNB6QsqVZ/6iZebHEVWq8tbYd3It5+bmRpdu3enSrXtBSxaR/2CtXDuC1NQUTBnphLYajHeZcHuX49SSThwkZcts0tKv2rsUsSJXyruIKNMijqxAje7s7Gy+XvYV36xYRtrla9dZly5dmjYx7Ylp/7A16xMRG7FWrlcsX8rKb74mPf0Kdes3YODgp7mcmkrctPc5euQwoWHhDBgcS0REFbKzs5k/73M2xW/Aw8ODmIcepm3MQ1Z9Xd5lwvEtV9Wq6yxuPPK4U4Q4L53HRVyLMi3i2ArU6F604AuWfbWYW26pRq3mkWRnZbN//16+mPM5mVcz6dDxUWvXKSJFzBq53r1rJwvmz+PFV0ZSqnRpxr71BqtWriAh4Rg+Pr6Mn/gBixfOZ0bcVMaMm8DO335h3ZpVvPrGaC4lJzPhnTFERdelckSVon/BIsWYzuMirkWZFnFsBWp0x29Yx+1N7uDZ50fkmD75vXdZu/o7BVvECVkj156ennTt1p3ouvUACA0L41LyJfbt3UOPXn0JDgmheYuWvPn6K6Snp7Nv7x6q16jFrbdWA6BcufIc2L9PjW6RImbN8/jk995lx/ZtzF+0jPOJiRZ7tYhI0dJncxHHVqBbhhkNRqrecmuu6VVuucVpRwrOzMwkMzPT3mWI2I01ch1ZJ8rcPfx4wjEOHzrIXffcS2pKCr6+vgD4+/sDkJqSQso/pgP4+fuTkkdXZpPJhMFgMP8ZjYaben0i8v+sdR7/+acf+enH7ebHc+fMMvdqqVw5ghlxU61Sr4jkzxU/m4u4kgL90l2jZk1WffcNEVWqUqtWbdzd3dm/fx9rvltJteo1rV2jiNiANXN94cJ5xo8bQ7uYDlSrXsPiMm5ulp+b1/TlSxezZNGCm6pDRCyzRt4NBgOzZn5Eqzbt+O7bFQB59mrx8fEpypcjUuzps7ljOfDXRV56Y3Se80/+dZpqNqxH7K9Aje5efQfw9qiRvPu/t3NML1OmDL379rdKYSJiW9bKdUpKCmNHj6JOVDSduzwJQEBAIGlp1wZ2MRqN16YFBhEQEMCF84nm5xqNRgKDSllcb4eOj9E2psM/ljUwdGDfG65LRP6fNfI+f+7nRNetT1R0XXOjO69eLT4hIRbXYTKZMJlM5sfqwSJSMPps7ljSs9zxfeD5POdnfjrMhtWIIyhQozs0NIwJk6eybctm/jx+HE8vTypVjuDOv+8LKCLOxxq5vmI08u7Y0QQHB9OtRy8MhjTc3NypHVmH7zfFU7t2HTbGr6d69Zp4e3tTOzKKNatWcujgAQwGA2fPnKF27UiL6/by8sLLy8uaL1mk2Cps3vfv28vPP+1g/MQpHDy4P99l8+q9AurBct2pU6cY//pwi/P8AkszZPirNq5InI01zuGZmZksmD+XDevWANCgYSP6DRxCyqVLGqtBpJAKfJ/uEiVKcP8DraxZi4jYWWFzvWPHDxw5cgiA/r27AxAcEsIbb44lbtoUhg+LJSw8nEFDngagQcPbaN0mhvHjxuDh6UH3nr0Jr1ip8C9ERP5TYfK+dMkiUlNTeWboADIzswDo06Nrnr1a8qIeLNe4ZZp44Z6KFueN//6kjasRZ1XYc/iW7zexYd1aXnjpNUoGBPD2qJFsWLeG/fv3WrwDieQtIz2drfFr85wfmJGR57y/Tp3Mt2t66UB/Xnz+uULVJ7ZXoEb3kSOHmf3px5z48zjp6Tl3Gjc3mLfgK6sUJyK2Y41cN2vegmbNW1icN3JU7hOIm5sbXbp1p0u37gUrWkQKpLB5HzTkaUyma8/744/fmRE3lXHjJzFvzmyLvVryoh4sItZh7XN4WtplPD098fDw0FgNBZLNXZUD85y7e392nvNMWeTbNT1p7XuFqkzso0CN7unTpnDu7BnqN7iNEiVKWLsmEbED5Vqk+Chs3kuVLm3+/6CgPwEIKVeebt17WezVIiJFy5rn8BHPP8OpkyeIrBNFywdbM2vmjBseq0HjNIhYVqBG97mzZ+jQ8VEeeexxa9cjInaiXIsUH9bMe8PbGjN/0TLg2uUklnq1iEjRsmamX3xlJKf/OsWUSe+xaeMGi8s40p1Gpk0YgyElyeK8M6dOApYv3RCxpQI1uqPr1ifpouWdW0Sck3ItUnwo7yKuxRqZPn48gUvJydStV5+yZYOJjIpi754/bmqsBnuM02BIScpzTIRh8xKKdNsiN6pAjW5/f3/Wr1tDSsolSvj55ZjnBgwYHGuN2kTEhpRrkeJDeRdxLdbI9J8Jx/j0k494ZeSb+JYowaGDB2jXvgMZ6ek3PFaDxmkQsaxAje7vN28E4Kcft1uY66aTtYgTUq5Fig/lXcS1WCPTd9/bnOPHExg/bgzZ2dk0vfMuHmzVlttvv0NjNYgUUoEa3V8sXGrtOkTEzpRrkeJDeRdxLdbItJubG92696Jb9145pmusBpHCK1Cje9/ePXnOc3d3J6RcecqUKVPgokTE9pRrkeJDeRdxLcq0iGMrUKN79KjXuHaFSN6i69Yj9pnnKBkQUJBNiIiNKdcixYfyLuJalGkRx1agRneHhx9l3drVdO7ypHkghfQrV1j45Txua3Q7gYFBrF61ki/mzqb/oKFWLVhEioZyLVJ8KO8irkWZFnFsBWp0//zzj7Rq244HHmydY3pKyiV2bP+B8ROnkJWdxbat31ulSBEpesq1SPGhvIu4FmVaxLG5F+RJiefOcikpOdf0S8mXSDx3DoCSJQNIv5JeqOJExHaUa5HiQ3kXcS3KtIhjK9Av3dF167N+3RrSDGnUrFkLd3d3DhzYz7Ytm2l8e1MMBgNbvt9Enahoa9crIkVEuRYpPpR3EdeiTDuX7OwstsavtTgvMCPDxtWILRSo0T1gcCyfffox27dtYfu2LQC4u3twb7P76N6zD1evXuWWW27lsce7WLVYESk6yrVI8aG8i7gWZdr53FU50OL03fuzbVyJ2EKBGt0lS5Zk6NPD6N13AOfOnsHN3Z1y5cpTokQJ8zJDnh5mtSJFpOgp1yLFh/Iu4lqUaRHHVqBGN8D5xESOHDlEevq1a0OOJxwj8+pVzp09y+Ndu1mtQBGxHeVapPhQ3kVcizIt4rgK1Oj+6cftfDB5IlevXv3H1Gyu3x9QwRZxPsq1SPGhvFs2bcIYDClJFuedOXUSqGjbgkRukDIt4tgK1OheMH8elSMiaNOuPdOmTOKJrk9RsVJlPvnoQ9rGPGTtGkXEBqyV60uXktm6ZTObN8YzJPZZKlWOYOuWzUx9f6J5mZIBAXz86Ryys7OZP+9zNsVvwMPDg5iHHtYxRMQGdB63zJCSxAv3WG5YD5uXYNtiRG6CMi3i2Ap0y7BzZ89y5133UK9eAwDKV6hAw9sa0fLBVqxbs8qqBYqIbVgj10ajkdhB/dm+dSvHE46ZpycnJVGzZm0++Wwun3w2l/enfgTAzt9+Yd2aVYx4ZSR9Bwxm7uez+PN4gtVfm4jkpPO4iGtRpkUcW4Ea3eXKlWPXzl/x9PLCz8+fHT9s48qVK5w5fZq0tDRr1ygiNmCNXHt7e/NB3Axin30ux/TkpCRKlymDv39J/P1L4ufnB8C+vXuoXqMWt95ajYa3NaJcufIc2L/P6q9NRHKyRt4zMzP5Yu5s+vZ8kr49n2TalElkZGRwPjGR0aNeo9dTT/DKi89zXF+kiRQ5fTYXcWwF6l7e/uFH+OjDDzh29Ait2rRj6ZKFbP9hGwAPtm5zw+ux1A31fGIicdPe5+iRw4SGhTNgcCwREVXUDVWkiFkj1x4eHgQFlSLx3Nkc05OSLnLo4AGGDOhDQGAgTz7Vk+i69UhJScHX19e8nJ+/PykpKRbXbTKZMJlM5sdGo+FmX6KI/M0aed/y/SY2rFvLCy+9RsmAAN4eNZIN69awf/9efHx8GT/xAxYvnM+MuKmMGTehKF+OSLFnrc/mIlI0CtTobta8BSEhIZQvX4HakXWoUKECR44cplLlCO5r0fKG1nG9G2qVKlVzdEOdO2eWxZP19W6or74xmkvJyUx4ZwxR0XWpHFGlIC9BRP7FGrnOS4uWDxAZFU2NGrVY/d23TJk0gbgZn1pc1s3N8jqWL13MkkULClWHiFxjjbw3a96CZs1bAJCWdhlPT088PDzYt3cPPXr1JTgkhOYtWvLm66+Qnp6Oj49PUb4kkWKtKM/hIlJ4Bb5lWGSdaPP/39PsPu5pdt9NPf96N9SM9HSeHjLAPD2vk/U/u6EC5m6oanSLWE9hc52X0LBwqlWrgbePD63atGPd2lVcvHiRgIAALpxPNC9nNBoJDCplcR0dOj5G25gO/1jWwNCBfa1Sn0hxZK28j3j+GU6dPEFknShaPtiaWTNnmHuw+Pv7A5CakoJPSEiu56oHi4j1FNU5XEQK74Yb3e9PHE+Hjo9SpeotjB41Ms/l3NzgtTdG/+f68uqGmvqP7qb/PFmrG6qI9Vk713mZ8M5YgoND6NG7H1u3bKZkyQDKlClD7cgo1qxayaGDBzAYDJw9c4batSMtrsPLywsvL68C1yBS3BVV3l98ZSSn/zrFlEnvsWnjhjzXaYl6sIgUnK3O4SJSeDfc6D579gxXrhgBOHfuDG7kcQYtAnmdrHUSFykcW+W6/8AhzJwxnWGxAylXvgLPPPcCnl5eNGh4G63bxDB+3Bg8PD3o3rM34RUrFUkNIsWdtfN+/HgCl5KTqVuvPmXLBhMZFcXePX8QEBBoHrjJaLy2vYDAIIvrUA8WkYKz52dzEbk5N9zoHvvOe+b//+DDj4ukGCDPk7W6oYpYX1HlOqRceeYvWmZ+HFGlKm+NfSfXcm5ubnTp1p0u3bpbbdsiYpm18/5nwjE+/eQjXhn5Jr4lSnDo4AHate9ARno632+Kp3btOmyMX0/16jXx9va2uA71YBEpOFt9NheRwivQNd3nzp7l5MkTpKVdxt/fn/DwipSvEGqVgmpH1rF4slY3VJGiVZS5FhHHYo28331vc44fT2D8uDFkZ2fT9M67eLBVW26//Q7ipk1h+LBYwsLDGTTk6SJ6FTdv2oQxGFKS8px/5tRJoKLtChKxEp3DRRzbTTW6jx9PYNbHH3Hw4IG/p2TD311ZqlWvTp/+g4go5MBm3br3sniyVjdUkaJhi1yLiGOwZt7d3Nzo1r0X3br3yjE9OCSEkaMc8/pRQ0oSL9yTd6N62LwE2xUjYgU6h4s4hxtudJ86eYK3Xn+FrKwsmre4n/DwipQsWZLLly9z4sSfbN+2ldFvvMqbY94hPPzGvyX+dzfUvE7W6oYqYn1FlWsRcTzKu4hrUabtKzHDk5e+PWhxnimr6K6v/+vUSV7KY2C80oH+vPj8c0W2bSm4G250L/zyC3xLlOCtMe9QtmxwrvmPPNqZ1199kSULv+TpYcOtWqSIFA3lWqT4UN5FXIsybV8mN098G3SyOC979ayi224W+D7wvMV5SWvfszhd7O+GG9379u7h/pYPWgw1QLny5bm3+X153i5ERByPci1SfCjvIq6lKDK9YvlSVn7zNenpV6hbvwEDBz/N5dRU4qa9z9EjhwkNC2fA4Fh1WRe5STfc6L58OZXgkJB8lylXvgKpKamFLkpEbEO5Fik+lHfndOCvi3l2JQV1Jy3OrJ3p3bt2smD+PF58ZSSlSpdm7FtvsGrlChISjuHj48v4iR+weOF8ZsRNZcy4CdZ4CSLFxk0NpLbym6/ZtnVLnvOTky4WuiARsS3lWqT4UN6dT3qWe55dSUHdSYs7a2ba09OTrt26E123HgChYWFcSr7Evr176NGrL8EhITRv0ZI3X3+F9PR0fHx8Cl2/SHFxU43u06f/4vTpv/5jqaIbOEBErE+5Fik+lHcR12LNTEfWiSKyThQAxxOOcfjQQbp268HqVd/i6+sLgL+/PwCpKSn4WPiV3WQyYTKZzI+NRsMNbVvE1d1wo/uLhUuLsg4RsQPlWqT4UN5FXEtRZfrChfOMHzeGdjEdqFa9hsVl3PJoxy9fupglixYUSV0izuymfukWERERERHXlJKSwtjRo6gTFU3nLk8CEBAQSFpaGgBGo/HatMAgi8/v0PEx2sZ0MD82Gg0MHdi3iKsWcXxqdIuIiIiIFHNXjEbeHTua4OBguvXohcGQhpubO7Uj6/D9pnhq167Dxvj1VK9eE29vb4vr8PLywsvLy8aVizg+NbpFRERERIq5HTt+4MiRQwD0790dgOCQEN54cyxx06YwfFgsYeHhDBrytD3LFHFKanSLiIiIiBRzzZq3oFnzFhbnjRyV923rROS/udu7ABERERERERFXpUa3iIiIiIiISBFR93IRERERuSnvvDeRpJQ0i/NKB/rz4vPP2bgiERHHpUa3iIiIiNyUpJQ0fB943vK8te/ZuBoREcemRreIWNWlS8ls3bKZzRvjGRL7LJUqR3A+MZG4ae9z9MhhQsPCGTA4loiIKmRnZzN/3udsit+Ah4cHMQ89TNuYh+z9EkREir38fskGOPnXaarZsB4REWemRreIWI3RaCR2UH+qVKnK8YRj5ulz58zCx8eX8RM/YPHC+cyIm8qYcRPY+dsvrFuzilffGM2l5GQmvDOGqOi6VI6oYr8XISI3bMXypaz85mvS069Qt34DBg5+msupqRa/ZBPnkt8v2QCZnw6zYTUiciP+OnWSl97Ie6R5XfphP2p0i4jVeHt780HcDDLS03l6yADz9H1799CjV1+CQ0Jo3qIlb77+Cunp6ezbu4fqNWpx663Xfi8pV648B/bvU6NbxAns3rWTBfPn8eIrIylVujRj33qDVStXkJBwzOKXbCIiUrRMWeT7ZZku/bAfNbpFxGo8PDwICipF4rmzOaanpqTg6+sLgL+/v3layj+mA/j5+5OSkmJx3SaTCZPJZH5sNBqsXb6I3ARPT0+6dutOdN16AISGhXEp+VKeX7L5+PjYueLi57+6iCeePU1I+VCL89R9XETEetToFhG7cHO7uenLly5myaIFRVeQiNyUyDpRRNaJAuB4wjEOHzpI1249WL3qW4tfsvmEhORah75MK1r/1UXc8OmwPOer+7gUd4kZnrz07cE855uy8vjAImKBGt3/kJmZSWZmJh4eHvYuRcSlBAQEkpZ27dcWo9F4bVpgEAEBAVw4n2hezmg0EhhUyuI6OnR8jLYxHf6xrIGhA/sWXdEickMuXDjP+HFjaBfTgWrVa1hcRl+m5S+/D/fGjKv5Pje/azj1a7VIwZncPPFt0CnP+dmrZ9mwGnF2anSLSJGrHVmH7zfFU7t2HTbGr6d69Zp4e3tTOzKKNatWcujgAQwGA2fPnKF27UiL6/Dy8sLLy8vGlYtIflJSUhg7ehR1oqLp3OVJIO8v2SzRl2nX5PfhPmvN7Pyfm881nPq1WkTEMajRLSJFrlv3XsRNm8LwYbGEhYczaMjTADRoeBut28QwftwYPDw96N6zN+EVK9m5WhG5EVeMRt4dO5rg4GC69eiFwZCGm5t7nl+yWaIv00REpDhQo1tErC6kXHnmL1pmfhwcEsLIUbm7P7q5udGlW3e6dOtuw+pExBp27PiBI0cOAdC/97UMB4eE8MabYy1+ySYiIlJcqdEtIiIiN61Z8xY0a97C4jxLX7KJiIgUV2p0i4iIiDio7OwstsavzXN+YEaGDasREZGCUKNbRERExIHdVTkwz3m792fbsBIRESkId3sXICIiIiIiIuKq9Eu3iIiIiFhNfvcOBygd6M+Lzz9nw4pEnIcuKXFNDtvo/t/bo9i9a6f5cbv2HWjdJoa4ae9z9MhhQsPCGTA4loiIKnarUURERERyyu/e4QBJa9+zYTUizkeXlLgeh210JyUl0atvf+66+14AvLy8+XDqZHx8fBk/8QMWL5zPjLipjBk3wc6VioiIiIiIiFjmsNd0JyclUa5cefz9S+LvXxJvb2/27d3D3fc2IzgkhOYtWnL0yGHS09PtXaqIiIiIiIiIRQ7Z6L5qMnH5cirz5sxmcP/eTJrwDqmpKaSmpODr6wuAv78/AKkpKbmebzKZMBgM5j+j0WDT+kVERERERETAUbuXu7nRs08/KlQIw8/Pj2kfTGbxwi/zWjSX5UsXs2TRgiIuUkRERERERCR/DtnozsrKolGjJpQpWxaARo1v5/ChQwQEBJKWlgaA0WgEICAwKNfzO3R8jLYxHcyPjUYDQwf2tUHlIiIiIiLO69KlZLZu2czmjfEMiX2WSpUjOJ+YqMGMRQrBIRvdZ8+cZsTzz/D0s8O5pVo1du/aSa3akQQFBfH9pnhq167Dxvj1VK9eE29v71zP9/LywsvLyw6Vi4iIiIg4J6PRSOyg/lSpUpXjCcfM0+fOmaXBjF1Afrfz0638ipZDNrorVY6gR+++zP18Fkajgei69ej0eFeuGI3ETZvC8GGxhIWHM2jI0/YuVURERETEJXh7e/NB3Awy0tN5esgA8/R9e/fQo1df82DGb77+Cunp6fj4+NixWrlZ+d3OT7fyK1oO2egGaN0mhtZtYnJMK1myJCNHWf52RkRERMQRJWZ48tK3B/Ocb8qyMECNiB14eHgQFFSKxHNnc0zPazBjn5CQHMuZTCZMJpP5sQYzFrnGYRvdIiIiIq7A5OaJb4NOec7PXj3LhtWIWIcGMxa5cWp0i4iIiIhInjSYsUjhqNEtIjbxv7dHsXvXTvPjdu070LpNjEZDFRERcXC1I+toMGORQlCjW0RsIikpiV59+3PX3fcC4OXlzYdTJ2s0VBEnplsLiRQP3br30mDGTiAjI4Ot8WvznB+YkWHDauSf1OgWEZtITkqiXLny+PuXNE/TaKgizssRby00bcIYDClJec4/c+okUNEmtYg4s5By5Zm/aJn5cXBIiAYzdgLZ2dncVTkwz/m792fbsBr5JzW6RaTIXTWZuHw5lXlzZjMjbhrVa9Sk74BBNzwaKmhEVBFH44i3FjKkJPHCPXk3qofNSyjyGkRERP5Nje5/yMzMJDMzEw8PD3uXIuJa3Nzo2acfFSqE4efnx7QPJrN44Zd5LWqRRkQVcSyFvbUQ6Ms0EflvRdmDJb/b+Tnqrfyys7Py7EIekJ1V4PWe/usU418fnud8v8DSDBn+aoHXX9yp0S0iRS4rK4tGjZpQpmxZABo1vp3Dhw7d8GiooBFRRZyZvkwTkYIqyh4s+d3Oz5Fv5ZdXF/Jd+wq+zqzMq/m+z+O/P1nwlYsa3SJS9M6eOc2I55/h6WeHc0u1auzetZNatSMJCgq6odFQQSOiijgLfZkmIiKSkxrdIlLkKlWOoEfvvsz9fBZGo4HouvXo9HhXrhiNGg1VxMXc6K2FQF+miYhI8aBGt4jYROs2MbRuE5NjWsmSJTUaqoiL0a2FREREclKjW0RERApMtxYSERHJn7u9CxARERERERFxVfqlW0RERERE7Ca/24IV5pZgIo5CjW4REREREbGb/G4LVphbgok4CnUvFxERERERESki+qVbRERERESkGEtPT+elbw/mOf/85Ss2rMb1qNEtIiIiUkiJGZ55fmA1ZbkV2Xazs7PYGr/W4rzAjIwi225h/HXqJC+9YXmE+9KB/rz4/HM2rkhEruKBb4NOec5P3zTPhtW4HjW6RURERArJ5OaZ5wfW7NWzinTbd1UOtDh99/7sIt1uQZmywPeB5y3OS1r7no2rEREpemp0W0lmZiYAHh4edq5ERERERETEejLS0xn/+vA85/sFlmbI8FdtWJFzUaNbRERERERE8pGd5wjzAOO/P2nDWpyPRi+3gszMTDIyMsy/douIiIiIiIiAfukWERERJzJtwhgMKUkW5505dRLI+5eYwshvoDQo2sHSipP8BlkDDbQmN0e5zSm/gRcDsrPyfW5mZpZGNy8ENbpFRETEaRhSkvLs4jhsXkKRbTe/gdKg6AdLKy7yG2QNNNCa3BzlNre8Bl7ctS//52W65/9eanTz/KnRLSIiIiKSj3fem0hSSlqe8/ULvIjkR41uK9H13CIiIiKuKSklTb/Ai+TDaDDyVO++Fuf5eXvw0fSPbFyRY1GjW0RERERERAos092DW5s9aXHeEXU9V6NbRERERJzDfw20lnj2NCHlQy3OUxdwEbEXp2t0/7B1C19+MYe0tMs0ur0pffoNxMvLy95lqXu5SCE4aq5FpGCUaSkq/zXQmuHTYXnOVxfwwlGuRQrOqRrdqakpTP9wCr36DqBatRqMGf068evX8mDrtnatKysri/T0dLy8vMjOzsbNrXjdfkCsKzs7m6ysLNzd3YvFvuSouRaRglGmHUd+twcCCLhyJc/5gRkZRVWW3eh2ZAVX1Lk+8NdFXvrWYHHeySte+d6qKjHDqZozxVJ6enq+2Tt+9BCeXt4W5xXl9eD5DZBo7eOBU+2lRw4fIjsbmjVvgZubGw0a3Ma+vXvsfiJPT0/nf19uxbNaE8a1CsTDw8Ou9Yjz+HcPCQ8PD7KysjCtnkT2fUPw8PDA29vyQchVOGquRaRglGnHktftgQB27cvOc/7u/dlFVZLd6HZkBVfUuU7Pcs/zdlRXV8/K91ZVpjUzrVKDFJ2reOSbvfS4wdS0w/Xg+Q2QaO3jgVM1ulNSUvDx9TH/+ufn78/Zs2dzLWcymTCZTObHBsO1bzCMRsvfoAGYMjK4nJaGt7cX3nl805KXy2lpZF3N4OqVNC5dSsbDXY1uuTGZWf9qdLt7kJmVSdYVE1cvXaKEry9Xr17N8/nX9+nsbOf9cFRUub5y5QoAF4/9gceFRGuXXaxcPnccgL2nLpJxVZfSFMb5y9f2yytXrmAw5N53i1OmoWDn68zMLAwZlo+LWdnZec4r9PzsbDJN6Xk+N9/5zvrc9Lz/HcjOynt+fvOK8rmFXHdWZqbFXF6fV9DnFqdcFyTTcK1XRmH2Y+XWzs+9kXXnm9u8n5udnZVntgorv1znl2m4+Vy7ZTvREWDzpnjmzP6Ujz+dA8Dcz2eRcOwor/2ru8LihfNZsmiBPUoUsYup0z+hbNlge5dRIMq1SG7FIdOgXEvxUhxyrUxLcXOjuXaqX7oDAgK4YjSar3c1GgwEBpXKtVyHjo/RNqaD+XFWVhZply9TMiAgz2tkjUYDQwf2Zer0TyhRwq+oXoJVOWPN4Jx1O2rN2dnZXLlipHTpMvYupcCKMtfOwFH3LWfkCu9lcco0OF6uHXkfUm0F4wi1FadcFzTTjvDvVJT0+pybpdd3s7l2qkb3rdVq4O7uzvq1q4mMimbnzl/p+GjnXMt5eXnlGk2xZMmSN7SNEiX88PNzrp3FGWsG56zbEWv29/e3dwmFYotcOwNH3LeclbO/l8Ul0+C4uXbkfUi1FYy9aysuuS5spu3971TU9Pqc279f383k2qka3YGBgQwc/DTz533OgvlzaXx7U5o1b2HvskSkEJRrEdeiTIu4HuVapHCcqtENcMddd3PHXXfbuwwRsSLlWsS1KNMirke5Fik4d3sX4Ci8vLx4tNPjubrEODJnrBmcs25nrFmcg/Yt69F7KYXlyPuQaisYR65N/p+r/zvp9Tk3a7w+pxq9XERERERERMSZ6JduERERERERkSKiRreIiIiIiIhIEVGjW0RERERERKSION3o5YX1w9YtfPnFHNLSLtPo9qb06Tcwx0Xxly9f5qMPP2DPH7spXaYsvfsOoE5UtB0rvmbF8qWs/OZr0tOvULd+AwYOfhpfX1/z/IMH9vPGay/leM6sz+fjW6KErUs1+9/bo9i9a6f5cbv2HejWvZf5saO913FT32fzpvgc08qXr8DkqdPNjx3xfRbns3fP74weNZJ69Rvy0quvm6cnJyczdGAfSpcpwwcffmzHCp3L9fcTwMPDg7LBwTzc8THuu/8BO1cmju7SpWS2btnM5o3xDIl9lkqVIzifmEjctPc5euQwoWHhDBgcS0REFYeobeuWzUx9f6J5mZIBAXz86Ryb12bpM8nl1FSHeN8s1fbLzz86xPsmOTly/grLkTNSWJmZmSyYP5cN69YA0KBhI/oNHELKpUsu8fr+afJ777Jj+zbmL1pW6H2zWP3SnZqawvQPp9Dxsc6MGj2OXTt/JX792hzLLF+6mAsXzjNu/GRub3IH06ZM4qrJZKeKr9m9aycL5s9jcOyzvDnmHQ7s28eqlStyLJOcnETZssF88tlc85+9G4JJSUn06tvfXE/nJ57MMd/R3uve/QbmeP8i60TRuEnTHMs44vsszuuP33dx8eJF8+Mt328kKyvLfgU5uWnTZxL38SzatnuIjz/6kMupqfYuSRyY0WgkdlB/tm/dyvGEY+bpc+fMwsfHl/ETP6By5QhmxE11mNqSk5KoWbO2+fzz/tSPbF5bXp9JHOF9y6s2R3jfJCdHzl9hOXJGrGHL95vYsG4tL7z0Gm+OeYc/ft/NhnVrXOb1XffzTz/y04/bzY8L+/qKVaP7yOFDZGdDs+YtqFipEg0a3Ma+vXtyLLNv7x6aNL2TcuXL0/LBViQlXeTs2TN2qvgaT09PunbrTnTdelSqVJnQsDAuJV/KsUxyUhKlSpfG37+k+c/ekpOSKFeuvLkeb2/vHPMd7b328fEx13rh/HkO7N9Hq9btcizjiO+zOK9q1WuwZfNG8+PNG+OpVTvSfgU5OT8/PwICAgkMDMLDw4NsdHMOyZu3tzcfxM0g9tnnckzft3cPd9/bjOCQEJq3aMnRI4dJT093iNqSk5IoXaaM+fzj5+dn07og788kjvC+5VWbI7xvkpMj56+wHDkj1tCseQs++WwuNWvVplSpUnh6euLh4eEyrw/AYDAwa+ZHtGrz/+2Awr6+YtXoTklJwcfXBzc3NwD8/P1JSUnJsUxqSoq527a/n7/5efYUWSeKtjEPAXA84RiHDx3krnvuzbFM0sWLJCae4+nB/Xn+2aFs3bLZHqWaXTWZuHw5lXlzZjO4f28mTXiH1FTHf6+v+2bFchrd3oTgkJAc0x3tfRbndm/zFmzauAGAY0ePcPHCeRo2amznqpzXkIF96NntCaZMnsCjnR4nICDQ3iWJA/Pw8CAoqFSu6TnOTf7+5mm2lFdtSUkXOXTwAEMG9OGlF4bx++5dNq0L8v5M4gjvW161OcL7Jjk5cv4Ky5EzYk0jnn+G/r27UyE0lJYPtnap1zd/7udE161PVHRd87TCvr5id033v/3d/i70MrZw4cJ5xo8bQ7uYDlSrXiPHvMZNmlK6TBki60SzY/s2pk+bQmSdKEqXLmOfYt3c6NmnHxUqhOHn58e0DyazeOGX9OrT/7+eZncXL1xg25bvGTlqdK55Dvc+i1Nr1LgJc2fP4vChg2z9fjNN77wbL0+v/36iWPTm2+/g7e3Nnj2/M3PGdJrccRehoWH2LktcgCOcmwBatHyAyKhoatSoxervvmXKpAnEzfgUTy/bHzfy+0xynb3et3/X5kjvm9w8R8nfzXLkjFjDi6+M5PRfp5gy6T3zDwj/5oyvb/++vfz80w7GT5zCwYP78132Zl5fsfqlOyAggCtGo/maSaPBQOC/vmULCAgkzZAGgMFoBCAwMOcy9pCSksLY0aOoExVN5y5P5ppfNjiYe5rdR8VKlYh56GGuXr3KX6dO2aHSa7KysmjUqAl169WnWvUaNGp8O38eP55jGUd9r7/7dgURVapQs1btXPMc7X0W5+bt5UXTO+5kw7o1bN2ymXub3WfvkpxacHAw5cqX574WLfH09CDh2FF7lyROKCAgkLS0a+cm49/npoDAIHuWZBYaFs7dd99LxUqVaNWmHZcvp+YYF8JWLH0mcZT3zVJtjvK+yX9zlP2osBw5I4V1/HgCu3ftpGzZYKKi6xEZFcXePX+4zOtbumQRqampPDN0AFMmvQdAnx5dC/36ilWj+9ZqNXB3d2f92tWcOnWSnTt/JbJOFFmZmeZlakfWYfu2rZw9e4YN61ZTpmxZyleoYMeq4YrRyLtjRxMcHEy3Hr0wGNIwGAw56p71yQzGjXmTC+cT2bwpHk9PT0LDwu1W89kzpxkysA8/bN3C2bNn2L1rJ5UjIhz+vTYYDKxft4Y27dqbpzny+yzO755m97Exfj3+/v7UqFnL3uU4NYPBwOXUVDZviicjI4NKlSLsXZI4odqRdfh+UzznExPZGL+e6tVr5hqTxF4mvDOWaR9M5uLFi2zdspmSJQMoU8a2Pa3y+kziCO9bXrU5wvsmN8YR9qPCcuSMWMOfCceYNGEchw4e4MSJPzl08ABVqlZ1mdc3aMjTTJoyjXHjJ9Gjd18Axo2fVOjXV6y6lwcGBjJw8NPMn/c5C+bPpfHtTWnWvAXvjR9HZJ0o2rXvQIdHHuPMmdO8/MIwypQpy5DYYXh4eNi17h07fuDIkUMA9O/dHYDgkBAqV65irrtb917MmD6V558dSlCpUgyOfdauJ5RKlSPo0bsvcz+fhdFoILpuPTo93tXh3+v1a1fj4+tD0zvuMk/7Z82O9j6L86tVO5KQkHLcfW9ze5fi9IYM7IObmzvBwcH06TeQipUq2bskcULduvcibtoUhg+LJSw8nEFDnrZ3SWb9Bw5h5ozpDIsdSLnyFXjmuRds3kU6r88kb7w51u7vW161DR/xit3fN7kxjpy/G+XIGbGGu+9tzvHjCYwfN4bs7Gya3nkXD7Zqy+233+ESr69U6dLm/w8K+hOAkHLlC71vumVnZ2t4VxEREREREZEiUKy6l4uIiIiIiIjYkhrdIiIiIiIiIkVEjW4RERERERGRIqJGt4iIiIiIiEgRUaNbREREREREpIgUq1uGiTiaS5eS2bplM5s3xjMk9lkqVc77vsIHD+xn5sfTOXP6L8IrVqLfwCFUrXqLDasVEREREZGbpV+6pdAyMjIYMrAPcz+flWte4rmzdOn0MIsXzrdDZY7NaDQSO6g/27du5XjCsf9c/tOPpxNRpSqTPphOuXLlmT3zYxtUKc7grTdeJXZwPw4e2E+/3k/x444f7F1Svnb8sI1+vZ/i8KGD9i5FxOHt3fM7XTo9zKb49QBMmjCOV18abueqRETkZuiXbik0b29v+vQbRGhoqL1LcSre3t58EDeDjPR0nh4ywDz91MkTTP/wA078eZyqt1Rj8NCnCSlXHjd3d4ICgyhTpgwBAYGkpFyyY/XiiCKqVKVPv4FE1om2dyn5ioyKok+/gVTOp2eHiFjWoeNjpKen27sMkWInbur7bN4Uz/xFyxxiPeJc9Eu3WEXD2xoRGhZu7zKcioeHB0FBpXJNnzThHWrVjmTCpKmUr1CBzz+bCUCffgNZ+e3XPNXlMTZt3ECf/oNsXLE4Oh8fH5recRclS5a0dyn5CggIpOkdd+Ht42PvUkRsLiszs1DPv+XWatSOrGOlakTEmWRlZZGdnW3vMqQA9Eu3WEWXTg9zb7P7GDT0GZYtXcy3K5bj6enJnXfeY+/SnMrZs2c4deokFy9eYMO6NVy9epWSAQHAte7l9zS7j3YxD7Hwyy/4fNYnvPzaKPsWLHZx5PAhPoqbSuK5s0TXrY8hLQ241g119KiRDBwcS7P77sdoNDJ39qf8+ON2Mq9epVbtOvTpN4CywSEA/PH7LmZ9MoOLFy8QFV2Pq1evcvLkn3zw4cdsil/P9A8/4MnuPdmwdg0XL16kfoOGDB76jLmxvCl+PcuXLuH8+UTCwivSrXtPoqLrAZCamsLsTz9h187fwA3q129I9159CAgINK975KjRRNaJJvHcWT779GP27d2Lj48Ptze9gyef6om3t7d93mARK0o8d5anhwygSdM7+fN4AqXLlKHLk92Z+/ksjh45QkBAAPe1fIDHOj0BXPtQPWf2p2yKX0/JkgHUb3hbjvW99carJCaey5HT61kCiB3cj5CQcrz+5hiys7NZvGA+G+PXYzCkccut1ejeqy8REVXyrfmtN17lcmoq0XXrs2XLJrKzsun0eBe8fXxY9OUXGAwGbmvUmP6DhuLl5QXATzu2s+DLeZxPTCSiShW69+rLrbdWA+C3X39m4ZdfcOrkCUqXLkP7hx+h5QOtzNsyGAxERdclfv1avH186Px4V+67/wFr/jOIFErs4H6cT0wErn3mHTlqNO7u7syZPYtTJ09QITSMLk92p179Bqz+7ls++/RjBg55mmbNW7B+7Wo+mRFHr779WbF8aa71bIrfkOOX7+vHjEc7Pc5jnbvw1huvcuHCeSpXrsKunb/y3uSphJQrz/q1q/l62VekpqZSvUYNevUZQIX/6HUaO7gfFSqEUbpMGX79+Sd8fHzo2bsfp0//xbcrlpOVlcU9zZrTvWcf83Py286mjRv4etlXJJ47S7ly5Xm8SzcaN2lq3lbFipUIDAxix/YfCAwMpGef/jS8rZG1/3mcgn7pFqva+duvLPhiLuFhFWnVph27dv1m75KcirubGwCDhj7DuPGTmDDpA956exyXLiVz7NhRHniwNZUqR3D/Aw/y++5dhf7FRJzP1atXmTThHS5eOE/7Dh3x8vLi+PEEi8vOmjmDTRvjuefe5sQ89DB79/zBjOnTALh8+TITx48jLS2NDh0fxcfHh52//ZJrHStXfM3dzZpTr359dmzfxqZN8QDs2L6N6R9+QNngEB7t9ARXjEbe/d8Yzp498/e2P2b7D9to+WBrWrR4gG1bv+fTjz+yWOcHkyeyb+9e2nfoSKPGTVizaqXGgRCX8/NPP9LgtkY82LotY0ePIjUlhUc6daZmrdosWfglW7dsBmD9ujWsWvkNtWrX4b77H+DXn38q8DbXr1vDV0sWUrtOFB0f68ypkyd5d+xoMm/g3HHixJ+cPXuGmPYP4+3tzWeffsyiL7+gddsY6kRFseX7TXy/eSNw7Qu/Se+9Q7ly5en8RFcyr2byzpi3MBgMnD79F++9+z/c3d157PEulK9QgZkz4jh4YL95W8cTjvHn8QQefqQTXp5ezJr5MWlplwv8ukWs7fEu3ahevSYAvfsNxM3NnbGj38TL04vOTzxJYGAgE94ZQ+K5s7R8sDXh4RVZvGA+ly9fZsmiBYRXrMT9LVvlWk+F0BvrJXru7FnS06/weJdu+JcMYPOmeD6ZEUfNWrV5pFNnzp07x4R3xtzQ58I/ft+FGxDT4WHS09N5f9IENm/cwEMPP0LFSpX57tsV/L57F0C+29nzx+9MnzaFMmXK0LnLk/j4+jJl8gQSz501b2vnb7+SnpFOx0c7Ybxi5OO/P4MUR/qlW6wqfv0afHx8GPHKSPz8/LjttsaMeP4Ze5flNIJDylEhNIz49evo1bc/+/fuISk5iZj2DxMYGMS2Ld9TukxZdvywjdDQMNw9POxdstjYrp2/cuHCefoNHEKLv38JOn36L1JTU3It26pNO1q1aUeVKlVJSbnEsaNHzCfSrd9vujaY37PP06DhtW+dz5w5zaVLyTnW0bvfABo1boLRaOTHHds58edxAL5dsZxSpUvz4isj8fT0pOFtjRjx/DOs+W4lT/Xszck/jxMaFsbjXZ4EoHxoqPkX+X87ceI4tWrXoeOjna4tW6ECfv7+hX+zRBxIq9ZteapHb64YjQx/8WXKVwjF38+flJQUfti2hQP793HX3fcSv24NwcEhDH/xFdzd3YmoUoXx48YUaJvX89q9R28Cg4K45ZZb2fPHHxiNxv+8DKVU6dI898JLuLu74+XtxexPP6FLt+7cdfe93P9AK3p370LCsaMAfPP1coKCStGrb3/c3d0Jr1iJcWPeZOdvvxAVXY9XRo6iYqUIPD08qF69Jr/v3sWB/fuoUbMWAIFBQYx4+dqx5Pq2zpw+za3VqhfodYtY2933NOP3XTs5dOgADzzYmlmfzCA7O4t+AwfjW6IEdes14IXnYtm2dQsdOj5Ktx69eGfsaN5641WSki7Sf9BQPDw8cq3nRv0zIwArli+lStVbeLxrNwD8/fyZMX0aR44cpnqNmvmuq1r1Ggwaeu2zeWpKCiu/+Zr+g4ZSo2YtouvW48Xhz5Jw7CjRdevlu50KoaGMHDWaW26phumqidKlSjN1yiSOHDlMSLnyAFSpegvPPjcCgJSUS6z85mtSLl0iMCjo5v4BXIAa3WJVp0+fJiwsHD8/PwB8fX3tXJFzcXNz47nhLzLz4+kMf3YoIeXKM2jI07i7u/PMcy8we9YnrFu7ioqVKjP46WH2Llfs4Mzp0wBU+8eHUV9fX4uN7qDAIGZ+HMfuXTvJysqyuJ6atSLN0yx1576e5RIlSgCQfuUKAH8eT6BuvQbmDwCVKkdQsmQAf/11EoB27Tvw8UcfMvzZoTRs1Jjbm9xBteo1LL6m9h06smjBfF59aTgNGt5G0zvupmKlSjfwbog4jxJ+1zLkW6IEqSmpfBQ3lXNn//8XoevZOnPmNNF16+Hufq0zYmHOoy1aPsi2Ld/zwvNPc1uj22l4WyM6dX7ihr6w9fT0NNdQwvda7aVLl772+F/Hg+MJx0hOTuLpwf1zrCPx3DkCAwM5efIEH0yeSHJy0v+/3vQr5v/39vY2H0uub+uf80UczfGEY1y9epXhw2JzTE9MPAdA/Qa3UbdeA3bv+o269RpQv0HDQm3vnxm5evUqp06eIDs7m6ED++ba/n81uq9fEgL/n+Vc2U6/ckPb2bBurbnX3HXXjwv/XN+/1w1qdIsUirubG+7u+vX1ZoSUK59jBMtKlSMYNfp/uZaLrBPFOxMm264wcUhu7tcuQbiRnE3/cAqHDh7g8S7dCAsPZ/V33/LH77v/tZ6CXWXk6emV67nZ2Vm4uV2b1uy++6lZK5Id27ex87dfWLF8KR0f7UTnJ57Mta5HHnuc2xrdzo87tvPLzz/x1eJF9Ok3gPv/vuZTxJWcPXuGD96fSMVKlRg45GkCAgJy/JLt5uaGWwFz+W8REVWY9EEcO37Yyu5dO5n83nhq1KzJa6+/Zd2eUm5QoUIoT/XsnWNyaGgY+/ftYdYnM4isE023Hr3IyMhgRtxU621bxB7crjUihz7zXI7JZcsGA5CdnW2+RMJgSCM7Oxu3vy8hLLS/11W9Rk06dHw0x6yIKlWts40b2M73m+L5avECmjS9k6Z33sWZM6dZ8MVc623fxeiabrGqCqFhnDp1gitGIwCGv/8rItZRoUIYAEcO//89rq/kkbMjhw9Rv0FDHnr4ERo1boK///93Jw0Nvbaegwf2mafdzG2IKlWuzOFDB83Xhp448SdpaWlUqhyB0Whk6pRJHDiwjw4dH+WNt8ZSv0FDVn6zItd6zp09y9Qpk7h48QKdHu/C2HfeIyw8nFXffXvDtYg4k4RjR8nMvEqnx7vQrHmLXLf4qxAaxrEjR8wjFBsMeZ9Hff/+5ej6r0xXr14lIyPDPH/+3M9Zsewr7n+gFcOGv0jnLl3Zt3cPxxKOWfU1VaxYmYsXL1D1lltpeFtjGt7WmDJlyhIaFs7hw4cA6NGrD3fdfW+ePV5EHN31RnNWVhYVK1XGaDRSpkxZ8z5ftmywudG75ftN5nPw4UMHzWM2/Hs98M8cX2+kG/Ktw9PLiwoVQjl37ix1ourmyNz1Rr81/Nd2rmd7wOBYmt5xF5UrV7Hatl2RfukWq7rv/gfYsX0b7/xvNPUaNGTLpo32LknEpdSr34CyZYOZM3sWFy5e4OSff3Ls2FGCQ0JyLVupcgS/797Fsq8WcfbMGXZs3wZc+2B+19338uUXc4ibOoVWbdry5/HjHD1y2OJ6LGnfoSPjx43hnbFvERVdj/gN6/Dx8eH+lg9SokQJ/jp5gl9+2sG5s2fx9PTk4IH9VKpcOdd6SpUuzd4/fueP3bto3S6G9CvpnDl9mtv/Hv1UxNVUrFgJNzd3li9dwl+nTvHDti0A5i+w7rv/AWbOiGPCO2O5tXp11q9Znee6qla9FXd3dxbMn8eJP4/z++5dpFy6RHh4ReBa1ld++zVpaZcJC6/I5o3x+Pj4UP7v6y2tpUPHR9i96zfefvN1mt93P3+dOsmmjfGMGz+RypUjAJg/bw41a9dmc/yGa6/3qgYCFedy/Tavc2Z/SruYh9gUv57x48bwQOs2pFy6xNrV3zFs+IvUiarLl1/MIbxiJZ4f8QqvjHiO+fM+p/HtTfHx8cmxngdbtTGPXTBtymSqVr2FLVs2/WctD3V8lOnTpjDmzddpcsedHDywj99+/ZWpcR9b9Xrp/LZzPduffjydCqFhrFu7CoCrGuTXIv3SLVZVr34Dnuj6FCdPnGD1d99yd7Pm1utOIyJ4eHgwbPiLlClblq+XfkVGRgb16lu+Vmzg4KepXLkKy75aQmLiOZrddz9w7ddlP39/nnvhZfz8/Fi+dAlXr16lUuWIG+5u3vC2xvTpP4gzp0+zeOF8/P39eenVNyhX/tqH+edffIW69erz3bdf883XS6lVuw6xzzyfaz3e3t68MvJNKlWOYNmSRaxfu5qmd95Fr779cy0r4grCK1ai34BBXLhwnhXLlxIdXY/gkBDz9d0t7n+A1m1j2Lf3DzauX8d9LfO+dVa58uXp0asvhrQ0Vq38loqVKlOp0v9/ufXEk0/RNuYhfv7pRxbMn4uvry/DX3yVkgEBXLhw3uKfyWS66dcUWSea2Gefxw1YMH8e+/ftpXe/AVSOqELdeg3o9ERXjh49zJrvVtL8/pZ4eXlx9h8jHIs4gxYPPEjFSpXZFL+epKSLjHh5JEGlSrFk4Zfs2L6NRx57nPoNbmPF10u5eOECj3d5Ek9PTx7v2o2LFy6w4uulFtdz1933ct/9D3DwwD42b46/oUurmjVvQY9efUlOTuLLL+Zw+q+/iH3mOUqWLJlntgtyx5u8thMYFMR9LVryYKu2/Pbrz2zeuIE27doD5BirQv6fW7busC4iUiydOX3afK/Nq1evmu+p+errb9m5MhEpal06PWxx+j/v+S0izuX6Pb4tmTLtI/Oo4mJ76l4uIlIMXb58mZdHDCO6bn1q1KzF7l2/kZyUxJNP9bR3aSJiAy+89KrF6ZX+7jIqIs4nKKhUntm+3q1d7EO/dIuIFFNbv9/E8qVLOHPmDCHlytGmXXtaasRwEREREatSo1tERERERESkiGggNREREREREZEioka3iIiIiIiISBFRo1tERERERESkiKjRLSIiIiIiIlJE1OgWERERERERKSJqdIuIiIiIiIgUETW6RURERERERIqIGt0iIiIiIiIiRUSNbhEREREREZEioka3iIiIiIiISBFRo1tERERERESkiKjRLSIiIiIiIlJE1OgWERERERERKSJqdIuIiIiIiIgUEU97FyAiIiLOKSszk2XLlrApfj3h4ZUY8fJrnE9MJG7a+xw9cpjQsHAGDI4lIqKKvUsVERGxG7fs7OxsexdR1LKyskhKuoivbwnc3NzsXY6I1WRnZ3PlipHSpcvg7l68Oq4o1+KKnC3Ts2bO4MftP9C77wBqR9ahZEAAkye+S0Z6Br37DmDxwvmcOPEnY8ZNuKH1Kdfiipwt19akTIurutlcF4tfupOSLjJ0YF97lyFSZKZO/4SyZYPtXYZNKdfiypwh08nJyaxfu5pnnx9Bo8ZNzNP37d1Dj159CQ4JoXmLlrz5+iukp6fj4+Pzn+tUrsWVOUOuN6xfy5JFX5J2OY06UdEMjn0Go8FY4N4ryrS4uhvNdbFodPv6lgCuvSklSvjZuRoR6zEaDQwd2Ne8jxcnyrW4ImfK9JHDB8nKymL7tq3MmjmDSpUi6DdwMKkpKfj6+gLg7+8PQGpKCj4hIbnWYTKZMJlM5sfXO98p1+JKnCXXqakpfPJRHL369qduvfqMe/tNvvl6OadPn8LHx5fxEz9g8cL5zIibesO9V3SuFld1s7kuFo3u691ZSpTww89PgRfXUxy7bCnX4sqcIdNpaWmAGzVq1aLdQw8zI24q8+bMtrhsXi9n+dLFLFm0INd05VpckaPnOjsb3N3dKVu2LGXKlMXHxwcPD/dC9V7RuVpc3Y3mulg0ukVERMS6AgOD8Pb25sFWbQG446672bwxnoCAwL8b5GA0GgEICAyyuI4OHR+jbUwH8+PrvxyIiO0FBgbyxJPdGD9uDJ6enpQvX4GHHn6UrxYvLHDvFaPRYJviRRycGt0iIiJy02rUqImXlxerv/uWhrc14ucfd1C16i2YTCa+3xRP7dp12Bi/nurVa+Lt7W1xHV5eXnh5edm4chGx5OKFC3y1aAG9+vbn1mo1mDr5PVZ++7XFZW+294pIcadGt4iIiNw0P39/hg0fwayZH/PlF3OIrBNFtx69MGWYiJs2heHDYgkLD2fQkKftXaqI3IADB/aRlZVl7r3SuElTdv32q3qviFiBGt3iMLKzs7l69SqZmZn2LsVheHh44Onp6fDXgYnkJTMzM0dXQ7n2666Hh4e9y7CKyDrRjJ84Jdf0kaNG26EasQWdq3NzlXN1WHhFMjIy+GHbFm69tTq/797FrdWqExRUSr1XXJxynZu1c61GtziEjIwMTp8+jcGga3/+zc/Pj9DQ0DxPcCKO6vLly5w8edI8IrVc4+bmRsWKFSlZsqS9SxG5KTpX580VztUREVXo2acfcz+fhSEtjTpRden8xJNkpKer94oLU67zZs1cq9EtdpeVlcWxY8fw8PAgLCwMb29vp/+22Bqys7PJyMggMTGRY8eOUb16ddzd3e1dlsgNyczM5OTJk/j5+RESEqJM/y07O5vExEROnjxJ9erVXeYXb3F9Oldb5mrn6gdbtTV3L/8n9V5xTcq1ZUWRazW6HcTkcW9iSEnKc75fYGmefekNG1ZkOxkZGWRlZVGpUiXdTuJfSpQogZeXF8ePHycjI8M8eqjY3vxPppGeejHXdJ+AMnTpO8QOFTk2k8lEdnY2ISEhlCjh2PemtbWQkBASEhIwmUxqdBcjs+Mmk56S+xgC4BNYhh6DnrVtQTdJ5+q86Vzt2IrzZ+z/olznzdq5VqPbQRhSknjlvip5zh8bn2CzWuzFmb8ZLkp6XxxDeupFekYF5Jr+2R+WP0TLNfrGPDe9J8VTespF+jcsY3HejF+d5ziic5Jlel8clz5j/zftv5ZZ833ROywiIiIiIiJSRNToFqfTvHlzqlSpwg8//EBwcDBfffWVvUvK1+LFiwkODmbHjh32LkXEYSnXIq5FmRZxPcp1wTls9/IN69eyZNGXpF1Oo05UNINjn8FoMBI37X2OHjlMaFg4AwbHEhFRxd6lip3Uq1ePuLg47rvvPnuXkq/77ruPuLg46tata+9SRByeci3iWpRpEdejXN88h/ylOzU1hU8+iuPhRzrxznuT+evUSb75ejlz58zCx8eX8RM/oHLlCGbETbV3qWJHfn5+dOrUidKlS9u7lHyVLVuWTp06aTApkRugXIu4FmVaxPUo1zfPIRvd2dnXLlwvW7YsZcqUxcfHBw8Pd/bt3cPd9zYjOCSE5i1acvTIYdLT0+1drhSxn376ibp16xIQEMAjjzxCcnIyABs3bsTNzY3PPvsMgNTUVPr3709wcDCBgYHExMRw4sQJ83rWr19PrVq1CAgIoGPHjrRr144qVaoA8Nlnn+Hm5sZ7771HzZo1KVmyJJ06dcJoNJqf/9lnn1GzZk18fX1p0KAB69evN8+7cOECTz75JGXLliU4OJinnnqKCxcu5Fj3xo0bAUhISKB9+/YEBQURGhpKbGwsV65cKbo3UMQBKdcirkWZFnE9yrX1OGSjOzAwkCee7Mb4cWPo3b0LV69e5aGHHyU1JcU8XLu/vz8AqSkpuZ5vMpkwGAzmP6NRN3t3ViaTiUcffZQTJ04wYsQIfH192bVrl8Vlhw4dymeffcZTTz3FCy+8wMaNG+nbty8ASUlJdOzYkeTkZF5++WX8/PxYuXJlrnVMnDiRp556ilatWrF48WJmz54NwJIlS+jVqxeVK1dm1KhRpKamEhMTw9GjR83bXrRoEYMGDaJv377Mnz+fwYMHW6yzS5cubN68mREjRvDwww8zdepU3nijeN6qQoon5VrEtSjTYk+Tx73J2FeezfPv7Om/7F2iU1Kurcshr+m+eOECXy1aQK++/bm1Wg2mTn6Pld9+bXFZS3deWb50MUsWLSjiKm3r9OnTjH3l2Tznu+o9BletWsWJEyf4+OOPzeE9ePAg58+fz7VsbGwssbGx1K9fn8TERH755RfWrl0LwLx580hNTeXLL7+kbdu2ABw+fJizZ8/mWMeHH35Ihw4dSE1N5auvvuL3338H4L333iM0NJSVK1fi5eVFTEwM0dHRTJ06lYkTJ/LHH39Qo0YN3n77bQCqVatm/jbw3/744w/uvfdeXn31VQBuvfVWSpUqVej3SsRZKNcirkWZFnv6r1uCxc45kec8yZtybV0O2eg+cGAfWVlZPNjq2j9M4yZN2fXbrwQEBJKWlgZg7nIQEBiU6/kdOj5G25gO5sdGo4GhA/vaoPIilHm1WN5j8NChQwA0adLEPK1kyZIWA1+uXDkGDhzImjVryMzMtLieu+++2zzN0vUdQUHX9qeAgGv3Y76+v+3atYtWrVrh5eUFQFRUFGXKlGH//v0APP/88/Tr14/IyEjat2/Po48+yu23327xNY0YMYLXX3+dxo0b065dOzp37kxkZOQNvBsirkG5FnEtyrSI61Gurcshu5eHhVckIyODH7Zt4dzZs/y+exfhFStRO7IO32+K53xiIhvj11O9ek28vb1zPd/Lyws/Pz/zX4kSfnZ4FWIN129K7+Hh8Z/L9urVi40bNzJmzBiWLVvG/fffX6D1WHJtXIGcz83KyjKvt2fPnuzbt4/u3bvzww8/0KRJE0aOHGlxXSNHjmTnzp20bduWr7/+mujoaGbMmFGgukSckXIt4lqUaRHXo1xbl0M2uiMiqtCzTz/mfj6LF4c/Q9mywXR+4km6de9FZmYWw4fFknDsKP0GWu6vL66jevXqAPz444/maampqRaX/fHHH2nTpg0vvvgiHTp0yDGiYo0aNQDYunWredr1b9BuRFRUFDt27ODq1asA7Nmzh+TkZKKjo0lNTaVbt25s3bqVl156ic2bN9OmTRsmTZqUaz3Hjh2jW7dunDp1ijfffJNffvmFWrVqMWXKlBuuRcTZKdcirkWZFnE9yrV1OWT3coAHW7U1dy//p5GjRtuhGrGXVq1aUalSJZ577jlOnjzJH3/8wa+//kpERESuZaOjo1m7di1jx47lyJEjLF68GLg2EETXrl15+eWX6dGjB7GxsezevZuff/7Z4nosGTFiBO3bt6dt27bcf//9zJw5Ez8/P/r3709AQAD79u1j+fLlHD16FG9vb7Zt20ZUVFSu9YSGhhIfH8+6det45plnSEtL49ChQzzyyCOFe6NEnIhyLeJalGkR16NcW5dD/tItcp2npydLliyhYsWKjBs3DqPRSOvWrS0uO2vWLOrWrcvYsWNJSEigV69eABw9epSgoCCWLl1KUFAQ//vf/8jIyCA6OvqGu7rExMQwffp0Dh06xBtvvEHp0qVZvXo1VatWBWD58uU8+OCDTJo0ifHjx3Pvvfcyf/78XOvx9fVl7dq1REdH8/bbb/PRRx/RuXNnpk2bVsB3SMT5KNcirkWZFnE9yrV1uWVnZ2fbZEt2ZDAY6NOjKzNnf4Gfn2Ne3z32lWf/Y+TF7/ngqXvyfn58Aq+MnWz9wmzgypUrHDt2jKpVq5pvCVcUDh8+TLVq1YBr37xFREQQGRnJunXrimyb1pDf++MM+3ZRsfVr/2zSaHpGBeSe/kcqPYdZvnaoOFOu86ZM582VX/+Md16nf8Myluf9epH+L75l44pujjKdP+XaMlu89uL8GbqwlOv8WTPXDtu9XMSakpKSaNCgAQ888AB33nkna9as4fTp04wfP97epYlIASnXIq5FmRZxPcr1NepeLsVC6dKl+eijjzh06BAjR47kxIkTTJ8+nSeffNLepYlIASnXIq5FmRZxPcr1NfqlW4qNrl270rVrV3uXISJWpFyLuBZlWsT1KNdqdIuIjWxYv5Yli74k7XIadaKiGRz7DEaDkbhp73P0yGFCw8IZMDiWiIgq9i5VRERERMRq1L1cRIpcamoKn3wUx8OPdOKd9ybz16mTfPP1cubOmYWPjy/jJ35A5coRzIibau9SRURERESsSo1uESly2dng7u5O2bJlKVOmLD4+Pnh4uLNv7x7uvrcZwSEhNG/RkqNHDpOenm7vckVERERErEbdy0WkyAUGBvLEk90YP24Mnp6elC9fgYcefpSvFi8034LB398fgNSUFHxCQnKtw2QyYTKZzI+NRoNtiheRPP3v7VHs3rXT/Lhd+w60bhOjy0ZERET+QY1uESlyFy9c4KtFC+jVtz+3VqvB1MnvsfLbry0u6+ZmeR3Lly5myaIFRViliNyspKQkevXtz1133wuAl5c3H06dbL5sZPHC+cyIm8qYcRPsXKmIiIj9qNEtIkXuwIF9ZGVl8WCrtgA0btKUXb/9SkBAIGlpaQAYjUYAAgKDLK6jQ8fHaBvTwfzYaDQwdGDfIq5cRPKTnJREuXLl8fcvaZ62b+8eevTqa75s5M3XXyE9PR0fHx87VioiImI/anSLUzmfmEhqaorNthcQEEiwha7OeXH7+2famTNn0rt37xzz1q1bxwMPPADAsWPHqFKlitXqdHRh4RXJyMjgh21buPXW6vy+exe3VqtOUFApvt8UT+3addgYv57q1Wvi7e1tcR1eXl54eXnZuHKxBeXaOV01mbh8OZV5c2YzI24a1WvUpO+AQaSmpOiyEbFprm8206Bci9wsnasLR41ucRrnExN57tmhmDJsN9CWl7cPEydPvemT+YIFC3IFfuHChdYszalERFShZ59+zP18Foa0NOpE1aXzE0+SkZ5O3LQpDB8WS1h4OIOGPG3vUsXGlGsn5uZGzz79qFAhDD8/P6Z9MJnFC7/Ma1GLdNmIa7J1rguaaVCuRW6EztWFp0a3OI3U1BRMGemEthqMd5nwIt9exsVTnF79IampKTcVeF9fXzZs2MCFCxcoW7YsAFevXmXp0qWUKFHC3I26uHmwVVtz9/J/GjlqtB2qEUehXDuvrKwsGjVqQpm/349GjW/n8KFDumxEbJrrgmYalGuRG6VzdeGp0S1Ox7tMOL7lqtq7jDy1bNmSb775hq+++op+/foBsGHDBs6fP0/79u1ZsWKFnSsUcTzKtfM5e+Y0I55/hqefHc4t1aqxe9dOatWOJCgoSJeNCKBci7gaZbrgdJ9uESsrX748TZs2ZcGC/+8yuWDBAkJDQ2ncuLEdK5OicOzYUT6bNDrX3/xPptm7NLEi5Tq3SpUj6NG7L3M/n8XLLwyjQoUKdHq8K9269yIzM4vhw2JJOHaUfgMH27tUEYuUaxHX4siZ1i/dIlZ25coVHn/8cYYPH05iYiKlSpVi2bJlPPXUU2RkZNi7PLEy98wMekYF5Jr+2R8X7VCNFBXl2rLWbWJo3SYmx7SSJUvqshFxCsq1iGtx5Ezrl24RK7ty5QqdO3cmOzubJUuWsG7dOi5evMgTTzyh68NEnJRyLeJ6lGsR1+LImVajW8TK0tPTCQsL45577mHhwoUsXLiQKlWq0LRpU9LTbTfqo4hYj3It4nqUaxHX4siZVvdyESvLzs4G4IknnmDIkCH4+/szePDgHPNExLko1yKuR7kWcS2OnGn90i1SRB577DHc3d1JTU3liSeesHc5ImIFyrWI61GuRVyLI2Zav3SL08m4eMopthMcHMz9999PQkIC9evXt05RIi5KuRZXMTtuMukpuQdSPPlnAjQsY/uC7MgWubbGNpRrkRujc3XBqdEtTiMgIBAvbx9Or/7QZtv08vYhICDwhpf/d9eVVatW5Xg8depUpk6dapXaRFyBci2uJj3lIv0tNK5fO3rQDtXYh61zfbOZBuVa5GboXF14anSL0wgOCWHi5KmkpqbYbJsBAYEEh4TYbHsixY1yLeJ6bJ1rZVqkaOlcXXhqdItTCQ4JcakAiohyLeKKlGsR16JMF44a3SIiIiIiQlZmJsuWLWFT/HrCwysx4uXXOJ+YSNy09zl65DChYeEMGBxLREQVe5cq4lQ0ermIiIiIiDD7s5msXfUd3Z7qxeChzwAwd84sfHx8GT/xAypXjmBGnK51F7lZanSLiIiIiBRzycnJrF+7mj79B9K4SVNKBgQAsG/vHu6+txnBISE0b9GSo0cOk56ebudqRZyLupeLiIiIiBRzRw4fJCsri+3btjJr5gwqVYqg38DBpKak4OvrC4C/vz8AqSkp+Fi4vtdkMmEymcyPjUaDbYoXcXBqdIuI/MP8T6aRnpr7HrsnEo5CVD07VCQiIlL00tLSADdq1KpFu4ceZkbcVObNmW1xWTc3y+tYvnQxSxYtKLoiRZyUGt0iIv+QnnqRnlEBuaa/eTjDDtWIiIjYRmBgEN7e3jzYqi0Ad9x1N5s3xhMQEPh3gxyMRiMAAYFBFtfRoeNjtI3pYH5sNBoYOrBvEVcu4vjU6BYRERERKeZq1KiJl5cXq7/7loa3NeLnH3dQteotmEwmvt8UT+3addgYv57q1Wvi7e1tcR1eXl54eXnZuHIRx6dGtziV84mJpKam2Gx7AQGBN3VPQrd/9Lfy8vKiSpUq9OzZkxdffBEPD4+iKFHE6SnXIq7Hlrm+2UyDcm2Jn78/w4aPYNbMj/nyizlE1omiW49emDJMxE2bwvBhsYSFhzNoyNP2LlXsQOfqwlGjW5zG+cREhj87hPQM23Xz9fH2ZsLkaTcV+urVq/Pcc8+RkZHBN998w6uvvoqnpycjRowowkpFnJNyLeJ6bJ3rgmQalGtLIutEM37ilFzTR44abYdqxFHoXF14anSL00hNTSE9I4Mh99UmvLRfkW/vVJKBafH7SE1NuanAh4WFMXDgQAD69+9P2bJlWbZsmUMEXsTRKNciBTM7bjLpKbkHfQTwCSxDj0HP2ragf7BlrguaaVCuRW6UztWF57CN7qzMTJYtW8Km+PWEh1dixMuvcT4xkbhp73P0yGFCw8IZMDiWiIgq9i5VbCy8tB9Vg3MPdOWIfH198fHx4fLly/YuRcShKdciNyc95SL9G5axOG/Gr5Yb47amXIu4FmW64By20T37s5n8uP0HevcdQO3IOgDMnTMLHx9fxk/8gMUL5zMjbipjxk2wc6UiOaWnp3Py5EkyMjL47LPPSEpK4sUXX7R3WSJSCMq1iOtRrkVciyNn2iEb3cnJyaxfu5pnnx9Bo8ZNzNP37d1Dj159CQ4JoXmLlrz5+iukp6fj4+Njx2pFctq+fTuVKlUyP27YsCFDhw61Y0UiUljKtYjrUa5FXIsjZ9rd3gVYcuTwQbKysti+bStDBvZh3Ji3uHDhPKkpKfj6+gLg7+8PQGpK7lH0TCYTBoPB/Gc0GmxavxRvUVFRrFixghUrVjBu3Dh2795Nt27d7F2WiBSCci3iepRrEdfiyJl2yF+609LSADdq1KpFu4ceZkbcVObNmW1x2X+MDm+2fOlilixaULRFiuShbNmyxMTEABATE8OWLVtYtmwZycnJlCpVyr7FiUiBKNd5m/zeu+zYvo35i5Zp7BVxKsq1iGtx5Ew7ZKM7MDAIb29vHmzVFoA77rqbzRvjCQgI/LtBDkajEYCAwKBcz+/Q8THaxnQwPzYaDQwd2NcGlYvkdvnyZdzd3XUZhIgLUa6v+fmnH/npx+3mxxp7RZyZci3iWhwp0w7Z6K5RoyZeXl6s/u5bGt7WiJ9/3EHVqrdgMpn4flM8tWvXYWP8eqpXr4m3t3eu53t5eeHl5WWHykXgr7/+Yvr06WRlZfHTTz+xceNG2rdvT4kSJexdmogUkHKdm8FgYNbMj2jVph3ffbsC0Ngr4lyUaxHX4siZdshGt5+/P8OGj2DWzI/58os5RNaJoluPXpgyTMRNm8LwYbGEhYczaMjT9i5V7OBUkm2u0S/odg4dOsSgQYNwd3cnLCyMAQMGMHbsWCtXJ+JalGvnM3/u50TXrU9UdF1zozuvsVd88rjPqslkwmQymR9rDBbXYotcF2YbyrXIzdG5uuAcstENEFknmvETp+SaPnLUaDtUI44gICAQH29vpsXvs9k2fby9CQgIvOHls7Ozi7AaEdejXDun/fv28vNPOxg/cQoHD+7Pd1lLY69cpzFYXJOtc32zmQblWuRm6FxdeFZvdGdlZXHFaMTP35/s7GwSjh2lXPny+PuXtPampJgJDglhwuRppKbmHrG+qAQEBBKcxy80xYlyLUVFubafwuR66ZJFpKam8szQAWRmZgHQp0fXGx575TqNweKabJ1rZfoanaulqOhcXXhWbXT/eTyBd//3Ns2at+DRzk8w5q3X2bd3Lz4+3rzw0mtE1omy5uakGAoOCXGpADoDa+U6KzOTZcuWsCl+PeHhlRjx8msa6VgA5doeCpvrQUOexmTKAOCPP35nRtxUxo2fxLw5s29o7JXrNAaL61KubcuVP4NPHvcmhpSkPOefPf0XUMVm9RRXynThWLXRPXvWTDIzM4mMiubXX37m4IH9dHnyKTZviufLeXN4a+w71tyciNiAtXI9+7OZ/Lj9B3r3HUDtyDqARjoWsZfC5rpU6dLm/w8K+hOAkHLl6da9l8ZeKYCE4wnMeOd1i/P+/Os0lcNCc00/+WcCNCxTxJWJs3Dlz+CGlCReua9KnvNj55ywXTEiBWTVRvexo4d55LHHqRMVzcfTp3Fb49tp36EjHh4eLPzyC2tuSkRsxBq5Tk5OZv3a1Tz7/AgaNW5inq6RjkXsw5rn64a3NWb+omXAtV9CNPbKzXPPzKB/Hg3o144epH/DOhani1ynz+Aijs3dmisr4efHn38eJzU1hV9+/om69RoA8NdfpyjhZ/+h2kXk5lkj10cOHyQrK4vt27YyZGAfxo15iwsXzuc50rElJpMJg8Fg/tMoxyIFp/O1iGtRpkUcm1V/6W7e/H6WfrWILZs3UbJkSZo2vZP58+awYd0a2v1joBQRSxx91EF7sff7Yo1cXxtYyY0atWrR7qGHmRE3lXlzZltcNq+RjjXKsXOy9/7riBzhPdH5WgrKEfZfR2Tv90WZlsKw9/7rqKz5vli10d3pia6ULluWkyf+pMX9D+D39y9Xbdq15/EuT1pzU+JCrg+iYzAYHOLm9Y7GYLj2i669BhuyRq4DA4Pw9vbmwVZtAbjjrrvZvDH+pkY61ijHzsXDwwOAjIwM5fpfMjKuDUB2/T2yB52v5WbpXJ0/VzhXS/GjXOfPmrm2+i3DWj7QKsfjLk8+Ze1NiIvx8PCgVKlSnDt3DgA/Pz/c8ruxazGRnZ2NwWDg3LlzlCpVyq4f0Aub6xo1auLl5cXq776l4W2N+PnHHVStegsmk+mGRzrWKMfOxdPTEz8/PxITE/Hy8sLd3apXMzmtrKwsEhMT8fPzw9PT6qfgm6LztdwMnastc6VztRQ/yrVlRZHrQp/x5835jPtbtqJCaCjTP/wgz+XcgAGDYwu7OcnD6dOnGfvKs3nO9wsszbMvvWG7gm5ShQoVAMyhl/9XqlQp8/tjK9bOtZ+/P8OGj2DWzI/58os5RNaJoluPXpgyTBrp2EW5ubkRGhrKsWPHOH78uL3LcSju7u5UrlzZ5h9sdL6WwtK5Om+ucK4urpz9M3RhKdd5s2auC93o/mHrFupERVMhNJTNGzfks6SbAl+UMq/mezuFsfEJNiulIK5/QC9Xrhwmk8ne5TgMLy8vu3xrXhS5jqwTzfiJU3JN10jHrsvb25vq1aubu1PLNd7e3nb55V/nayksnastc6VzdbHk5J+hC0u5tszauS50o3vSB3HmLp9fLFxa6IKkePPw8LBr1yy5RrkWa3F3dzePUC/2pVyLtehc7RiUabEm5bpoFfqr9n9fY5mamkLiubMAXDEa+XHHD5w6dbKwmxERG1KuRVyPci3iWpRpEedh1f5te/f8wbNDB7Jxw3qumkyMfPVFJr/3Li8+/ww7tm+z5qZExEaUaxHXo1yLuBZlWsSxWbXR/cXc2QQFlaJxk6bs2PED5xPP8fSw4dxyazW+WrzQmpsSERtRrkVcj3It4lqUaRHHZtVG98kTJ2jZqjVVqt7Czl9/oXGTO2h6x13cedc9nDn9lzU3JSI2olyLuB7lWsS1KNMijs2qje5SpUqx5/fdHD1ymN9+/Zl69eoDcGD/PoKCSllzUyJiI8q1iOtRrkVcizIt4tis2uhu0649v/36C6+9PAJ//5I0bnIHH0+fxo7t27j/gVbW3JSI2IhyLeJ6lGsR16JMizi2Qt8y7J9atWlHhdAwTp74kzvuugdvb2/CwivSvVcfWreJseamRMRGlGsR16Nci7gWZVrEsVm10Q1Qr34D6tVvQEpKCpdTU2nXvoO1NyEiNqZci7ge5dq5nTJ68Oa64xbnJV6+YuNqxBEo0yKOy6qN7uzsbL5e9hXfrFhG2uU0AEqXLk2bmPbEtH/YmpsSERtRrkVcj3Lt/NLdvMmOfMjiPOP2JTauRuxNmRZxbFZtdC9a8AXLvlrMLbdUo1bzSLKzstm/fy9fzPmczKuZdOj4qDU3JyI2oFyLuB7lWsS1KNMijs2qje74Deu4vckdPPv8iBzTJ7/3LmtXf6fAizgh5VrE9SjXIq5FmRZxbFYdvdxoMFL1lltzTa9yyy2kpqZYc1MiYiPKtYjrUa5FXIsyLeLYrNrorlGzJqu++4adv/3KFaORjPR0du/ayZrvVlKtek1rbkpEbES5FnE9yrWIa1GmRRybVbuX9+o7gLdHjeTd/72dY3qZMmXo3be/NTclIjaiXIu4HuVaxLUo0yKOzaqN7tDQMCZMnsq2LZv58/hxPL08qVQ5gjv/vl9gcTZ53JsYUpLynH/29F9AFZvVI3KjlGsR16Nci7gWZVrEsVn9Pt0lSpTg/gdaWXu1Ts+QksQr91XJc37snBO2K0bkJinXIq6nsLnOzMxkwfy5bFi3BoAGDRvRb+AQUi5dIm7a+xw9cpjQsHAGDI4lIqKKlaoWkbzoXC3iuKza6D5y5DCzP/2YE38eJz09I8c8NzeYt+Ara25ORGxAuRZxPdbI9ZbvN7Fh3VpeeOk1SgYE8PaokWxYt4b9+/fi4+PL+IkfsHjhfGbETWXMuAlF9VJEBOufqye/9y47tm9j/qJlnE9M1BdpIoVk1Ub39GlTOHf2DPUb3EaJEiWsuWoRsRPlWsT1WCPXzZq3oFnzFgCkpV3G09MTDw8P9u3dQ49efQkOCaF5i5a8+forpKen4+PjY82XICL/YM1z9c8//chPP243P547Z5a+SBMpJKs2us+dPUOHjo/yyGOPW3O1ImJHyrWI67Fmrkc8/wynTp4gsk4ULR9szayZM/D19QXA398fgNSUFHxCQnI912QyYTKZzI+NRkOh6xEpjqyVaYPBwKyZH9GqTTu++3YFgL5IE7ECqza6o+vWJ+li3oOFiYjzUa5FXI81c/3iKyM5/dcppkx6j00bN1hcxs3N8nOXL13MkkULrFKHSHFmrUzPn/s50XXrExVd19zoTk1J0RdpIoVk1Ua3v78/69etISXlEiX8/HLMcwMGDI615uZExAaUaxHXY41cHz+ewKXkZOrWq0/ZssFERkWxd88fBAQEkpaWBoDRaAQgIDDI4jo6dHyMtjEdzI+NRgNDB/Yt4KsSKb6sken9+/by8087GD9xCgcP7s93WX2RJnJzrNro/n7zRoAc14H8Pzd9OBdxQsq1iOuxRq7/TDjGp598xCsj38S3RAkOHTxAu/YdyEhP5/tN8dSuXYeN8eupXr1mnrcs8vLywsvLqxCvRETAOpleumQRqampPDN0AJmZWQD06dFVX6SJWIFVG91fLFxqzdWJiANQrkVcjzVyffe9zTl+PIHx48aQnZ1N0zvv4sFWbbn99jv+j737Dmvq+v8A/g57yAZlqOCuDLdW67bDurWtVq0LtyhWW6u/am21Vmtrax0oarXurXVb995W68aFgLgQBQyQEEKS3x/UfKUkzIyb5P16Hh7lnpN7P/dyP7k5ueeeg+gF8zBubCT8AwIwYuRoHURMRAXRRU6PGDkacnnuyOc3blzHkugozJz1G9auXskv0ohKSaeN7phbN7WWWVlZwadsOXh6ehZ5fZyugMj4dJ3XRGR8ushrkUiEPv3C0adfeJ7l3j4+mDxlmk7iJKKi0UVOu3t4qP/v5vYQAOBTthz69AvnF2lEpaTTRve0Kd8g98kR7cJq1Ubk51+gjItLgfU4XQGRMOgyr4lIGJjXROZF1zldr35DrN+8HQC/SCPSBZ02urt0/RiHDu5Hj16fqbudyLKysGnDWtRv0Aiurm7Yv28v1q1ZiaEjRmldD6crIBIOXeU1EQkH85rIvDCniYRNp43uv/++gLbtO+D9Dz7Ms1wsfoXz585i1ux5UKqUOHP6ZIHr4XQFRMKhq7wmIuFgXpu3NHE6BmloWCmzMtDkrYoaX2Pv6on+I8boOTLSF+Y0kbDptNGd/DwJr1LT8i1/lfYKyc+fAwDKlHGBLEumdR2croBIWHSR10QkLMxr86YQ2aJC44/zLb97ZBWG1tP8XO+Syyn6Dov0iDlNJGw6bXSH1aqDw4cOIFOSiRo13oKVlRXu3LmNM6dOoGGjxpBIJDh18jhCQsO0roPTFRAJiy7ymoiEhXlNZF6Y00TCptNG97CISKz443ecO3MK586cAgBYWVmjRcvW6DdgEHJyclC5chV88mkvrevgdAVEwqKLvCYiYWFeE5kX5jSRsOm00V2mTBmMGj0WAwcPw/OkZxBZWaFs2XJwdHRU1xk5emyB6+B0BUTCoou8fpMQpgJcv3QBZOmau1Imxj8AQmvrPQYiY9J1XhORcTGn9efp06eYMXGM1nInVw+M+b/vDBcQmSSdNroB4EVyMmJj70Emy31mJCE+DoqcHDxPSsKnvfsUa12croBIGHSV10KZClCWnoIBoZqnTJl6P1vv2ycSAl1er4nI+JjTeqLIwcTWQVqLZxyNN1goZLp02ui+eOEc5s+ZjZycnDeWqvB63kAmPJHp0VVeW9pUgHFxD7Dit/xfFNq7eKLX4JFGiIjof3i9tkzZOQpMPZSgsSw5I8vA0ZAuMaeJhE2nje6N69eiYmAg2nXohAXzfkPP3n1RvkJFLF28EO07dtblpojIQHSV15Y2FaCVIlvj3fQVNzhCMBkfr9eWKUdkB1Ww5r+v9NxWA0dDusScJhI2K12u7HlSEt5p2hy1a9cFAJTz9UW9+g3w3gdtcejAPl1uiogMRBd5/XoqwD59BxRat6CpAAf1763+4YwERCXH6zWReWFOEwmbThvdZcuWxdUrl2FjawsnJ2ecP3sGWVlZePb0qXq6LyIyLbrI6zenApz3268ASjYV4LKV69Q/UYuW6mDviCwTr9dE5oU5TSRsOu1e3qnrR1i8cD7iHsSibbsO2LZ1E86dPQMA+ODDdrrcFBEZiC7ymlMBEgkLr9dE5oU5TSRsOm10t2zVBj4+PihXzhc1g0Pg6+uL2Nj7qFAxEK3bvKfLTRGRgegirzkVIJGw8HpNZF6Y00TCpvMpw4JDwtT/b96yNZq3bK3rTVAJcI5BKg1d5jWnAiQSBl6vicwLc5pIuErd6J47exa6dPsYQZUqY9qUyVrriUTAN9/xw7XRcI5BKgbmNZH5YV4TmRfmNJHpKHWjOynpGbKycgdAev78GUTQMvSwmZszcyok4lSt5UlPnwAIMlg8RKXBvCYyP8xrIvPCnCYyHaVudM/46Vf1/+cv/L20qzNZEnFqgXeSI1cnGi4YolJiXhOZH+a1cD2WWmPqoQSNZXczbDSWZSnYwLJ0zGlhuP80FV9N+lZruYerMyZOmGDAiEiIdPpM9/OkJDx6lIjMzAw4OzsjIKA8yvn66XITRGRgzGsi88O8FhaZyA6q4M4ay7Ifr9VYpny8Vt9hkQlhThuPTGkF53b/p7U89a+ZBoyGhEonje6EhHgs/30x7t698+8SFfBvF5eq1aph0NARCAwM0sWmiMhAmNdE5od5TWRemNNEpqHUje7HjxLx/bcToVQq0arNuwgIKI8yZcogIyMDiYkPce7MaUz7bhKmTv8JAQHldREzEekZ85rI/DCvicwLc5rIdJS60b1pwzo4ODri++k/wcvLO1/5Rx/3wLeTJmDrpg0YPXZcaTdHRAbAvCYyP8xrIvPCnCYyHValXUHMrZto0aK1xmQHgLLlyqFFq9a4efN6aTdFRAbCvCYyP8xrIvPCnCYyHaW+052RkQ5vH58C65Qt54t0cXppN0VEBsK8JjI/+sjrXTu2Ye/unZDJslCrTl0MjxiNjPR0RC+Yiwex9+HnH4BhEZF8ppRID3itJjIdOhlIbe/unThz+pTW8rTUFF1shogMiHlNZH50mdfXrl7BxvVrMWHiZLh7eGDG999h395diI+Pg729A2bNno8tm9ZjSXQUps/8RRfhk5HMX7QEKelZ+ZZ7ujggcvhQI0REr/FaTWQadNLofvr0CZ4+fVJILc4nSWRKmNdE5keXeW1jY4PeffohrFZtAICfvz9epb1CzK2b6B8+GN4+PmjV5j1M/XYiZDIZ7O3tSxk9GUtKehZUTQbnX352qRGioTfxWk1kGkrd6F63aZsu4iAiAWFeE5kfXed1cEgogkNCAQAJ8XG4f+8uevfpj/379sDBwQEA4OzsDABIF4thr6EbrFwuh1wuV/8ulUp0GiOROeO1msh06ORONxEREVmmly9fYNbM6ejQsQuqVquusY5Iy422Hdu2YOvmjXqMTj9WRs+BTKy52+6jh/FAPU/DBkREgvXs6RN8NelbreUers6YOGGCASMiY2Cjm4iIiEpELBZjxrQpCAkNQ49enwEAXFxckZmZCQCQSqW5y1zdNL6+S7dP0L5jF/XvUqkEo4bn78YsNDJxCoZqaVh/8+CugaMhIiGTKwHndv+ntTz1r5kGjIaMhY1uIiIiKrYsqRQ/z5gGb29v9OkfDokkEyKRFWoGh+Dk8aOoWTMEx44eRrVqNWBnZ6dxHba2trC1tTVw5ERERZcit8FXO2O0lsvkOQaMhkwVG91ERERUbOfPn0Vs7D0AwNCB/QAA3j4++G7qDEQvmIdxYyPhHxCAESNHGzNMIqJSkYts4Nygp9Zy1f7lBoyGTBUb3WR0M376CaniTK3lfNaFiEh4WrZqg5at2mgsmzxlmoGjISIiEi42usnoUsWZfNaFiIiIiIjMEhvdRERERBYuQyLF1FnzNJbFP0xEYBMDB0REZEbY6CYiIiKycDmwgaqJ5pHjsx98Y+BoiCwHpxSzDGx0EwDg/tNUJjwRERERkQFxSjHLwEY3AQBkSismPBERERFRMahUSpw8vF9ruXt2tgGjIaFio5uIiIiIiKiEmge5ay27fsdwcZBwsdFtIVLkNvhqZ4zWcpk8x4DREBERERERWQY2ui2EXGQD5wY9tZar9i83YDREREREJDS7dmzD3t07IZNloVaduhgeMRoZ6emIXjAXD2Lvw88/AMMiIhEYGGTsUIlMipWxAyAiIiIiIuO6dvUKNq5fi4jIMZg6/SfciYnBvr27sGb1ctjbO2DW7PmoWDEQS6KjjB0qkclho5uIiIiIyMLZ2Nigd59+CKtVGxUqVISfvz9epb1CzK2baNaiJbx9fNCqzXt4EHsfMpnM2OESmRRBdi9n1xbhKWwOwZfJSfDyKVfsMgB48uwZqpU6QiLTcCX+OabPXZxvuVcZewwfNMDwAREREQEIDglFcEgoACAhPg73791F7z79sX/fHjg4OAAAnJ2dAQDpYjHsfXzyrUMul0Mul6t/l0olBoicSPgE1+h+3bVlwsTJcPfwwIzvv8O+vbsQHx+n7tqyZdN6LImOwvSZvxg7XItR2ByCiUtHo6KW8oLKAECxdHSp4yMyFRKlDeT1++Zb/vLSaiNEQ0RElNfLly8wa+Z0dOjYBVWrVddYRyTS/Nod27Zg6+aNeozO8hR048vD1RkTJ0wwcERUEoJrdL/ZtQVAnq4t/cMHq7u2TP12ImQyGezt7Y0cMRERERGR6ROLxZgxbQpCQsPQo9dnAAAXF1dkZmYCAKRSae4yVzeNr+/S7RO079hF/btUKsGo4YP1HLV5K+jGV+pfMw0cDZWU4J7pDg4JRfuOnQH8r2tL0+YtkC4Wa+zaoolcLodEIlH/sGsLEREREZF2WVIpfp4xDd7e3ujTPxwSSSYkEglqBofg5PGjeJGcjGNHD6NatRqws7PTuA5bW1s4OTmpfxwdnQy8F0TCJLg73a+xawuReeFYDQWLj4vls95EArIyeg5k4hSNZY8exgP1PA0bEJGenT9/FrGx9wAAQwf2AwB4+/jgu6kzEL1gHsaNjYR/QABGjORjgUTFJchGN7u2EJkXjtVQuCyFFZ/1JhIQmTgFQ7U0rL95cNfA0RDpX8tWbdCyVRuNZZOnTDNwNETmRXCNbk1dW0QiK3XXlpo1Q4rUtcXW1tbAkRtXitwGX+2M0VquUBkwGKL/4FgNRERERGSpBNfoZteWkpGLbODcoKfWctW+ZQaMhigvTkNCRERERJZKcI1udm0hMl8cq0GYFi1bgZcZsnzL+Tw5ERERUekJrtFN9F8FzU8IcI5CU8GxGoTrZYaMz5MTERER6Qkb3SR4Bc1PCHCOQlNgiWM1PMy0wvRjj/MtT8uUwV9H2+AdaiLT8VhqjamHEjSWZSm0dPEhIpOnUilx8vB+reXu2dkGjIaMhY1uItI7SxyrQSayh7x6+3zLFU+36GwbvENNZDpkIjuogjtrLFM+XmvgaIjIkJoHuWstu37HcHGQ8bDRTUR6x7Ea/icnR4ErZ0/kW24jyTRCNESl8+pVGk6fOoETx45iZOQYVKgYiBfJyYheMBcPYu/Dzz8AwyIiERgYZOxQiYiIjMbK2AEQEVkSEVSoU9Y+349KpTR2aETFIpVKETliKM6dPo2E+Dj18jWrl8Pe3gGzZs9HxYqBWBIdZcQoiYiIjI93uomILIS2Z8AfxCegQn0jBEQmzc7ODvOjlyBbJsPokcPUy2Nu3UT/8MHw9vFBqzbvYeq3EyGTyWBvb2/EaImIiIyHjW4iIguh7Rnw7PvfGyEaMnXW1tZwc3NH8vOkPMvTxWI4ODgAAJydndXL7H188q1DLpdDLperf5dKJXqMmIjIvHCGH9PBRjcRUSloG6VcYsTRiOPjYjF97uJ8y3lHm4xFpCUddmzbgq2bNxo2GCIiM8EZfkwHG91ERKWgbZRyZeIGI0STK0thxTvaZDQuLq7IzMwdGFAqleYuc3XTWLdLt0/QvmMX9e9SqQSjhg/Wf5BEREQGxEY3ERER6UzN4BCcPH4UNWuG4NjRw6hWrQbs7Ow01rW1tYWtra2BIyQiIjIsNrqJiARMW1dxQP/dxbVt26uMPYYPGqC/DZNJ69MvHNEL5mHc2Ej4BwRgxMjRxg6pQCuj50AmTsm3/NHDeKCep+EDEqCsLAkunT6Wb7nvo7j8lYlMTIrcBl/tjNFarlAZMBgyW2x0ExEJmLau4oD+u4tr2/bLS6v1ul0yLT5ly2H95u3q3719fDB5yjTjBVRMMnEKhmpoXH/z4K4RohEopQr1fR3zLU6Ml2uoTGRa5CIbODfoqbVctW+ZAaMhc8V5uomIiIiIiIj0hHe6iYiIiCycQqHQ2IUcAKyVCsMGQ6RD7D5OQsBGNxERERFp7EIOAFeuGzgQIh1i93ESAja6i2HOzKmQiFM1liU9fQIgyKDxEBERERERkbCx0V0MEnEqJrYO0lgWuTrRsMEQUaHWL10AWXr+UYkT4x8AobWNEBERERERWRo2uonIbMnSUzAg1CXf8qn3s40QDRFZgsdSa0w9lJBveZZCZIRoiEwDe5Pqx7OnT/DVpG+1lr9MToKXTzmt5R6uzpg4YYI+QrM4bHQTERER6YhMZAdVcOd8y5WP1xohGiLTwN6k+iFXAs7t/k9reeLS0ahYQHnqXzP1EZZF4pRhRERERERERHrCO91EREREVGwZEimmzpqnsczTxQGRw4caOCKyRJwSjEwBG91EREREVGw5sIGqyWCNZSlnlxo4GrJUnBKMTAEb3UREREREREagUilx8vB+reXu2cYb/LWwgdg40FrRsdFNJo9vCERERMLy6GEclvyk+dps7+qJ/iPGGDYgIgFrHuSutez6HcPF8V+FDcTGgdaKjo1uMnl8QyAiIhIWZY4cQ+t5aixbcjnFwNEQERkXG90mgoNElBzvhBMRERERkbGw0W0iOEhEyfFOOOnCw0wrTD/2ON9yiUJkhGiIiIQtQyLF1EMJGsuSM7IMHA0RkXGx0U1EVAQykT3k1dvnW65M3GCEaIiIhC0HNlAFd9ZYJj231cDREBEZFxvdAmHs7uNCHjmRyBLk5Chw5eyJfMttJJlGiKZg8XGxmD53cb7lXmXsMXzQAMMHRERERCRgbHQLhBC6jwt15EQiSyCCCnXK2udbfj1GaYRoCpalsIK8ft98y19eWm2EaIgKtzJ6DmRizYN3PXoYD2gZ8IsKplAocOn0MY1l1kqFYYMhMlMF3Rgz9ZtiM376Cali7TcXzGncJTa63zBn5lRIxKlay5OePgEQZLB4iIhMSUnugC9atgIvM2TFeg1RccnEKVpH0v7mwV0DR2Ne6vs6alx+5bqBAyEyY9pujJn6TbFUcabFjLvERvcbJOJUTGwdpLU8cnWi4YIhIjIxJbkD/jJDxrvmREREJogzBBUdG91UJHzmWz8sqVuNqeAo5URUmMdSa60jc2fxvaJQGRIpps6al2/5sycP4etfUeNrPF0cEDl8aL7l8xctQUq65tHQtb2GiHSDMwQVHRvdVGR85lv3LKlbjangKOVEVBiZyE7ryNzKx2sNHI3pyYENVE0G51suXvsNymlYDgApZ5dqXp6epXFdBb2GiMjQTK7Rffb0KWxYtxqZmRlo0KgxBg0ZDltbW2OHRSassK4xL5OT4OVTrsTlvFtdOOY1/Ze258OfPYqHb/mgfMuF+Ay4JT+vzpwmMj/Ma+HRd09UeXZ2qdZf2GfsJ8+eoVopXm9Kn7FNqtGdni7GooXzED54GKpWrY7p077F0cMH8cGH+e9KERVVYV1jEpeORsVSlPNudcGY16SJtufD0+5/Dy8TeQbcUp9X13dOFzQSub2rJ/qPGKOT7bALuf5oG/XcLkui9TUxN69h0IhR+ZanZ+UguIkuo9POUOeeEPFaLVz67olamvUX9hlbsXR0qV5vSp+xTarRHXv/HlQqoGWrNhCJRKhbtz5ibt1kwguAOU9nQPrFvC6Ytvm7AQDiNJOY21vbXWsAeBCfgAr19bdtXd5ttuQ718Wh75wuaCTyJZc1N4hKtB12IdcrTaOeX7+l0lpfrrJGhcYf53/NEcM9+mOoc0+IjHmtTpHb4KudMVrLFdpPG4tX2J1wN5ms4HKV8KYtfVNBd8ILuwtu6HGVTKrRLRaLYe9gD5Eo9xtmJ2dnJCUl5asnl8shl8vVv0v+/QAqlWr/BhUAFAolJNk5WsuVKpXW8oLKilIOlQoKef4Pc6ZU/k6A5mlDbt1WQSEr4NirlGZdrlQoIJFoLlcqFCV+LfC/c1qlMt0rjj7zOidHoTHvFErt+ahSKTWf60ZaLlIpEOahMVRcV2ouu6XM0XheqZSazzd9L5fKVcgKzf9hGQBkd3/SyTascuQac+V5WgbkdXrmX35lQ4G5pUlx16XIkRcrVsCychooYV4rNOe1ukzDsS3oNdquz6qCrnva8rigspK8RtfrE0IMha1P2zWxBK8RKXKKnecFKcm5B1hWXuvjM7gc1nCo3U3ra1WHVhv9M7DRykvx+RwAbsYoCykvQmxG/IwtVyjh0Ebz3fKXB38rMP9fporh9P5Y7eWFvL64eS1SmdA7wInjR7F65R/4/Y/crnlrVi1HfNwDfPPdtDz1tmxaj62bNxojRCKjiFq0FF5e3sYOo0SY10T5WUJOA8xrsiyWkNfMabI0Rc1rk7rT7eLigiypFEqlElZWVpBKJHB1c89Xr0u3T9C+Yxf170qlEpkZGSjj4qL+hq44pFIJRg0fjKhFS+Ho6FSaXRAs7qNpUqlUyMqSwsNDc3c3U2CsvDZH5niO64IpHRdLymmg8LwW4t9OiDEBwoxLiDEBho/LkvLaXK/VQj2Xi8tc9gMw/r4UN69NqtFdpWp1WFlZ4fDB/QgODcOVK5fR7eMe+erZ2trmG02xTJkypd6+o6MTnJxM+wQtDPfR9Dg7Oxs7hFIxdl6bI3M7x3XFVI6LpeQ0UPS8FuLfTogxAcKMS4gxAYaNy1Ly2tyv1UI9l4vLXPYDMO6+FCevTarR7erqiuERo7F+7SpsXL8GDRs1RstWbYwdFhGVAvOayLwwp4nMD/OaqHRMqtENAE2aNkOTps2MHQYR6RDzmsi8MKeJzA/zmqjkrIwdgCmwtbXFx90/zdddxpxwH4lMH89xzXhcTJcQ/3ZCjAkQZlxCjAkQblwkXOZyzpjLfgCmty8mNXo5ERERERERkSnhnW4iIiIiIiIiPWGjm4iIiIiIiEhP2OgmIiIiIiIi0hOTG73cEH78YQquXb2i/r1Dpy74sF1HRC+Yiwex9+HnH4BhEZEIDAwyWowl8epVGk6fOoETx45iZOQYVKgYiBfJyRr3S6VSYf3aVTh+9Aisra3RsXNXtO/Y2di7UCSa9vP0qROImjtbXaeMiwt+/2O1Se8nWQ5d5e7NG9exfOlipKS8REhoLQyLiDTp+VN37diGvbt3QibLQq06dTE8YjQy0tMt/rgI2dnTp7Bh3WpkZmagQaPGGDRkeJ5BcDIyMrB44XzcvHENHp5eGDh4GEJCwwAAX4yOwNOnT9R1BwwcgrbtOiAhIR6LF87H0yePUblKVYwY+Tm8fXwMEtf3301CzK2bedYVGlYLk779Htu3bcHGdWvUyytVroIZP/2qs5hUKhVibt3A8aNHAAAjRn2uLtu7eyd279wOhUKBFq1ao3ef/hCJRAY5VtriUiqVWLdmJY4fPQKVSoUm7zRD+KAhsLK2Nuqx0ud5RaanNOeS0BS2L0nPnmLJogW4d/cuvLy80LtvfzRs1NiIEWtX2L7EPYjFkkUL8PhRIsqWLYc+/cNRp259I0acH+90a5CamorwwUOxdMUaLF2xBj16foY1q5fD3t4Bs2bPR8WKgVgSHWXsMItFKpUicsRQnDt9Ggnxcerl2vbryj+XcOjAPoyfOBmDh0VgzarleJgQb6Toi07bfqalpqJGjZrqv+ncqMUATHc/yXLoKndzcnKwYN5vaNK0OWbOmoOkpGfY8ecWY+1WqV27egUb169FROQYTJ3+E+7ExGDf3l0Wf1yELD1djEUL56HbJz0wZdpMXL1yGUcPH8xTZ8e2LXj58gVmzpqDRm83wYJ5vyFHLgcApKWl4qv/m6R+H3/3vQ8AAL9HL0DlylUwa/Z8WFtbY82q5QaLa/z/faOO5/fla+Dr64eGb+d+aE1LTcU7TZury7+d8oNOY1q/dhUWzJuDmFs3kZWVpV6emPgQa1atwPCRkfjq/ybhwL69+OfyJYMdK21xHT1yCMePHsH/ffMdxn/9DU4cP4KzZ04Z9VgB+juvyPSU9lwSkqLsy8KouShTpgx+m78QjRq/k/u+lpNjpIi1K8q+zJn9M6pUrYbZcxeiUeMmWDBvDoQ2Vjgb3RqkpaaibNlycHYuA2fnMrCzs0PMrZto1qIlvH180KrNe3gQex8ymczYoRaZnZ0d5kcvQeSYL/Is17ZfMbduolr1t1ClSlXUq98AZcuWw53bMUaKvui07Wdaaio8PD3Vf1MnJycAMNn9JMuhq9xNevYUqakpePe9D1C2XDk0fqcpYmJuatmq8NnY2KB3n34Iq1UbFSpUhJ+/P16lvbL44yJksffvQaUCWrZqg/IVKqBu3fr57hLH3LqJtxu/g7LlyuG9D9oiNTUFSUnPkJWVBalUinLlfNXv4za2tsiWyRAbew8tW78Lbx8fNG/Zuth/v9LE5eDoqI7n7p0YpKeL0aJlGwC51x0vb291uYOjo05jat+hM6IWLUXN4JA8y2/fugk/Pz/Uql0XVatVR/Uab+F2zE2DHSttcbm6uqJPvwGoUqUqqtd4C65ubnj16hUA4x0rfZ5XZHpKcy4JTVH2JSQ0DB937wkvL2/UrlMHMpkMWVKpkSLWrij7MjdqMQYPHQFvH5/cPLYRXmdu4UVkZDlyOTIy0rF29UosiV6AatVrYPCwEUgXi+Hg4AAAcHZ2BgCki8WwN5GuRtbW1nBzc0fy86Q8y7Xtl/iN5QDg5OwMsVhsuIBLSNt+pqam4N7dOxg5bBBcXF3xWd8BCKtV22T3kyyHrnL39Xmtfo2TM9JN+FwPDglFcEgoACAhPg73791F7z79sX/fHos+LkImFoth72APkUgEIPdvkJRUwHnt5Kx+nZW1NQBg/pxfkZ6ejtp16mLAoKH5/37Oxf/7lSaugDfq7NqxHa3ffV9dLzU1BfFxD3DyxDGULVsOAwYNRaVKlXUWk7uHRwGvfeNcd9JyruvpWGmL681uq1f+uYRXaa/Q6O0mAIx3rFJTUwDo57wi01Oac0loirIvPXp+pv7/oQP7UadufZRxcTFonEVRlH0BgNMnj+P3xdGQy7MxcfJUdX2hYKP7v0QiDBg0BL6+/nBycsKC+XOwZdMGbVXNkrb9MuX9bfPe+wgODUP16m9h/197MO+3XxC95A+NdU15P8myFTt3zeBcf/nyBWbNnI4OHbugarXqGutY4nExFUV5vxWJADdXN/QbMAhVqlZDdnY25v32C/zLl0fjxk01vcJgcb12/95d3L0Tg5GRY9TLOnXphqysLAQGVcKm9WsQPX8Ofp49T68xaX1tCUqKvO5iriIhIR7z5/yK/uGD1M9IG+tYGfq8ItNjTp8Jte3Lls0bcOvmDUyfOcuwAZWCpn2p36ARKlepij27d+L3RQvw69wFsP73C1shYPfy/1AqlWjQ4G3Uql0HVatVR4OGjfAwIQEuLq7IzMwEkPuMJQC4uLoZM1Sd0LZfLi4ukEgy1fWkUilc3dyNEaJO+PkHoFmzFihfoQLatuuAjIx0pKSkmN1+kuUobu66uLgCADIlr18jgZuru2GD1jGxWIwZ06YgJDQMPXrlfmPP4yJcLi4uyJJKoVQqAQBSiSTf+62Li6v6byH59+/n6uoOK2trNGnaHNVrvIXQsFoIDg3Fw4QEuLr++/d7/TeXSODmVrxrc2niem33zu1o2KixuhGpUqlQqXIVNG78DipUqIg2732AR48eQalQ6Cwmra91dYEk881zPfe1hjpWBUl69hQzf5iKD9t3wrvvtwVg3GOlz/OKTE9pz28hKeq+HNi3F3/t3okJk76Fl7cwe+8Wti9KpRJnTp+ENEsKP/8AfNiuI5KSnuHlixdGilgzNrr/I+nZU4wcPghnT59CUtIzXLt6BRUDA1EzOAQnjx/Fi+RkHDt6GNWq1YCdnZ2xwy01bftVMzgUd+/cxr27d3D1yj9IevYMNWsGGzvcEvvlpxlYMH8OUlJScPrUCZQp4wJPT0+z20+yHMXNXV8/P3h4eOLQ/n1Ifp6Ec2fPoOa/3bNNUZZUip9nTIO3tzf69A+HRJIJiURi8cdFyKpUrQ4rKyscPrgfjx8/wpUrlxEcEpqncVUzOATnzpxGUtIzHDm0H55eXijn64tbN29g1PBBiLl1E4mJD3H39m1UDAyEnb09KlepiqOHD+JFcjJOnTxe7L9faeICcj83XDh/Du06dMqz3onjv8TaNSuRmpqCc2dOo3z58upu8rqISZuaNUPw/HkSLl+6iNjY+7h75w6CQ0INdqy0SU1NwYxpU1C7bj2079gJmZkZ6udHjXWs9HlekekpzbkkNEXZl9OnTmDNqhUYOfoLlC1bFpmZGeqBK4WksH2xsrLCxvVrsHH9WqSkpODs6ZNwcXGFp5eXkSPPS6QS2tBuArDvr93YtX0bpFIJwmrVxpDho5AllSJ6wTzE3r8H/4AAjBg5GhUqBho71GJLfp6E0SOH4edf574x7VD+/VKpVNiwdjWOHjkEaxtrdOn6MT5s39HY4RfZf/czIT4Oy5YsQkJCHMqW80X/8MEIDatl8vtJlkMXufvfqbGGj4yEs7NpTo11/NgRLFqQt/upt48Pvps6w6KPi9CdPX0K69eugkSSiYaNGmPgkOGY8+vPCA4JRYdOXfJMzeXp6YWBQ4arn93fuG4Njhw+CIUiB43eboKBg4fBxtYWCQnxWBIdhcePHqFK1WqIGDW62HdsShPXH0sXI/b+PUyf+Uuedd68cR0rly9F0rOnqFAxEEOGRSAwqJLOYnotOmousrKyMHbcBPWyvXt2YteObVDkKNC6zXvo1acfABjkWGmLa8vmDdj6n8f1agaH4Nup0416rPR5XpHpKc25JDSF7cvoiKFITn6e5zXDIyLRsvW7RopYu8L2JTb2Ppb/vhiJiQnw8/PHgEFD8FZNYQ12x0Y3ERERERERkZ6wezkRERERERGRnrDRTURERERERKQnbHQTERERERER6Qkb3URERERERER6wkY3ERERERERkZ6w0U1ERERERESkJ2x0ExEREREREekJG91mbuL4LzDn15+NHQYRERGV0vGjh9Gre1fcunnd2KEQEVExsNFt5vr0H4gu3T7Wy7p58SciItKfLZvWo1f3rkh+nmTsUIjICCIjhuD77yYZOwzSARtjB0D6oVQoYGVtjeCQUGOHotHr+IhIN1QqFVQqFays+F0qERERkZCIVCqVythB0P8kP0/C6JHD0Prd9xH/IBaPHz9C9RpvISJyDDw8PJH4MAEr/vgdsffvwcvbB10/+gTNW7QCAPTq3hW1ateBWCyGRJKJuVGLERkxBD4+ZfHt1Ok4fvQwFi2cj569++LkiWNIfp6EsFp10L1nb6xYtgSx9+/D398fw0aORqVKlQEAL1++wB+/L8bNG9fh5u6G99u2Q4eOXbBowTycOH5UHffH3T/FJz16aa0vEokQGTEEbm7usLOzw907t7Fmw1atx0GXsYpEIqSmpmDV8mW4dvUfiERWqFO3HsIHD4Wzcxn1tj7rNwBHDh5ASkoK6tSth4hRn8PO3l5/f2yiIrp/7y7WrFqOB7GxcHFxQev33scn3XsiOmouzp87i3eaNsOZ06cw/utJCA4Jw8Xz57Bxw1q8SE5GYFAQ+oUPRpUqVQEA/1z+G5s2rMPjR4nw8PBEp64f4b332xa4/Vs3r2PalMno2u0TXL36Dx4/SkTlKtUwcPBQbFi3GtevXYOXtzfCBw1Frdp1AACZmRlY+cdS/H3xAhydHNGsWUt079kbNjY2kEqlWLPyD1y4cA6KnBy8VTMEg4YMg5e3j3pbH3f/FJf+vognjx+heo2aiPz8C7i6uen7UBMBAG5cv4b1a1fhUeJDeHh4okOnLni/bTtERgyBr68/PDw9cfnvi7C3t8eAgUPw9OkT7Nm1A0qlEs1btkK/AYPU69q1YxsO7NuLV6/SULlKVfQfOER93crJycGmDWtx4thRSKUSBIeEInzQMJQtVw7ffzcJMbduqtczPCISALBo4Xx83KMnLpw7ixfJyahbrz6GjxwNW1tbREfNxeVLf6Nz14+we9d2KJVKfNiuIz7u/imA3C/ntv+5BQf270WOPAchoWEYMGgo3N3doVKpsGXjehw7ehgSSSYqV6mKfuGDERgYBAA4e+YUtm7eiOTnSShbzhef9OiJtxu/U+Bx3LJpPbZu3oi+AwbiwF97kZaWineaNkeb9z7A0iXRePrkMSpVroKRkWPgU7YcABT4OefJ48dYvXIZYm7dhL2DAxo3boq+/cNhY2ur3lb44KHYue1PSKUSvNO0BQYOGQaRSKST84JMy/OkJCxftgS3bl6Hs3MZNG/RCt179gYArXkH5H6efqdpc2RlZSHm1g24ubljWMQoXDx/HseOHoKtrR06dOqCTl26Aci9G12unC/s7R1w6+Z1eHl5Y/CwCLxVMxiA9mv4a/v27sae3TuQLhYjMKgS+g0YBFdXV4weOSzP/qzfvB3ffzcJEokEoWG1cPTwQdjZ26PHp73R+t33AQByuRzr1qzEqZPHYWVlhfoNGqFf/4FwcHREdnY21qxajvPnziBHLsdbNUMwYFBuOwEA9v+1B3v37MSrtDSUL18Rvfv2Q3BIWIHHODpqLi79fREdO3fBwQP7IJVI8WH7Dqhe4y2sXL4MqSkpCA4JRcSoz1HGxQUAcDvmJlavXI7HjxLh6+ePXp/1Q+06dQs9VoW9vwkdb4kI1OmTx1G7Tj20av0ebt64juVLlyA9XYwfpn4LsViM7p/2RsWKgVg4fw7u3rmtft21q1dQuXIVdPu4h9Z1Hzl0AM1atERYrTq49PcFTJowDkGVKqNz12548uQxVi77HUBu4s6YNgUJ8XH4qHsP1KpVF2tXrcCZUyfQolUbNG/ZGgDQvkNn1K3fsMD6r8XevwdXNzf07tO/SMdBF7ECwLzffsXVK//gg7bt8e77bXH2zCmsX7Mqz7b27tqJZi1boXadOjh/7gyOv/GlApGxZGZmYMa0KUgXi/FR9x6o8VZNbN20Aaf/Pbdlsiw8fJiAT3r0RLlyvrh18zp++/UnlC1bDj169oYiR4Gfpn8PiUSCp0+f4Neff4SVlRU++bQXyvn6YtmS6DzvIQU5cvgg6jdohCbvNMPtmJv4evyXcHJyxsfdP0W6WIzFC+er686e9RMuX/obHTt3QdNmLbBn9w7s3rkNALB82RIcP3YUzVu0QsfOXXHr5g0sWbQgz7b27t6FevUaoGnzlrhx/Sr27NqhoyNKVLCM9HT88tMMZGVl4dNefVC2XDn8sXQxrvxzCQBw4/pViAB07NIVMpkMc3/7BSeOHUHnrh+hfIWK+GvPLly/dhUAsHvXdqxbsxJVqlZDt4974OmTJ5g5fSoyMzMAAKtX/oFdO7ahfoOG6NipK2Ju3cTPM39ATk4O2nfsgrr1GgAAevT8DNWqv6WO8eihg2j8TlOEhIbizOmTOHni2P/iz0jH+bNn0LFTV3h5eWPLpvV4/PgRAODPLZuweeM6NHq7CTp27oo7t2OwcP5vAIDDhw7gz62bUDMkFN0+6YHHjx7h5xnToFAo8CgxEVFzZ8PJ0Qmf9uoDOzs7zPvtFyQ+TCjSMT1x9AjavP8BKlWugqNHDuGHqd+iXv0GeL9tO9y5HYONG9YBQIGfc5RKJWZOn4qE+Hh06vIRGr3dBAf278Xu3XnfG/bv3YP327ZDUKUqOHRwH65e+aeYZwCZA6VSiV9+noH79++i60fdERIahp07/sTO7VsLzLvXzp45jbJly6Fdh854+fIFfpj6He7fv4uPPvkUbu7uWL92FZ4+eayuf/PGdTiXKYNOXbohNTUFc2fPglwuL/Qafu7saaxcvhRBQZXwUfdP8SI5GT/NmAaIRBg4ZDjKlHGBr58/Bg4Zrt5WQnwcHibEo+tH3WFrY4vly35Xv6cs+30RDh88gDbvfoD327bDuTOnsHrlHwCArZs34uD+v9C4SVN06NQFt25ex9zZswAAV6/8gxV//A5//wB0/7Q3MjMz8MtPMyB+9arQY52ZmYGrV66gXftO8Pbxwbatm7Fw/ly0bNUajd9pin8u/409u3cCAJ4+eYwZ06bC1sYWPXp+BldXV/zy03QkP08q9FgBBb+/CR27lwvUh+064tPefQAAmZJMnDl1ElWrV4dY/AqffzEO5Xz90LjJO7h29R+cOH4U1WvkXowbNmqMIcNHFrju8MHDUKduPUilUgzs1wshoaHoHz4YQO43zK8vUJf/vcsUETlG3U09JuYmThw/hq+/+Q4vkp/j5PGjqN+wIapUqYrzZ89ord+0eUsAQFClyhjzxfgiHwddxNq0eUt82uszODs7w8/PH2KxGNevXcHt2zF5tjVwyDA0aPg2pFIpLpw/V+QPE0T6ZG1ljXETvkY5Xz84OzlDLBbj7JlTuPPG+Ttx8lQ4OTkBAJb9vhhubu4IHzwUVlZWCChfATOnT8WVfy4hNKw2Jk6egvIVAmFjbY1q1Wrg+rWruHM7Rv0eUpBPPu2F9z/4EABw6dJFuLq6ISJyDEQiEcTiV9i7eyfEr14h+UUybt28jk9791HfoUqIj8PJ48fQ9aPuaNuuA9q264CgoEoQi18h7kGsupHyWvdPe6Fdh04AgIsXzuEh85EM5PnzJMhkWWjV+l2079gZLVq1wZ5dO2Bjk/uRqWq16hgx6nMAQLpYjL27d2LoiFGoXuMthNWqjQnjxiA+7gFCw2ph766dqFylKsZ8mXvdCwyqhFkzf8DJ48fQsvW7OHr4IN5u/I76uu3m7o7ly5bgyj+X0aBhI8THxeKfy3+jWfMW8ClbDvfu5n5BFj54GBo0bASJRIJB/XsjIS4uzz5MnDwFTs7O8A8IwC8/zUDiwwT4+vrhrz27ULdeA3Tu+hEAQC7PxtbNG5GWmqq+5vXrPxCubm6oXLkKbt64AalUisePE6FUKtG+U2c0btIU9Rs2wrEjh/M0UgoSOXYcAgLKo06depgwbgyaNW+BHj0/AwDcunEd8XEPAADHjx7R+jmnStVqGD4yEp6e3vD09ERGRgYunD+LOzExQLf/bWv02HEIDKqEuvXqY8K4MUh8mIA6desV+zwg03bt6hUkPkxAROQY9XXo+fMk3LxxHffu3ikw7wCgcZN30H9g7ufNR4kJuHD+HMZ8OR4eHp7w9fPDLz/NQEJCPPz8AwDkvi9E/Pu+4O7hid8XLcDVK5cRGlpL6zW8abMW2LNrB3x9/fDFV19DJBLBz9cfy35fhKRnT/H+Bx9i5/at8PDwUF97AcDVzQ3jv54MGxsb2NrZYuUfS/Hs6VN4+/jgxLGjeO+Dtvjgw3YAgJQXL3DyxHEMHhaBR4kJcHZ2Rt/+A2FjY4OA8hXwMD4eSqUSiYm5+f9Jj16oUrUagkNCceH8OUizpEXqZfb1N9/Bzs4Ofv7++OWnGWjfqTO6dvsEKpUKl/6+oM7xfXv3QKVSYsjwCDg4OqJW7br46otInDl9Cm0/bF/gsXpN0/tbQED5Ep8rhsJGt0DZ2tmq/1+9eg2cPnkcMTdzu5lNmzI5T93k58/V/3d0dCx03Xb/rvt1XXd3D3WZg4MjZDIZACA+PvcivnD+nDyvVymVGtdblPpFiU8fsTo6OWHpkmjcu3sXKlXuMm8fnzx1XzdaXm9LlpVVrFiJ9MHB0RHp4nQsjo7C86T/Dab05vn5+twFchu3aWmpGB0xNM96kp8/h6urKx49SsT8ObORlpb6v3XJinau29n+733JwcEBbm5u6m6b6ryRZSHh33zcuG4NNq5bo36N7b+vd3N1w7Lfo3Ht6hUotbyfvLlPDg4ORY6RqLSCKlVGrdp1sHH9Gty8cR116tZDu/Yd1R88bd/Ig9fnvYeHR57fZbIspIvFSE1NQZN3mqnr1wwOAQA8fvwITx4/glwuV3dBBaD+/5MnjwA00hqjk5Pjv//m5klWljRvubNz3niyspD8/DkyMzNw+dJFXL50MU/95OTnaPPeBzhz6iS++nI06jdohHr1G6B7j56wsrZG7dp1ERhUCdFRc3H29EnUqlMPnbt+VORr+uv3DvW13OONa7mjI9Iz0gH871qu6XOO9b/jwMz+ZWaeL8X/+96Q71rO9w6L9OTfu5+VK1dRL5v6w0zE3r+Hb77+qtC8s81zvXud554ANH9OfLN+teo1AOR2b3doWPA1/PGjR6hdp676Wtrw7cZo+HbjAvfNzs5O/SWgo8P/zvOHCQlQqZQ4uP8vHNz/V57XvEpLQ9t2HXDj+jWMHT0C9Rs0QoOGjdTd7d95pzn2/7UHM6Z9h7r1G6Ju3Xr46JMeefarsJjePDYe/35eF4lEea7hCfFxyMnJwbixkXlen5z8vEifdwDN72+mgI1uE/D6Q6mVVW5CjvlifJ5GeZkyLnrZ7utHoMIHDc3TQLWz0/ycc3Hr61Jh254960dIJVL0GzAQPmXLYuO6NZD+50MKkRAlJT3D/LmzUb5CBQwfORouLi6YNXO69heIAF9fP/QdMDDPYj8/f9yOuYnlS5cgOCQMffqHIzs7G0uio3Qe8+unJz/65FNUqVo1X/mihfNw7+4dfNqrD/wDArD/rz24cf2azuMgKgkrKyv836TvcO3qFfxz+W/s2rkNmzeuw6Rvvy/Wemz+/bD65uCGr78IthJZaS7/d5gdK5Hun/57fZ1s2KgxWrV5N0+Zr58fXFxc8dv8aJw/exrXrl7BnF9noXqNGvjm2+/h4OiIH36chcuXLuLqP5exYd1qbN20Ad9P/ynfF9ilivHffzV9zsmSSvHrzz+iTBkXDB46Ah6enlish/cvMhNaHuM3RN69/tyuUqkKvYbrcriB1+t69/22qFe/QZ4yJycn1KpdF7/NX4TzZ0/j6pV/MGPaVDRt1hwjR4+Fp5cXfvktChfOn8W1K//g98XR2PbnFnw//ac8X4KXPsjcxvKoz7/Is9jLy7v4n3dMDBvdApWdna3+//379yASWaFa9Rq4fOlvWFlboV79hgCAxMSH8P+3a4uula9QEQCQo8hRby8p6RlcXf/tZvJvdiuVqqLV16OCtp2eLsbzpCS079gZH7bvCADYtmUzG91kEuLjHkChyEH3T3uhfoNGyCrkG93y5SvidsxNVKpcRf2tfHzcA/j5B+DSv3e3+ocPQsXAICQmPtRLzK/zUSLJVOej+NUr5CgUAHLHdqhTt566i+upE8f1EgdRSfxz+W+cPnUSPT7tjdoDh6Dbx90xfPAAHD96pFjrcXJygpeXN+7c+d+jIK8fa6oQGAhfXz/Y2tri9u0YfPBhewBQPzZSoWJg7gteX2d1MOatj09Z2NvbIzn5OerWawCRSASlUolHiQ/h4uKqHuekV59+ePf9tti540+sX7MKcfFxeJT4ENevXcWgIcPR6O0maP3u+5g8cTzOnT2Njp27ljq2116/d2j6nJMQHweJRILuPXvj3ffb5s6CoocvJ8g8+PvndjeOj3uAgPIVAOQ+7yyXywvPuxJ483N77P17AIByvr6FXsP9A8qre4cBwO2YW9i5/U90/egTVK/xFkQQoahjXgeUrwCRSIRXaanq/MmWyfDy5QvY2dtjSXQU/MuXR8dOXdGuQycs+30RDh3Yh74DBuHE8SN48vgxhgyLQPMWrXD2zCnM++0XXL96BW83KXjAxOIoX6Ei7tyOgaenF4L+HVAyIT4OgUGVcP7cmWJ93jE1bHQL1L69e2BlZYWsrCycOXUCDRq+jXffb4s9u3di0YJ5SIiPgyJHgf379uDTXn3Qtl0HncfQqFFj+Pn5Y8Pa1Uh9mQJHZycc3PcXmjZvgT79wuHm5g4A+GvPLqhUqkLr61NB2/6s7wB4enrh7OlTcHf3wP17dxAbe0/dICESsvLlK0AkssKObVvx5PFjnD1zCgCgUCjU3S3f1KXbR7h29R/8MPVbtGr9Lp48foTjx45i5qzZqPjvB4r1a1ejRs2aOPFvI0KRo9BpzNWq10BwSCj2/7UXcrkcZcuVw9FDB1ExMAhjx01AhYqBuH7tKrb/uRlJz57h/LkzAFDk50OJ9MndwxNnT5/Ek8eP0KxFS8TFxgIAylesiMuXLxby6rw6d/0Iy5ctwdzZsxAYFIR9e/fA3d0D77zTDPb29mj7YQfs3rUdTo6OcPfwwJ5dO1ChYiBCw2oBgPo6u3XzRnzQtl2p9svK2hodu3TD1k0bMHP696hVuw4uX/obT548wvyFvyMnJwd79+xEZmYG/APK48Sxo7C3t0e5suWQmpKC0yeP41VaGurVb6Aeg+F1I1lX2rz3Pnbv2q7xc07T5i1hb++Ag/v3IUeegyv/XEJaWqp6xGmiN9WqVRvlK1TEyuXLkJz8HM+ePsXxY0dyxxUpJO9KIvb+PSycPwe+/v7Yu2sH3N09ULtOPTxPeqb1Gg7kDkY8b84vmD1rJqpVr4ED+/dCKpHA188fQO7z5vFxD7B180Z0+feLam08PDzRomVrHD92BPPm/IrKVargzMkTgEiEGT/9ioyMDGxYuxqvUtPg6uaGy39fhLuHB8qUKQMbaxscPXwQEkkmatSoibNnTkEksoJ/ed0+K92hY2ccP3oYs2ZOx/sftoP41Ssc3P8Xxo6bUODnHXPARrdA1a1XHzeuX0PiwwSEhIYhfPBQuLi4YuI3U7BqxR/Yuf1PODo5oXWb99XTBOiaja0tJkz6FquWL8XBA3/BxsYGDRq+ja4fdQcAhNWqjTp16+PmjWuoVr167gAyBdT/r4yMDI3PWtnbO+g0VpFIhDFfjseyJdHYtnUTQsNqo36DRrjyzyVkSXm3m4QtoHwFDBk2Als2b8CuHdvQus176t4bfv7++eoHh4QhcsyX+HPzRmxcvxY+Pj4YOGQYKgYGoWJgELr37I39f+1BQnwcPuzQEVs2rkfS8yRIJBJIpZJ867O1KdrzXP/1+divsGrFMpw5dRIqlRKhYbXR798u78MjRmNJdBS2/7kVVatVQ8vW7+L40cN5nuEiMpZKlSpj7LgJ2LxxPdavWQU3N3d89MmneO/9tti5XftUl5q837YdMjLScfDAPly+dBFVq9VA+KCh6mcSP+31GXJycnDq5HHk5MgRGlYL4YOGqb9Qa/JOM5w8fhQXzp1FWCkaBK999FF3KBUKHD1yCDG3bqBiYBA+HzsONjY26PlZX0AEnD55AtITx1ChYiDGTZiEMi4uaNCwEQYPi8DunbmjsXt7+2DAwCGoU7cexK9eQZ4jz7ctR8fid0kt6HOOnZ0dIsd8gTUrl2Pb1k14u/E7yK6WjefP+b5B+VlZW2PchIlYsWwJtm3dDAcHR3Tu8hE+6dETKqWywLwricDAIMhkMuza/ic8vbwxdPhI2NraFngNB4AmTZshNS0Ff+3ehSv/XFIPOOzq6goA6PZxdyyOjsL+v/agUxF6lYQPHgY7e3ucPXMKly6eR7XqNdB/4BAAwLCIUVi9cjmOHjkEhSIHlatUQ5/+4bCyskLbdh2QlSXF4YMHcPnvi/D19UPkmC9QoUJFpKWmQqHM3/AtyeOtfv4BGP/1ZKxfuwpbN22Aq5sbPvrkU9SpWx9WVlYFHitTx3m6Beb1PN2v5702Z9FRc/PM9f1ai5at1SPDEpFhvJ7j9r9qBofg26nm80wVEenWf+cTf80SPscQAbnzdPv4lDXba2VkxBC8SE7Ot3x4RCRatn5XwytIE97pJqNp37GzxudEvLy8jRANkWVr2qwFKlfJP+iZvgZqJCLz0LN3X2T8O/r4m/z88vfEISLTM2xEJLKzZfmWBwZVMkI0pouNbjKawKBKTFgigfDzD1DPN0pEVFTVa7xl7BCISI9K86w7/Q+7lxMRERERERHpCedaICIiIiIiItITNrqJiIiIiIiI9ISNbiIiIiIiIiI9YaObiIiIiIiISE/Y6CYiIiIiIiLSEza6iYiIiIiIiPSEjW4iIiIiIiIiPWGjm4iIiIiIiEhP2OgmIiIiIiIi0hM2uomIiIiIiIj0hI1uIiIiIiIiIj1ho5uIiIiIiIhIT9joJiIiIiIiItITNrqJiIiIiIiI9MTG2AEYglKpRGpqChwcHCESiYwdDpHOqFQqZGVJ4eHhCSsry/oOjXlN5siScxpgXpN5suS8Zk6TuSpuXltEozs1NQWjhg82dhhEehO1aCm8vLyNHYZBMa/JnFliTgPMazJvlpjXzGkyd0XNa4todDs4OALIPSiOjk5GjoZId6RSCUYNH6w+xy0J85rMkSXnNMC8JvNkyXnNnCZzVdy8tohG9+vuLI6OTnByYsKT+bHELlvMazJnlpjTAPOazJsl5jVzmsxdUfPash4sISIiIiIiIjIgNrqJiIiIiIiI9ISNbiIiIiIiIiI9sYhnusl0KBQKyOVyY4chGLa2trC2tjZ2GEQlplQqkZ2dbewwBMXOzs7ipg0i88JrdV68VpM5YF7npeu8ZqObBEGlUuHZs2dIS0szdiiC4+7uDl9fX4scgIVMW3Z2NuLi4qBUKo0diqBYWVmhUqVKsLOzM3YoRMXCa7V2vFaTqWJea6fLvDZqo/vVqzScPnUCJ44dxcjIMahQMRCxsfexbEk0HiUmws/fHwMHD0ONt2pCpVJh/dpVOH70CKytrdGxc1e079jZmOGTDr1O9rJly8LJyYkXLeS+CUokEjx//hwA4OfnZ+SIiIpOpVLh6dOnsLa2RoUKFXhn919KpRJPnjzB06dPUbFiRb7XkUnhtTo/XqvJ1DGv89NHXhut0S2VShE5YiiCgiohIT4OQO6Hkd9mzUT9ho0wbvxEbFi3GosWzsdv8xbiyj+XcOjAPkz6bhpepaXhl5+mIzSsFioGBhk07ilff4lXaSkF1nFz98SUH381UESmT6FQqJPdy8vL2OEIiqNj7tx/z58/R9myZdl9TY++GDUUL1MKzm0A8PL0xOyoJQaIyLTl5ORAIpHA39+f08T8h4+PD548eYKcnBzY2toaOxwykJXRcyATa36PsXf1RP8RYwwbUDHxWq0dr9WmZdn8XyAVp2osc3T1wKDIcQaOyHiY19rpOq+N1ui2s7PD/OglyJbJMHrkMABAtkyGps1a4IN27eHp5YWQ0DD8ffECACDm1k1Uq/4WqlSpCgAoW7Yc7tyOMXij+1VaCn77qHaBdcb+edVA0ZiH18+P8IO5Zq+Pi1wu54Vcj16mpGBleLNC6/VffsoA0Zg+hUIBAOxCrcHrY6JQKNjotiAycQqG1vPUWLbkcuFf+Bkbr9UF47XadEjFqRjVyEdjWdSFZANHY1zM64LpMq+N1ui2traGm5s7kp8nqZc5ODqiV59+AHI/jBw9fAjNWrQEAIjFYjg4OKjrOjk7QywWa1y3XC7PMxCAVCrRxy6QjrE7i2Y8LmTKeP7mx2NCpoznr2Y8LmTKeP5qpsvjItiB1JYuXoj0jHT07N1Xax1tx2HHti3YunmjniIjIiIiIiIiKhpBjmyzdvUKXL92FV9P+k59W9/FxQUSSaa6jlQqhaubu8bXd+n2CZatXKf+iVq01BBhk4G0atUKQUFBOHv2LLy9vfHnn38aO6QCbdmyBd7e3jh//ryxQyESLOY1kXlhThOZH+Z1yQnuTveObVtx5NABfP3NFDg6OSIzMwMODo6oGRyKA/v24t7dO5BIJEh69gw1awZrXIetrS2fk7MAtWvXRnR0NFq3bm3sUArUunVrREdHo1atWsYOhUjwmNdE5oU5TWR+mNfFJ7hG94Z1qwEAkyeOVy+bPGUa6tarjw/bdcSsmdNhbWONfgMGIqB8BWOFSQLg5OSE7t27GzuMQnl5eZlEnLrCqQCpNJjXROaFOU1kfpjXxWf07uU+Zcth/ebtqFAxEACwfvP2fD/BIWEQiUTo1acflvyxCtFLluPD9h2NHDkZysWLF1GrVi24uLjgo48+QlpaGgDg2LFjEIlEWLFiBQAgPT0dQ4cOhbe3N1xdXdGxY0ckJiaq13P48GG89dZbcHFxQbdu3dChQwcEBQUBAFasWAGRSIRff/0VNWrUQJkyZdC9e3dIpVL161esWIEaNWrAwcEBdevWxeHDh9VlL1++xGeffQYvLy94e3ujb9++ePnyZZ51Hzt2DAAQHx+PTp06wc3NDX5+foiMjERWVpb+DqABvZ4K8Nzp0/mmAqxWvQbmzI9GYGAQFi2cDwDqqQDHT5yMwcMisGbVcjxMiDfiHpChMK/Nw48/TEGv7l3VP2tWLceL5GRMm/INwvv2xMQJXyKBOW0RmNNE5od5rTtGb3QTFUQul+Pjjz9GYmIixo8fDwcHB1y9qnlKtlGjRmHFihXo27cvvvrqKxw7dgyDBw8GAKSmpqJbt25IS0vD119/DScnJ+zduzffOmbPno2+ffuibdu22LJlC1auXAkA2Lp1K8LDw1GxYkVMmTIF6enp6NixIx48eKDe9ubNmzFixAgMHjwY69evR0REhMY4e/XqhRMnTmD8+PHo2rUroqKi8N133+nicBnd66kAI8d8oV72eirAzl0/Uk8F+OrfN+03pwKsV7+BeipAMm/Ma/ORmpqK8MFDsXTFGixdsQY9en6GNauXw97eAbNmz0fFioFYEh1l7DBJz5jTROaHea1bguteTvSmffv2ITExEb///rs6ee/evYsXL17kqxsZGYnIyEjUqVMHycnJuHTpEg4ePAgAWLt2LdLT07Fhwwa0b98eAHD//n0kJSXlWcfChQvRpUsXpKen488//8T169cBAL/++iv8/Pywd+9e2NraomPHjggLC0NUVBRmz56NGzduoHr16vjhhx8AAFWrVlV/G/hfN27cQIsWLTBp0iQAQJUqVeDu7l7qYyUEnAqQioJ5bT7SUlNRtmw5ODuXUS+LuXUT/cMHw9vHB63avIep306ETCaDvb29ESMlfWJOE5kf5rVusdFNgnbv3j0AwNtvv61eVqZMGY0JX7ZsWQwfPhwHDhyAQqHQuJ5mzZqplzk6OuZbh5ubG4Dc0fIBIDMzd8T8q1evom3btuoB+kJDQ+Hp6Ynbt28DAL788ksMGTIEwcHB6NSpEz7++GM0atRI4z6NHz8e3377LRo2bIgOHTqgR48eCA7WPCigueFUgAQwr81FjlyOjIx0rF29EkuiF6Ba9RoYPGwE0t/4Ms3Z2RkAkC4Ww97HJ986+GWaeWBOm5cff5iCa1evqH/v0KkLPmzXEdEL5uJB7H34+QdgWEQkAgODjBajvjx8mICo6ZM0ljm6emBQ5DgDR2Q8zGvdYvdyEjQrq9xT1NrautC64eHhOHbsGKZPn47t27fj3XffLdF6NLG3t8/3WqVSqV7vgAEDEBMTg379+uHs2bN4++23MXnyZI3rmjx5Mq5cuYL27dtj586dCAsLw5IlS0oUlynhVID0GvPaTIhEGDBoCPr2H4gvvvo/PHyYgC2bNmirqtGObVswqH9v9c+o4YP1GDDpC3PavFjyYyMihRyjGvlo/JGKU40dnkExr3WLjW4StGrVqgEALly4oF6Wnp6use6FCxfQrl07TJgwAV26dIGHh4e6rHr16gCA06dPq5e9/gatKEJDQ3H+/Hnk5OQAAG7evIm0tDSEhYUhPT0dffr0wenTp/F///d/OHHiBNq1a4fffvst33ri4uLQp08fPH78GFOnTsWlS5fw1ltvYd68eUWOxRS9ngpwzJfj1VMBKhQK1AwOxd07t3Hv7h1cvfJPoVMBOjk5qX8cHZ0MvBekK8xr86BUKtGgwduoVbsOqlarjgYNG+FhQgJcXFzVf4fXA+G4uLppXAe/TDMPzGnz8uZjI87OZWBnZ4eYWzfRrEVL9WMjD2LvQyaTGTtU0iPmtW6xezkJWtu2bVGhQgV88cUXePToEW7cuIHLly8jMDAwX92wsDAcPHgQM2bMQGxsLLZs2QIgt/ti79698fXXX6N///6IjIzEtWvX8Pfff2tcjybjx49Hp06d0L59e7z77rtYtmwZnJycMHToULi4uCAmJgY7duzAgwcPYGdnhzNnziA0NDTfevz8/HD06FEcOnQIn3/+OTIzM3Hv3j189NFHpTtQAsepAOlNzGvzkPTsKcZ/+TlGjxmHylWr4trVK3irZjDc3Nxw8vhR1KwZgmNHD6NatRqws7PTuA5bW1t1l0EyXcxp81Hax0b4yIj5YF7rFu90k6DZ2Nhg69atKF++PGbOnAmpVIoPP/xQY93ly5ejVq1amDFjBuLj4xEeHg4AePDgAdzc3LBt2za4ubnhxx9/RHZ2NsLCworc1aVjx45YtGgR7t27h++++w4eHh7Yv38/KlWqBADYsWMHPvjgA/z222+YNWsWWrRogfXr1+dbj4ODAw4ePIiwsDD88MMPWLx4MXr06IEFCxaU8AgJE6cCpIIwr81DhYqB6D9wMNasWo6vvxoLX19fdP+0N/r0C4dCocS4sZGIj3uAIcM1jyJL5oM5bUZK+dgIHxkxH8xr3RKpVCqVQbZkRBKJBIP698aylevUz5KW1NgR4fjto9oF1/nzKn6LXl6q7ViSrKwsxMXFoVKlSnlGsta1+/fvo2rVqgByv3kLDAxEcHAwDh06pLdt6kJBx0eX57ap0fW+9+/9CVaGNyu83vJTWLluS6m3Z+6Y19oxp7Uz5/1f8tO3GFrPU3PZ5RQMnfC9gSMqHuZ0wcwlr7Ozs5GRng5PLy8AueOx3L93D08eP0Kf/uFo3qIV7t65je+++T+sXLspXy8WTXe6Rw0fLKh9j5o+CaMa5R/YEQAmbDyLnz5tovl1F5IxatJ0fYZmcMzrgukyr9m9nCxCamoq6tati/fffx/vvPMODhw4gKdPn2LWrFnGDo2ISoh5TWRemNPGV9rHRvjICP0X8zoXu5eTRfDw8MDixYtx7949TJ48GYmJiVi0aBE+++wzY4dGRCXEvCYyL8xp4+NjI6RrzOtcvNNNFqN3797o3bu3scMgIh1iXhOZF+a08X3YriM+bJd3jJUyZcpg8pRpRoqITB3zmne6iYiIiIiIiPSGjW4iIiIiIiIiPWH38jdM+fpLvEpLKbCO+NUrA0VDREREREREpo6N7je8SkspdDqw8GXHDBMMERERERERmTx2LyciIiIiIiLSE97pJiIiIiIis7Fs/i+QilM1lj1OjAca+Rg2ILJ4bHSTSXmRnIz0dLHBtufi4gpvn6K/MYtEIgDAsmXLMHDgwDxlhw4dwvvvvw8AiIuLQ1BQkM7iJDJlzGsi82PIvC5uTgPMa3MnFadilJaG9YS4+waOxjzwWl06bHSTyXiRnIwvxoyCPFtmsG3a2tlj9pyoYl/MN27cmC/hN23apMvQiMwC85rI/Bg6r0ua0wDzmqgoeK0uPTa6yWSkp4shz5bBr20E7DwD9L697JTHeLp/IdLTxcVKeAcHBxw5cgQvX76El5cXACAnJwfbtm2Do6MjpFKpvkImMjnMayLzY8i8LmlOA8xroqLitbr02Ogmk2PnGQCHspWMHYZW7733Hnbv3o0///wTQ4YMAQAcOXIEL168QKdOnbBr1y4jR0gkPMxrIvPDvCYyL8zpkjPq6OWvXqVh756d+L+vxiLxYQKA3O4L06Z8g/C+PTFxwpdISIgHAKhUKqxbsxLDBvVHxNCB2Lt7pxEjJ9KuXLlyaNy4MTZu3KhetnHjRvj5+aFhw4ZGjIyISop5TWR+mNdE5kXIOW20RrdUKkXkiKE4d/o0EuLj1MvXrF4Oe3sHzJo9HxUrBmJJdBQA4Mo/l3DowD6MnzgZg4dFYM2q5Xj4b4OcSEiysrLw6aef4tixY0hOToZcLsf27dvRo0cPZGdnGzs8IioB5jWR+WFeE5kXIee00RrddnZ2mB+9BJFjvsizPObWTTRr0RLePj5o1eY9PIi9D5lMhphbN1Gt+luoUqUq6tVvgLJly+HO7RgjRU+kXVZWFnr06AGVSoWtW7fi0KFDSElJQc+ePfl8GJGJYl4TmR/mNZF5EXJOG63RbW1tDTc393zL08ViODg4AACcnZ3Vy8RvLAcAJ2dniMWah62Xy+WQSCTqH6lUovsdINJCJpPB398fzZs3x6ZNm7Bp0yYEBQWhcePGkMkMN+ojEekO85rI/DCvicyLkHPaJAZS+3fatSIv37FtC7Zu3qi5kEjPVCoVAKBnz54YOXIknJ2dERERkaeMiEwL85rI/DCvicyLkHPaqAOpaeLi4orMzEwAUHcDcHF1g4uLCySSTHU9qVQKVw13ygGgS7dPsGzlOvVP1KKleo+b6L8++eQTWFlZIT09HT179jR2OESkA8xrIvPDvCYyL0LMacHd6a4ZHIKTx4+iZs0QHDt6GNWq1YCdnR1qBofiwL69uHf3DiQSCZKePUPNmsEa12FrawtbW1sDR06Gkp3y2CS24+3tjXfffRfx8fGoU6eOboIyAa9epeH0qRM4cewoRkaOQYWKgXiRnIzoBXPxIPY+/PwDMCwiEoGBQVCpVFi/dhWOHz0Ca2trdOzcFe07djb2LpARMK/JksUnxGPJT99qLLN39UT/EWMMG5COGCKvdbEN5jVR0fBaXXKCa3T36ReO6AXzMG5sJPwDAjBi5GgAQN169fFhu46YNXM6rG2s0W/AQASUr2DkaMmQXFxcYWtnj6f7Fxpsm7Z29nBxcS1y/f92Xdm3b1+e36OiohAVFaWT2ITo9awEQUGVtM5KsGXTeiyJjsL0mb+oZyWY9N00vEpLwy8/TUdoWC1UDAwy3k6QQTGviQArRTaG1vPUWLbkcoqBoyk9Q+d1cXMaYF4TFQev1aVn9Ea3T9lyWL95u/p3bx8fTJ4yLV89kUiEXn36oVeffgaMjoTE28cHs+dEIT1d8wB6+uDi4gpvHx+Dbc/UvZ6VIFsmw+iRw9TLY27dRP/wwepZCaZ+OzHfrAQA1LMSsNFtOZjXRObH0HnNnCZDePgwAVHTJ2ksc3T1wKDIcQaOyHB4rS49oze6iYrD28fHrBLQ3LyelSD5eVKe5bqalUAul6t/56wE5oN5TaSdtq7nQu92zrwmcyNSyDGqkeZzOupCsoGjMTzmdOmw0U1ERsFZCYiICqet67kpdjsnIrJUbHQTkd4VNCvByxf/+3a4sFkJ2nfs8kZdCUYNH6y/oImIiIiIdICNbiLSO85KQGS+5vz6M86fO4P1m7drnamAiIjIkglunm4iMj99+oVDoVBi3NhIxMc9wJDhEQDyzkqwaOE8zkpAZGL+vngBFy+cU//+5kwFFSsGYkk0R38mIiLinW4i0jnOSkBk/iQSCZYvW4y27Trgrz27AGifqcDe3t7I0RJRcbAHC5Fu8U43ERERFdv6NasQVqsOQsNqqZdpm6lAG7lcDolEov7hrARExsceLES6xzvdREREVCy3Y27h74vnMWv2PNy9e7vAutpmJAA4KwGR0LAHC5F+sNFNJuVFcjLS07XfNdE1FxfXYs1JKHrj06WtrS2CgoIwYMAATJgwAdbW1voIkQxMkSNH/96fFFrPy9MTs6OWGCAi08e8Nj3btm5Geno6Ph81DAqFEgAwqH9vrTMVaMNZCcyXIfO6uDkNMK+1ebMHy+tGt7YeLPYajrlcLodcLlf/zt4r5oPX6tJho5tMxovkZIwbMxKy7GyDbdPezg6/zFlQrKSvVq0avvjiC2RnZ2P37t2YNGkSbGxsMH78eD1GSoaiVAFrwpsVWq//8lMGiMb0Ma9N04iRoyGX5/7Nbty4jiXRUZg56zesXb1S40wF2nBWAvNk6LwuSU4DzOv/0kUPFkvtvfLwYQKipk/SWObo6oFBkeMMHJFu8Vpdemx0k8lITxdDlp2Nka1rIsDDSe/be5wqwYKjMUhPFxcr4f39/TF8+HAAwNChQ+Hl5YXt27cLIuGJhIZ5bZrcPTzU/3dzewggdwDFPv3CEb1gHsaNjYR/QABGjBxtrBCNZmX0HMjEKfmWP3oYD9TzNHxARmDIvC5pTgPM6//SRQ8WS+29IlLIMaqR5vMv6kKygaPRPV6rS4+NbjI5AR5OqOTtYuwwisTBwQH29vbIyMgwdihEgsa8Nl316jdUz1agbaYCSyITp2Cohsb1Nw/uGiEa42JemxZd9GBh7xXzxpwuOTa6iXRMJpPh0aNHyM7OxooVK5CamooJEyYYOywiKgXmNZH5YV7nxR4sZOqEnNNsdBPp2Llz51ChQgX17/Xq1cOoUaOMGBERlRbzmsj8MK+1Yw8WMkVCzmk2uol0LDQ0FD/++CMA4ObNm/jmm2/Qp08fbNu2zciREVFJMa9JaOIT4rHkp281ltm7eqL/iDGGDcgEMa+JzIuQc5qNbiId8/LyQseOHQEAHTt2xKlTp7B9+3akpaXB3d3duMERUYkwr0lorBTZGp8dB4All/MP5Eb5Ma+JzIuQc9rKqFsnsgAZGRmwsrKCvb29sUMhIh1hXhOZH+Y1kXkRUk7zTjeRjj158gSLFi2CUqnExYsXcezYMXTq1AmOjo7GDo2ISoh5TWR+mNdE5kXIOc1GN5mcx6kSQW/n3r17GDFiBKysrODv749hw4ZhxowZOo6OyLwwr4nMjyHyujTbYF4TFQ+v1SXHRjeZDBcXV9jb2WHB0RiDbdPezg4uLq5Frq9SqfQYDZH5YV4TmR9D53VxcxpgXhMVB6/VpVfiRrdSqUSWVAonZ2eoVCrExz1A2XLl4OxcRpfxEal5+/jglzkLkJ4uNtg2XVxc4e3jY7DtGRvzmgyNeW08zHfSF0PnNXM6F3Oa9IXX6tIrUaP7YUI8fv7xB7Rs1QYf9+iJ6d9/i5hbt2Bvb4ev/u8bBIeEljqwI4cPYuvmDcjMyERIaBgiIj+HVCJF9IK5eBB7H37+ARgWEYnAwKBSb4tMh7ePj1kloJAYIq+JNGFeGx7znfSNeW1YzGnSN+Z06ZRo9PKVy5dBoVAgODQMly/9jbt3bqPXZ33h7VMWG9auLnVQ6eliLF0cja4fdcdPv87Bk8ePsHvnDqxZvRz29g6YNXs+KlYMxJLoqFJvi4hy6TuviUg4mO9E5oU5TSRsJWp0xz24jw6duiAkNAz/XLqI+g0boVOXbmjd5j08fJhQ6qBUKsDKygpeXl7w9PSCvb09rK2tEHPrJpq1aAlvHx+0avMeHsTeh0wmK/X2iEj/eU1EwsF8JzIvzGkiYStRo9vRyQkPHyYgPV2MS39fRK3adQEAT548hqNT6Ydkd3V1Rc/P+mDWzOkY2K8XcnJy0Lnrx0gXi+Hg4AAAcHZ2BgCki/M/WyCXyyGRSNQ/UqlhRtqj0hH6AAjGYqjjou+8JsvEvM5PCMeE+U4lJYTzV4iMfVyY01Qaxj5/hUqXx6VEz3S3avUutv25GadOHEeZMmXQuPE7WL92NY4cOoAOHbuUOqiUly/x5+aNCB88FFWqVkfUnF+xd89OjXVFovzLdmzbgq2bN5Y6DjIMW1tbAIBEIhHEPHpCI5Hkfmn0+jjpi77zmiyLtbU1ACA7O5t5/R/Z2dkA/neMjIH5TsXFa3XBDHWt1oY5TSXBvC6YLvO6RI3u7j17w8PLC48SH6LNu+/D6d+7zu06dMKnvT4rdVB37sRAqVTig7btAQAN326Mq/9chouLKzIzMwEAUqkUAODi6pbv9V26fYL2b7zBSKUSjBo+uNRxkX5YW1vD3d0dz58/BwA4OTlBpOnbFAujUqkgkUjw/PlzuLu76/0Dur7zmoMjWhYbGxs4OTkhOTkZtra2sLIqUccqs6NUKpGcnAwnJyfY2Bhv1k595zuZH16rNTP0tVob5jSVBPNaM33kdYmv+O+93zbP770+61vqYF7zDyiP7OxsnD1zClWqVMP1a1dRpWo1uLm54+Txo6hZMwTHjh5GtWo1YGdnl+/1tra2RvumkUrG19cXANRJT//j7u6uPj76pq+8fj04YvjgoahVuw5m/jAVu3fuwNOnj9WDI27ZtB5LoqMwfeYvOtkmGZdIJIKfnx/i4uKQkMDnCd9kZWWFihUrGv2DjT6v42SeeK3WzpDXam2Y01QSzGvtdJnXRW50r129Au++1xa+fn5YtHC+1noiAMMiIksVVGBgEAYMGoI1q5ZDkpmJkNBa6NHzM2TLZIheMA/jxkbCPyAAI0aOLtV2SDhef0AvW7Ys5HK5scMRDFtbW71+a26ovC5ocMT+4YPVgyNO/XYiZDIZ7O3tS7wtEg47OztUq1ZN3Z2actnZ2Rnlzr8hr+Nknnit1kzf12ptmNOkC8xrzXSd10VudJ89fQohoWHw9fPDiWNHCqgp0klif9C2vbp7+ZsmT5lW6nWTcFlbWxv1OUdLY6i8fnNwRBsbG5Qr54vOXT/Gn1s2aRwc0V7DPJByuTzPxYADJJoGKysr9d+YjMvQ13EyX7xWCwNzmnSJea1fRW50/zY/Wt1le92mbXoLiIgMx1B5XdrBEQEOkEhUWryOE5kX5jSR6Shyo/u/z0inp4uRJZXCp2w5ZEmluHbtCgLKV0BAQHmdB0lE+mGovC7t4IgAB0gkKi1ex3VnZfQcyMQpGssePYwH6nkaNiCySMxpItNRooHUbt28gV9/noEP23VEt4+7Y/KkCXj8KBFWVlaIHPMl3m78jq7jJCI902del3ZwRIADJBLpEq/jpSMTp2Colob1Nw/uGjgaIuY0kdCVaCSXdWtWws3NHQ3fbozz58/iRfJzjB47DpWrVMWfWzbpOkYiMgB95vWbgyNOGPc5vLy80aPnZ+jTLxwKhRLjxkYiPu4BhgyP0NHeEFFBeB0nMi/MaSJhK9Gd7keJiejRqzeCKlXGnl070PDtJmjcpCnSUlOxfu0qXcdIRAag77zm4IhEwsHrOJF5YU4TCVuJ7nS7u7vj5vVreBB7H/9c/hu1a9cBANy5HQM3N3cdhkdEhsK8JrIczHci88KcJhK2EjW623XohH8uX8I3X4+Hs3MZNHy7CX5ftADnz53Bu++31XWMRGQAzGsiy8F8JzIvzGkiYStR9/K27TrA188fjxIfoknT5rCzs4N/QHn0Cx+ED9t11HWMRGQAzGsiy6GLfFcoFNi4fg2OHDoAAKhbrwGGDB8J8atXiF4wFw9i78PPPwDDIiIRGBikx70hIl7DiYStRI1uAKhdpy5q16kLsViMjPR0dOjUpfAXEZGgMa+JLEdp8/3UyeM4cuggvvq/b1DGxQU/TJmMI4cO4PbtW7C3d8Cs2fOxZdN6LImOwvSZv+hpL4joNV7DiYSrRI1ulUqFndv/xO5d25GZkTvHroeHB9p17ISOnbrqMj4iMhDmNZHl0EW+t2zVBi1btQEAZGZmwMbGBtbW1oi5dRP9wwfD28cHrdq8h6nfToRMJoO9vb2+dofI4ukip9l7hUh/StTo3rxxHbb/uQWVK1fFW62CoVKqcPv2LaxbvQqKHAW6dPtY13ESkZ4xr4kshy7zffyXn+Pxo0QEh4TivQ8+xPJlS+Dg4AAAcHZ2BgCki8Ww9/HJ91q5XA65XK7+XSqVlHLPiCyTLnKavVeI9KdEje6jRw6h0dtNMObL8XmWz/n1Zxzc/xc/nBOZIOY1keXQZb5PmDgZT588xrzffsXxY0c01hGJNL92x7Yt2Lp5Y5G3RUUTnxCPJT99m2+5vasn+o8YY/iASO90kdPsvUKkPyVqdEslUlSqXCXf8qDKlfHP5b9LHRQRGR7zmshy6CLfExLi8SotDbVq14GXlzeCQ0Nx6+YNuLi4IjMzt3urVCoFALi4umlcR5dun6B9x/89dyqVSjBq+ODi7g79h5UiG0PreeZbvuRyihGiIUPQ5TWcvVeIdK9Eje7qNWpg31+7ERhUCW+9VRNWVla4fTsGB/7ai6rVaug6RiIyAOY1keXQRb4/jI/DH0sXY+LkqXBwdMS9u3fQoVMXZMtkOHn8KGrWDMGxo4dRrVoN2NnZaVyHra0tbG1tdblrRBZJl9dw9l4h0r0SNbrDBw/DD1Mm4+cff8iz3NPTEwMHD9VJYERkWMxrIsuhi3xv1qIVEhLiMWvmdKhUKjR+pyk+aNsejRo1QfSCeRg3NhL+AQEYMXK0PnaBiN6gi5xm7xUi/SlRo9vPzx+/zInCmVMn8DAhATa2NqhQMRDv/DsvIBGZHnPM6y9GDcXLlKJ1p8zJydFzNETCoYt8F4lE6NMvHH36hedZ7u3jg8lTpukjbHrDY6k1ph5K0FpGlkUXOc3eK0T6U+J5uh0dHfHu+211GYvZeJX2CmNHhBdYx83dE1N+/NVAEREVjbnl9cuUFKwMb1akur2XHNVzNETCYm75bmlkIjuogjtrLnu2ysDRkBCUNqfZe4VIf0rU6I6NvY+Vf/yOxIcJkMmy85SJRMDajX/qJDhTpVIp8dtHtQusM/bPqwaKhqhomNdEloP5TmRedJHT7L1CpD8lanQvWjAPz5OeoU7d+nB0dNR1TERkBMxrIsvBfDcd2rqRZym0jGRFFok5TSRsJWp0P096hi7dPsZHn3yq63iIyEiY10SWg/luOrR1I1c+XmuEaEiomNNEwmZVkheF1aqD1JRUXcdCREbEvCayHMx3IvPCnCYSthLd6XZ2dsbhQwcgFr+Co5NTnjIRgGERkaUOTKlQYPv2rTh+9DACAipg/Nff4EVyMqIXzMWD2Pvw8w/AsIhIBAYGlXpbRGSYvCYiYWC+E5kX5jSRsJWo0X3yxDEAwMUL5zSUinSS2CtXLMOFc2cxcPAw1AwOAQCsWb0c9vYOmDV7PrZsWo8l0VGYPvOXUm+LiAyT10QkDMx3IvPCnCYSthI1utdt2qbrOPJIS0vD4YP7MebL8WjQ8G318phbN9E/fDC8fXzQqs17mPrtRMhkMtjb2+s1HiJLoO+8JiLhYL4TmRfmtP49y7LG5P1xWsuIClKiRnfMrZtay6ysrOBTthw8PT1LHFTs/btQKpU4d+Y0li9bggoVAjFkeATSxWI4ODgAyO1GAwDpYjHsfXzyvF4ul0Mul6t/l0olJY6FyFLoO6/5yAiRcOg734nIsJjT+pctsoV1WFfNZUkrDBoLmZ4SNbqnTfkGuU+IaBdWqzYiP/8CZVxcir3+zMxMACJUf+stdOjcFUuio7B29UqNdUUawtixbQu2bt5Y7O0SWTJ95zUfGSESDn3nOxEZFnOaSNhK1Oju0vVjHDq4Hz16fQY7OzsAgCwrC5s2rEX9Bo3g6uqG/fv2Yt2alRg6YlSx1+/q6gY7Ozt80LY9AKBJ02Y4cewoXFxc/22QA1KpFADg4uqWP75un6B9xy7q36VSCUYNH1zsOIgsiT7zmo+MEAmLvq/jRGRYzGkiYStRo/vvvy+gbfsOeP+DD/MsF4tf4fy5s5g1ex6UKiXOnD5ZoqCqV68BW1tb7P9rD+rVb4C/L5xHpUqVIZfLcfL4UdSsGYJjRw+jWrUa6jeWN9na2sLW1rZE2yayVPrM69I+MgLwsREiXdL3dZyIDIs5rRsFPbctUxbck0Cbhw8TEDV9ksYyR1cPDIocV6L1kmkpUaM7+XkSXqWm5Vv+Ku0Vkp8/BwCUKeMCWZasREE5OTtj7LjxWL7sd2xYtxrBIaHo0z8c8mw5ohfMw7ixkfAPCMCIkaNLtH4iyk+feV3aR0YAPjZCpEv6vo6T6Zm/aAlS0rM0lnm6OCBy+FADR0TFwZzWjYKe21Y+XVWidYoUcoxqlP9mAgBEXUgu0TrJ9JSo0R1Wqw4OHzqATEkmatR4C1ZWVrhz5zbOnDqBho0aQyKR4NTJ4wgJDStxYMEhYZg1e16+5ZOnTCvxOolIO33mdWkfGQH42AiRLhniOk6mJSU9C6ommt9TU84uNXA0VFzMaSJhK1Gje1hEJFb88TvOnTmFc2dOAQCsrKzRomVr9BswCDk5OahcuQo++bSXToMlIv3RZ16X9pERgI+NEOkSr+NE5sUSc3pO1EK8TJdqLHuR+ALQcneZyBhK1OguU6YMRo0ei4GDh+F50jOIrKxQtmw5ODo6quuMHD1WZ0ESkf7pM6/5yAiRsPA6TmReLDGnX6ZLYd18hMYyadyXBo6GqGAlanQDwIvkZMTG3oNMlvtsSEJ8HBQ5OXielIRPe/fRWYBEZDj6zGs+MkIkLLyOC8djqTWmHkrQWJalKNngTWR5mNNEwlWiRvfFC+cwf85s5OTkvLFUhdfzAzKxiUwP85rIcjDfhUUmsoMquLPGMuXjtQaOhkwRc5pI2KxK8qKN69eiYmAgRo4eA0CFnr37YNyESXB3d0fvPv10GyERGQTzmshyMN+JzAtzmkjYStTofp6UhHeaNkft2nUBAOV8fVGvfgO890FbHDqwT6cBEpFhMK+JLAfz3bxl5ygw9VBCvp9rDzk9kbliThMJW4ka3WXLlsXVK5dhY2sLJydnnD97BllZWXj29Kl6+h8iMi3MayLLwXw3bzn/dlf/749UaW3s0EhPmNNEwlaiZ7o7df0IixfOR9yDWLRt1wHbtm7CubNnAAAffNhOpwESkWEwr4ksB/OdyLwwp/OSSKWYvD9OY9mzLH75RIZXokZ3y1Zt4OPjg3LlfFEzOAS+vr6Ijb2PChUD0brNe7qOkYgMgHlNZDmY70TmhTmdVw5sYB3WVWNZdtIKg8ZCBJRiyrDgkDD1/5u3bI3mLVvrJCAiMh7mNZHlYL4TmRfmNJFwFbnRPXf2LHTp9jGCKlXGtCmTtdYTiYBvvuO8u0SmgHlNZDmY70TmxdJz+kliAp6ePKKxzE6pNHA0JfPwYQKipk/SWObo6oFBkeMMHBHpS5Eb3UlJz5CVJQUAPH/+DKJ/5/0jItPFvCayHMx3IvNi6TmtyJGjkb+zxrIrN1QGjqZkRAo5RjXy0VgWdYGzDZiTIje6Z/z0q/r/8xf+rpdgiMiwmNdElkMf+b5rxzbs3b0TMlkWatWpi+ERo5GRno7oBXPxIPY+/PwDMCwiEoGBQTrZHhH9D6/hRKajRM90P09KwqNHicjMzICzszMCAsqjnK+frmMjIgNiXhNZDl3k+7WrV7Bx/VpMmDgZ7h4emPH9d9i3dxfi4+Ngb++AWbPnY8um9VgSHYXpM3/R054QEaC7azi/SCPSj2I1uhMS4rH898W4e/fOv0tUwL9dWapWq4ZBQ0cwCYlMDPOayHLoMt9tbGzQu08/hNWqDQDw8/fHq7RXiLl1E/3DB8Pbxwet2ryHqd9OhEwmg729ve53iMjC6TKn+UUakf4UudH9+FEivv92IpRKJVq1eRcBAeVRpkwZZGRkIDHxIc6dOY1p303C1Ok/ISCgvD5jJiIdYV4TWQ5d53twSCiCQ0IBAAnxcbh/7y569+mP/fv2wMHBAQDg7Jz7vGW6WAx7n/zPLcrlcsjlcvXvUqlEF7tKZBF0ndP8Io1If4rc6N60YR0cHB3x/fSf4OXlna/8o4974NtJE7B10waMHsuR9ohMAfOayHLoK99fvnyBWTOno0PHLqharbrGOiIt4zvt2LYFWzdvLPK2iOh/dJ3T/CKNSH+K3OiOuXUT7773gcakBoCy5cqhRavWOH5M89D9RCQ8zGsiy6GPfBeLxZgxbQpCQsPQo9dnAAAXF1dkZmYCAKTS3JGVXVzdNL6+S7dP0L5jF/XvUqkEo4YPLvL2iSyZvq7h/CKNSPeK3OjOyEiHt4ZvtN5Utpwv0sXppQ6KiAyDeU1kOXSd71lSKX6eMQ3e3t7o0z8cEkkmRCIr1AwOwcnjR1GzZgiOHT2MatVqwM7OTuM6bG1tYWtrW+x9ISL9XMP5RRqRfhRrILW9u3fizOlTWsvTUlNKHRARGRbzmshy6DLfz58/i9jYewCAoQP7AQC8fXzw3dQZiF4wD+PGRsI/IAAjRo4uXdBGsjJ6DmRizcfj0cN4oJ6nYQMi0kCXOc0v0oj0p1iN7qdPn+Dp0yeF1NLS34SIBIl5TWQ5dJnvLVu1QctWbTSWTZ4yrZiRCY9MnIKhWhrW3zy4a+BoiDTTZU6b+xdpRMZU5Eb3uk3b9BmHRnN+/Rnnz53B+s3b8SI5mXMEEumYMfKaiIyD+U5kXnSd0+b+RRqRMRXrTrch/X3xAi5eOKf+fc3q5ZwjkIiIiKiEJBIplvz0rcayR4/SEdDEwAEREVkIQTa6JRIJli9bjLbtOuCvPbsAgHMEEpkJ9mAhIjIOEZRau8yfj+f4HURE+mJl7AA0Wb9mFcJq1UFoWC31snSxWOMcgZrI5XJIJBL1D+cIJBKGgnqwVKwYiCXRUUaMjoiIiIhI9wR3p/t2zC38ffE8Zs2eh7t3bxdYl3MEEpkO9mAhIiIiIkskuEb3tq2bkZ6ejs9HDYNCoQQADOrfm3MEEpm4N3uwvG50a+vBYq9h3lG5XA65XK7+nT1YiEiIHkutMfVQgsblRERkmQTX6B4xcjTk8mwAwI0b17EkOgozZ/2GtatXco5AIhPFHixEZClkIjuogjvnX/5slRGiISIiIRBco9vdw0P9fze3hwAAn7Ll0KdfOOcIJDJR7MFiWJGjIpCW8qJIdd09vTE/aqGeIyIiIiKyXIJrdL+pXv2GWL95OwDA28eHcwQSmSj2YDGstJQXqBKxokh1YxcO0GssRERERJZO0I1uIjIP7MEiXNk5CvTt3aPQerwjTkRE5kCuUGLy/jiNZTKllmfciEqJjW4iMij2YBEWkUqJKhGrC63HO+JERGQOckQ2sA7rqrFM+ZRjL5B+CHKebiIiIiIiIiJzwDvdAvf1xK+RmppWYB0PD3f8OONHwwREREWiyJGjf+9PilTXy9MTs6OW6DkiIiIiIjIGNroFLjU1Db6f/VpgnWdrvzRQNERUVEoVsCa8WZHq9l9+Ss/REBEREZGxsHs5ERERERERkZ7wTreFYDd1IiIiIiIiw2Oj20KwmzoRERERke4VNA1ZXKaN1rJnWdb6DIsEhI1uIiIiIiKiEipoGrLsp6u0lyWt0FtMJCx8ppuIiIiIiIhIT3inm4jIyGQ5KvTt3aPQeu6e3pgftdAAERGRrmXnKDD1UILGsiyFyMDREBGRIbHRbSSv0l5h7IjwQuuJX2XB1wDxEJERqZSoErG60GqxCwfoPxYi0osckR1UwZ01likfrzVwNEREZEhsdBuJSqXEbx/VLrRezz/OGiAaIiIiIiIi0gc2uomIiMhirYyeA5k4Jd/yRw/jgXqehg9Ijwrq4i6WZhs4GiIiy8FGNxGRicjOURTp2W95To4BoiEyDzJxCoZqaFx/8+CuEaLRrwK7uD/bYOBoiKigqcZeZGQZOBrSJza6iYhMhKiIz37fnvuZAaIhIiKi0ihoqjHp6U2GDYb0io1uIiIiKpFXr9Jw+tQJnDh2FCMjx6BCxUC8SE5G9IK5eBB7H37+ARgWEYnAwCBjh0pERcS8JtI9NrqJiIio2KRSKSJHDEVQUCUkxP+ve+Sa1cthb++AWbPnY8um9VgSHYXpM38xYqREVFTMa9OwbP4vkIpT8y13dPXAoMhxRoiICsNGtxl49SoNw0eMKKTOK049RkREOmNnZ4f50UuQLZNh9Mhh6uUxt26if/hgePv4oFWb9zD124mQyWSwt7c3YrREVBTMa9MgFadiVCOffMujLiQbIRoqCja6zYBSpYLvZ78WWCd1wUADRUNERJbA2toabm7uSH6elGd5ulgMBwcHAICzs7N6mb1P/g+Icrkccrlc/btUKtFjxERUmNLmNXOaSDNBNrp37diGvbt3QibLQq06dTE8YjQy0tP5LImeFeWOuYeHO36c8aOBIiIiInMgEmlevmPbFmzdvNGwwRCRTmjKa33k9KjISGTI8s/KIc6U6nQ7QpOVlYWo6ZM0lj1OjAc03Okm4RJco/va1SvYuH4tJkycDHcPD8z4/jvs27sL8fFxfJZEz4pyx/zZ2i8NFA2ZG36ZRmQZXFxckZmZCSD3+VAAcHF101i3S7dP0L5jF/XvUqkEo4YP1n+QRFQsRc1rfeR0hiwHQU3zT5d55cCqUq1X6EQqpcYu5AAwIe6+gaOh0rIydgD/ZWNjg959+iGsVm1UqFARfv7+eJX2CjG3bqJZi5bqZ0kexN6HTCYzdrhEVASvv0yLiByDqdN/wp2YGOzbuyvPwCwVKwZiSXSUsUMlolKqGRyCk8eP4kVyMo4dPYxq1WrAzs5OY11bW1s4OTmpfxwdnQwcLREVRVHzmjlNpJng7nQHh4QiOCQUAJAQH4f79+6id5/+2L9vD58RE4CidEEH2A2d8nrzyzQAeb5M48AsROalT79wRC+Yh3FjI+EfEIARI0cbOyQiKiXmNVHpCK7R/drLly8wa+Z0dOjYBVWrVddYh8+IGV5RuqAD7IZOefHLNCLz5VO2HNZv3q7+3dvHB5OnTDNeQERUasxrIt0SZKNbLBZjxrQpCAkNQ49enwHgM2JE5oBfphERERGRpRFcoztLKsXPM6bB29sbffqHQyLJhEhkpX6WpGbNkCI9I2Zra2vgyItHorLB8PV/F1pPoVQZIBoi/eOXaURERERkiQTX6D5//ixiY+8BAIYO7Acgt0vLd1NnmNWzJCqI4NtyUKH1Xu6Nxr49OwqsU0Gp1FVYRHphKV+mERGZKoVCgUunj2ksc465hqmz5uVb/uzJQ/j6V9T4Gk8XB0QOH6rLEMmMzYlaiJfpmqcAy8ySa1xu7uQKJSbvj9NYFpdpo7Hs/vM0JP2o+TFQLxdHjBkVodMYqegE1+hu2aoNWrZqo7HMUp8l+fAt3wLLbz4wUCBEJWQpX6aVxratmwutU9MAcRCR5arv66hx+fVb1lA1yd+zSLz2G5TTsBwAUs4u1WlsZN5epkth3VzzQL2KW5b52SBHZAPrsK4ay7KfrtJYJju0VutxfHkyWofRUXEJrtFNROaHX6YVrlsdzXeL3nT7kQECISIiIiKdYqObiIgKlZ2jQN/ePYpU193TG/OjFuo5IiISsoT4OI1d0gF2PSciy8NGNxERFUqkUqJKxOoi1Y1dOEC/wRCR4MmUIo1d0gF2PSciy2Nl7ACIiIiIiIiIzBXvdJNevHqVhuEjNA/k8JqHhzt+nPGjgSIiIiIiIiIyPDa6SS+UKhV8P9M8ZcFrz9Z+aaBoiIiIiIiIjIPdy4mIiIiIiIj0hI1uIiIiIiIiIj1h93IiIiKiYngstcbUQwkay7IUIgNHo38KhQKXTh/Lt9wuS6L1NVlZEo2vAQDfR3E6ioyIiurRw3hM/lHzo59eLo4YMyrCwBFZFja6yWg42BqZIgWs0XfZySLVs1RFndOb83mTqZKJ7KAK7qyxTPl4rYGjMYz6vo75ll2/pdL+AqVK42sAIDFerquwiKiIZAoRrJtr/tz98mS0gaOxPGx0k9FwsDUyRSKoUKVdZKH1bu+eZ4BohKmoc3pzPm8iIiKyBGx0ExGRoEWOikBayosi1eXdcyIiIhIaNrqLSaKywfD1fxdah4hIH7Zt3VxonZoGiMOQ0lJeoErEiiLV5d1zIiKi/GSyLFw4eURjmdONqxgwVHPX8zL2NoiaP1+foVkEtg6LSQURfFsOKrBOyl7eZSEi/ehWp2KhdW4/brrZDgAAjCVJREFUMkAgREREZDJUSiUa+TtrLLtywxpBTTWPxRJ/epM+w7IYbHQTEZFRFHXANXlOjgGiISIiItIPNrr1QKVCoV3QVTC/KUWIiIqjqAOu3Z77mQGiIXOwMnoOZOKUfMvtXT3Rf8QYwwdExfL5mDHIkGn+kq2MvQ3mzplj2ICICFlZWYiaPkljmaOrBwZFjjNwRKaJjW59EBXeBf3lXt0Ozb9vz44CyysolTrdHhERkdDIxCkYWs8z3/Ill/M3xEl4MmQ5qND4Y41liee2GjgaIgJyvyAf1chHY1nUhWQDR2O62Og2Ex++5Vtg+c0HBgqEiAAAKlgVaT5vIiIiIjJvbHQTEemBCEpUaTe6SHUteU5vXSvqc+KcWsyyxCfEY8lP32ose/QwHtBwd/yx1BpTDyVofE2Wgo+IGVqGRIqps/K/Vz578hC+/poHmPR0cUDk8KH6Do1IMJRKpdYRyu1K2OtVrlBi8v44jWUvMrJKtE5LxEY3WYSvJ36N1NS0QutlZGagjHOZAut4eLjjxxk/6igyItKloj4nzqnFLIuVIltjt3MA+ObBXY3LZSI7qII7ayxTPl6rs9ioaHJgA1WTwfmWi9d+g3IalgNAytml+g6LSGBUBYxQrirRGnNENrAO66qxTMqRzYuMjW6yCKmpafD97NdC68UsGFhovWdrv9RVWEREREREZOZMrtF99vQpbFi3GpmZGWjQqDEGDRkOW1tbY4dlEkxxsLVXr9IwfMSIAusU5e70q1evUPBT72RMzGvd27Z1c5Hq1dRzHKYuclQE0lJeFKkuu6z/D3OayPwwr4lKzqQa3enpYixaOA/hg4ehatXqmD7tWxw9fBAffNje2KGZBFMcbE2pUhV657kod6dTFwzUWUxF+SKgKF3Qi9Ll3RK6sgslrxWwNquBz7rV0fyM43/dfqTnQExcWsoLVIlYUaS6MfP68nly6D+ntU0LBmh/Prsg2p7d5nPb+pMmTsegEaPyLU9Nl6KCltcoFApcOn0s33K7LInW7Tx6GKf1WX5t08jNX7QEKeman1O15OfH9Z3XTxIT8FTHzyKT/mVkZGDAUM2fiVWyTDSsrjmjHz99igA/P41lBU1Dtmz+L5CKU4u1zoK2dfFuIkT2mrvjl7G3QdT8+RrLSsKkGt2x9+9BpQJatmoDkUiEunXrI+bWTTa6yaCK8kVAUbqgF6XLuyV0ZRdKXougQpV2kYXW46BnpA2fJ8+l75zWNi0YoP357ALXp+XZbT63rT8Kka3GqcFeHiz4mNf3dcy37Pot7c+pKnPkWs8VbdPIpaRnaXx2HLDs58f1ndeKHLnOn0Um/csR2SCoqeYvm+8cWqF1qrEJG++XaBoyqTi12OssaFu9bj9CDS3xx+v4eXWTanSLxWLYO9hDJMr99tnJ2RlJSUn56snlcsjlcvXvEkkmAEAq1f5tKAAolSpIsnMKDkKlgkIuM0wdQ29PpYJCVsgxUiiwf9eWgtcDoHwR6pVXKArdnq5iKko8uoxJpVRCIim4zqu0VFwtJKagtNQC1/P6nFapTPeCpM+8VqmKkNP/q120nNR5PQFsu7Bzvlj19LFO3W87W56DPr26F1ovJydH59tWqVRa89qSchooWV7nKBRa81qpJee1LQdyj7XGfFEptedRScqEsD59xKDtnDfkPmmJQaVUav275ygUGvNQociBqoD1aduWSJHDvEbJP4OrCvzba8vRAq51llomlDj+LSvuezWgPTfVZTp8/y8ofpWq4M/yxc1rkcqE3gFOHD+K1Sv/wO9/5N5JWLNqOeLjHuCb76blqbdl03ps3bzRGCESGUXUoqXw8vI2dhglwrwmys8SchpgXpNlsYS8Zk6TpSlqXpvUnW4XFxdkSaVQKpWwsrKCVCKBq5t7vnpdun2C9h27qH9XKpXIzMhAGRcX9Td0/yWVSjBq+GBELVoKR0cnfe1CiQg1NqHGBVhObCqVCllZUnh4FO8ZRiHRV14L+Rx4zRRiBEwjTnOJ0ZJyGig4r7OypIL/mwKmce4BphGnKcQIFD9OS8rrknwGFxJTOQcNicdEs+LmtUk1uqtUrQ4rKyscPrgfwaFhuHLlMrp9nL8fvq2tbb7RFMuUKXh069ccHZ3g5CTME0qosQk1LsAyYnN21vwMlKnQd14L+Rx4zRRiBEwjTnOI0VJyGig4r19/QDeFvynAOHXJFGIEihenpeR1aT6DC4mpnIOGxGOSX3Hy2qQa3a6urhgeMRrr167CxvVr0LBRY7Rs1cbYYRFRKTCvicwLc5rI/DCviUrHpBrdANCkaTM0adrM2GEQkQ4xr4nMC3OayPwwr4lKzsrYAQiFra0tPu7+ab4uMUIg1NiEGhfA2Mg0jrMpxAiYRpyM0fyYyvFinLpjCjECphMnFR//tvnxmOiGSY1eTkRERERERGRKeKebiIiIiIiISE/Y6CYiIiIiIiLSEza6iYiIiIiIiPTE5EYvL62zp09hw7rVyMzMQINGjTFoyPA8AwNkZGRg8cL5uHnjGjw8vTBw8DCEhIYJIjaVSoWYWzdw/OgRAMCIUZ8bJK6ixJb07CmWLFqAe3fvwsvLC7379kfDRo0FEVvcg1gsWbQAjx8lomzZcujTPxx16tYXRGyvJcTHYdL/jUPXjz7BJz16GSQ2U1eaXN67eyd279wOhUKBFq1ao3ef/uo5gYUS4xejI/D06RN13QEDh6Btuw4Gj7Gg9x2hHMeCYjTUcSxKnAW9TxrqWAqFKZx3pY2T555u4xTS8Szoc4Wl5bIpKc01OVsmw8YNa3Hu7GnUb9AIAwcPM9Zu6FxpjsufWzZi/769kGfL0bDR2xgyLAI2HHBNM5UFEYtfqfr17q46euSQKvHhQ9XwIQNU+//ak6fOmlXLVV+P/0KV9OyZasO6NaoRQ8JV8uxsQcS2dvUKVcTQgarIEUNUs2fN1HtMxYnt20kTVLNn/ah68SJZtW7NKlX/z3qo5HK5IGIbPXKo6vfFC1XJz5+rNq5foxo8oI9KqVQKIjaVSqVS5OSoJk74UtW7RzfV5o3r9B6XOShNLj98mKDq1b2b6uqVy6p7d++o+vXurrr090VBxahSqVThfXuqLv19QZWRka7KyEjXy/tQad53hHQcC3pvNMRxLGqc2t4nDXUshcIUzrvSxqlS8dzTZZwqlbCOp7bPFZaWy6aktNfkn3+cpvpidITq2tUrKolEYoxd0IvSHJe4B7Gqnp90UV36+6LqYUK8alD/3qrDhw4YaU+Ez6K6l8fevweVCmjZqg3KV6iAunXrI+bWzTx1Ym7dxNuN30HZcuXw3gdtkZqagqSkZ4KIrX2HzohatBQ1g0P0Hk9xYwsJDcPH3XvCy8sbtevUgUwmQ5ZUKojY5kYtxuChI+Dt4wNn5zKwsTFMB4+ixAYAe/fugp2dPQIDgwwSlzkoTS7fvnUTfn5+qFW7LqpWq47qNd7C7Zj8fxdjxpiVlQWpVIpy5Xzh7Fwm97zVwzfHpXnfEdJx1BajoY5jUePU9j5pqGMpFKZw3pU2Tp57uo1TaMdT2+cKS8tlU1Kaa/KD2Pu4fOlvjB47DmG1asPR0dFIe6F7pTkur3tw+Pj4wMvLGzY2trC2sqimZbFYVPdysVgMewd79Uni5OyMpKSkPHXSxWI4ODgAAJydnNWvCxBAbO4eHnqOQrOixNaj52fq/x86sB916tZHGRcXQcQGAKdPHsfvi6Mhl2dj4uSpBunqVZTYniclYcefW/H99JmYP3e23mMyF6XJ5dzXOqjrOTk5QywWCypGK2trAMD8Ob8iPT0dtevUxYBBQ2FnZ2fwGLW97wjpOGqLMTU1BYD+j2NR49T2PmmoYykUpnDelTZOnnu6jfN1t3KhHE9A8+cKS8tlU1Kaa3JCQhycnJywdfNGxMbeQ40aNTF46Ag4OTsbdif0oDTHpWZwCD74sD0mjBsLKysR3qoZjBat2hh2B0yIxX8dUZS2l7EexRHyI0DaYtuyeQNu3byBwUOHGzagN2iKrX6DRvjx51/R+t338fuiBVAoFIYPDPljW7pkIdp37Aw/f31/rWP+SpPLhkq1osbo5uqGfgMGYeCQ4Rgx6nP8ffECDuzfq/8AUbr3HSEdR8C4xxEo3fukgN/+9cIUzjuA556uFTVOIR7Pon6usLRcNiVFvSZnZmRCoVCgyTvNMOaL8bh39w52bP9T/wEaSVGPS9yDWBw9fAhjvvwKk779HgkJ8Thz+qT+AzRRFnWn28XFBVlSKZRKJaysrCCVSODq5v6fOq7IlGQCACT/do92dXWHvhUlNmMpamwH9u3FX7t34pspP8DL20cQsSmVSpw7exo1g0Pg5x+AD9t1xOGD+/HyxQuULVfOqLHdu3sH169dxf17d7F75zZkZWXhUeJD2NraoUu3j/Uam6krTS67uLpAkpmprieVSuDr5y+oGK2srdGkaXO4u+fWDw4NxcOEBKPEqPW1AjqO2hjqOBYnTk3vk4Y6lkJhCuddaePkuafbOIV0PAv6XGFpuWxKSnNNdnVzg7dPWTRp2gwAUKdefTxMiDdk+HpTmuPy99/nUbZcOTR6uwkAIDS0Fq7+cxlNm7Uw6D6YCou6012lanVYWVnh8MH9ePz4Ea5cuYzgkFAo3/h2smZwCM6dOY2kpGc4cmg/PL28UM7XVxCxGUtRYjt96gTWrFqBkaO/QNmyZZGZmYEcudzosVlZWWHj+jXYuH4tUlJScPb0Sbi4uMLTy8vosQUGVcK8BYvx0y9zMHPWbwgoXwHvvt8W733QVu+xmbrS5HLNmiF4/jwJly9dRGzsfdy9cwfBIaGCivHWzRsYNXwQYm7dRGLiQ9y9fRsVAwONEqM2QjqO2hjqOBY1Tm3vk4Y6lkJhCuddaePkuafbOIV0PAv6XGFpuWxKSnNNrlW7Dp4nPcPF8+fw+PEj3Lh2FZUqVzbi3uhOaY5L+fIV8DzpGW7dvI5HiYm4e/c2AspXMOLeCJtIpVKpjB2EIZ09fQrr166CRJKJho0aY+CQ4Zjz688IDglFh05d8gyL7+nphYFDhhvsDbOw2F6LjpqLrKwsjB03wSBxFSW20RFDkZz8PM9rhkdEomXrd40eW2zsfSz/fTESExPg5+ePAYOG4K2ahhmMrqh/UwCYOOFL1KvfgFOGFVFpcnnvnp3YtWMbFDkKtG7zHnr16Se4GDeuW4Mjhw9CochBo7ebYODgYXoZOKg07ztCOY4FxWio41iUOAt6nzTUsRQKUzjvShsnzz3dximk41nQ5wpLy2VTUppr8rmzp7F+7Sqki9NRv0FDDBo6Qv2cs6krzXHZtGEtDh86gBy5HA0avo1BQ0foZawFc2BxjW4iIiIiIiIiQ7Go7uVEREREREREhsRGNxEREREREZGesNFNREREREREpCdsdBMRERERERHpCRvdRERERERERHrCRjcRERERERGRnrDRTaWyd89ODBvcHy9fJBs7FCIykOzsbIwcPghrVi03dihEREREgsdGN5XK243fwaAhw+Hh6QUA2LJpPXp174rk50lGjoyI9MXOzg6DhozAu+99UKT6t25eR6/uXXH86GE9R0ZE2vTq3hXRUXONHQZRsWVnZ2Nh1FwMHvAZvvn6K6PGUprrWWTEEHz/3SQAwPmzZzBkYF/cv3dX1yGWyt07tzFkYF9cOH/W2KGYHRtjB0CmzcvLG15e3sYOg4gMrF79BsYOgYh0RKlQwMra2thhEGl0cP9fOHn8KFq2fhdhtWrrfP29undFi5atMWLU5zpftzbBoaEYNGQ4KlYMNNg2iyIwqBIGDRmO4JAwY4didtjoFqDnSUlYvmwJbt28DmfnMmjeohW69+wNANi0YS1OHDsKqVSC4JBQhA8ahrLlygHIfdNo3rI1MjMycP3aVZQtVw7DIyJRtVp1AEBc3AOs/ON3PIi9D3d3D3zwYXt07NwVAPDk8WOsXrkMMbduwt7BAY0bN0Xf/uGQZkkxfPAANG/RCsNHjgYArF+zCjt3/InZcxfg9KkT2Lp5I+YtWIzoBfMQc+smAGD0yGHo0y8c69euQq3adTH+628AAOvWrMSuHdsw46dfUalyFY37n/w8CaNHDsMHH7ZH4sMEPIi9D19fPwwbORp/7d6JC+fPoUyZMuj5WV80a94SACCXy7FuzUqcOnkcVlZWqN+gEfr1HwgHR0fk5ORg04a1OHniGKQSCSpVroqBg4eiQsVA9bbadeiEuAcPEHv/HipWDMSoz7+Ar5+ffv7AZDK05aKNjY36vBJSPvr5B+Di+XPYuGEtXiQnIzAoCP3CB6NKlar59u377yYhIyMDQZUq49LF83Bydka//oPQ8O3GAACpVIrVK5bh4oXzUChyUKdeA4QPGgIXF1f1/r3+kLJl03ps3bwR4YOHYue2PyGVSvBO0xYYOGQYtm7egK2bNwIAFi2cj1s3b2DEqM9x4/o1rF+7Co8SH8LDwxMdOnXB+23bFfj3OH70MBYtnI+evfvi5IljSH6ehLBaddC9Z2+sWLYEsffvw9/fH8NGjkalSpUBAC9fvsAfvy/GzRvX4ebuhvfbtkOHjl0gEomQmpqCVcuX4drVfyASWaFO3XoIHzwUzs5l1Nv6rN8AHDl4ACkpKahTtx4iRn0OO3v7Up5ZZOo0nb/Pnj7F3j078cPMX1ClSlVIpVIMCe+L2nXqYsDAwcW+rvXq3hXvNG2OrKwsxNy6ATc3dwyLGIWL58/j2NFDsLW1Q4dOXdCpSzcAgEqlwvY/t+DA/r3IkecgJDQMAwYNxZPHiZg2ZTIA4MTxo7h16wbmL/z/9u47PIpyb+P4N5uekEYIkEAo0qSDSLFRRRBQilJFEKQJYjsePOqr4lE4KIoFEEURC4o0AVEEEelN6UjvnSSUJJvspu6+fwRWQhIIZJMtuT/XxaU7Ozvzm83eO/vMzPPM54wcPpiQkFB8fHw4sH8f7dp3zLP+f//n1TzfiymTPmLL5r/o9HBnlv22BLPJTPsOHale43a+nj6NSxcvUqt2HYY//SwlgoIA2Ld3N99+PZ3Tp05SNjKK3o/1o36DhgAcOniAGd9M58jhwwQFBdHq/rY82r2XbV1bt2zm4S7d+HnRAiwWC+0f7MQj3XsW2t9aHO/UyRMADBk6PMfBIVc9YBQUFEyzu+5xdBk5+Pr6OmVd7kCXlzsZi8XCe++O5dChA3Tp1p3adery08If+WnBPL79+ksWLZxPozsb0+mhLuzds5t3x71NRkaG7fVrVq0gLCyMh7t2IzYmhq+nfwFAitnMO2P+y8ULF3i0R2/KR1fgu2+/Ys2qFVgsFsaNeZPjx47xUOduNGl6F78tXczPPy8kKCiY22vWZseObbZ17Ny5nXLlo4mMKpet9g6dOtPwjqyzXz16PUbDO+6kdp267P57J2lpaQDs2L6NiIjSeTa4r7byj9+pUaMmbdq24/jxY7z28iiSkpJ4tGcvPDw8+OKzTzAlJwMw7fNPWb7sN1q3eYC27R5k4/q1fPv1lwDMnzeHRQvn07BhI7p178nZM6f54L13sq3rtyW/UrVqNdo92IEjRw4x+4fvbvZPJ27melkEnDKPe3bv4oP336F06TL06NWHzIxM3hnzX0wmU67bePLEcUzJyTzUpRuWTAsTP5pAQkI8AJM+ep/Vq1bQslUbWrVpy6YN65j44fvXfc+WLv6Ftu0epFLlKvy+bAk7tm+jYaPGdOj4MAD3tWhF85atSTIaee+dsaSkpNCzd19KlynDl198xvZtW/L1t/nj99+4t3kL6tZrwJbNf/LqSy9SqfJtPNylK2fOnObraZ8DWQfjxr41muPHjtKtew/q1WvId998xfq1qwH4+IP32bF9Gw+060Cbtu3YsH4tM2d8k21dixf9xL0tWlK/QQM2bVzPqlUr8lWjuK+8Pr9BIVkHpLZt3QzA3zt3kJmZQZNmd9leezP7NYAN69dRunQZHuz4MBcunOftN9/g0KEDdHu0JyGhocz87hvOnjkNwI9zZzNn1vc0aXoXnR7uwv59e/lk4geUjSzHwMHDAKhWrQY9e/e1Lf/woYMEh4TQp29/mt519w3rz0tychI7tm/nwQ4PUSoigvnz5vDJxI9o0bIVze6+h21bN/PLzz8BcPbMaca+9SbeXt706PUYwcHBvPfOGOJiY0hOTmLsW6MxJibSrXsPatxek3mzf2Dd5cwCJCUZ2bRhPZ0e6kJ4eCnmzp7J6dOnbv4PKS7hv2+8ysrLl3I/1usR/vvGq/Tu3oVPJn7IiGFPMvXTyUDW5/blUS/Qr093nh0xlN+XLbUtw2KxMPuH73hq8AAGPN6L/709mrNnz9guFYesA1Ijhw8G4NKli3w0YTxP9u/DoCf6MumjCSQnJ9107du3beHZp4fyZP8+TJ0yKdvvg1UrltO7exf27N4FZF16Pua/b1y+jL4vI4Y+yV+bNvLTgh8Z+mR/Bg94nG++mpZt+cuXLeXZEUMZ2K8P/3t7NOfOns227J8XLeCFZ4bzRN9efPj+u6SlpgJZl+t/+cVnDB3Unyf792H8uDHExcUCuV8+v2jhfEY+NZh+fboz+rWXOXr0iO25kcMH887Y/zJl0kc80bcXzwwfwtYtm2/43ky5vJ0LfpzDiGFPMrBfH2b/8B3bt23h+cs1v/u/t0kyGm2v2bd3N6/+50We6NuT//z7eXZs/+e30KGDBxj92sv069ODEUOfZO6cH7Kta/CAx1m0cD5DB/Vn8MDHbScDipLOdDuZnTu2c/LEcYaPfI77mrcEIDY2ht1/7+Lggf00bXY3g4eNACAkNJTp06ayfdtW7mzcBIA7Gzdl0NDhAJw8fsz2gVyzZhUJCfG88d+x3F6zFh06PsSLz49k39493H1vc4aNGEnJkqUoWbIkSUlJ/LlpA/v37oWu0KRpM7768nOOHztKWFhJjh87Spduj+ao/c7GTTh29DDbtm7m3vuaE1G6DE2a3c3OHdvZs3sXFStV5sTxY3To9HC+3ov2D3aiZ5+sHwd7d/9NbGwMz77wb3x9ffHy8uLrL7/g7NkzlIqIYPXKFdz/QDseaJ91puzi+fOsWb2KQUOH0+yuu6lbrz7Va9xOYkICF86f57cli0lMSLCt64H2D/JYvycA2L1rJydOHL/Jv5y4m7yyeGD/fsxmMyuWL3O6PP7800JCQkIZMGgIBoOBcuWjGTfmTbZv28Ld99yXYxtDw8J44d//wWAwUKVKNca+9Qbr166hQcM72LplM50e6mLLhcHDwM+LFnD8+DEqVqyU63v2zPMvUrFSZRre0YiXXnyOkyeO81DnrqSmmFn8y0/Url2H2nXqcuTwIVJTU2jZqg0dOj1M85at+WXRQry88rdLGjBoKA0a3oHZbGZgv97UrlOH/gMGZb3PJ47b3uetm//izOlTDB/5HLVq1wFg797drF61knvua0HP3o8RGBhIZGQUiYmJ7Nq5nX379mZb18DBQ7mzcVPMZjN/btrISX03FHuxsTG5fn6rVq1GyfBwtm/dwqPde7Fj+1Y8PT1p1KgxZnPWga/87teqVK0GQLO77qb/wKzP9qmTx/lz00ae+9cowsJKUjYykvfeGcvx48coXaYsv/6yiIZ33MnDXboBkJ6exrw5szB4eND2gfZ8+fmnREZF2c6kA1SqfBvPvTAKyDpTnlf9+fHy/72Bj48PkVFRvPfOWDo89DBduj6K1Wply+Y/OXb5h/qSxb9gtVoYPGw4fv7+1KvfkH+/MJL169bSrn0HXnzpZcqUjSQwIJDExEQ2rF/L/n17uefe5rZ1vfLaaAICA4kqV4733hnLyRPHKVeufEH+rOKkOnTqTEZ6BgcP7mfg4GGkpqSwd89utmz+kwfad6RmrVqcPXuG99/9HxUrVebRnr35e+cOpk2dQoUKFale43Z+WbSQ+fPm0KJla0qXLcviRQt5b9wYXv6/0QwcPIwvP/+UatVq8MCDHYCsA7LHjx2lXfsOWKxWfv5pPn5+frb9eX4YjYl8+P54SpQowUNdurFvzx7iL10iMjIqz9f8vWsHzVu0olPnLvy8cAEfffAeZcuW5eEu3dj815+2jNetV5/Vq1bwxdQp3Ne8JRUqVWL5st94750xvPv+P+M2LF70E/e3a8/xo0fYtHE9tevWo+0D7Zk3ZxbLlv7KA+07EBISwqKF8/lownje/t/4HDX9vGgB38/4mqbN7qZipcosWfwz48a8yYSPJhMYWAKA7du20vSuu+n6SHd+XrSAzz+dzJTPbzzQ6tUH61avWsH8eXMICgqmQ6eHOHfuHKtWLOeXn3+iZ+/HbAfrbrutCj16Pcb2bVt4750xTPhoMgGBgYx9azRhYWF0696DE8eOMW/2D0RGRtm+N64+WLdu7Wrmzp5Js7vvKdLvDTW6ncyZy0drb7vqTPCbb4/j8KGD/N/L/+b2mrVs06/8/5kzp4CsH/kBAQG25/38/Em9fFTrzKnsy/Xy9ubDSZ9mW/eE98Zl+0GZmpoCQOMmzfh6+hfs2L6NkuHhWK1WGjdplq/tadykGdO/+IxtW7cQHx8PZA2+lh/ePt7/bIu/P/4BAfhevqzT38/fVuOJ48exWi0sW/ory5b+mm0ZCfHxlAwPZ/6Pc3n7zdfJzPznKOOV7YNr3jd/f4xJRqR4yyuLkHV2KD093enyePzYUeLjL/HM8CHZlhUXG5vrNnp5eWEwZF3wVK16DSDrkvrjx48BUOPq7atVi58XLeDM6VN5NrqvbK+//z/5zE2lyrdRr34DZs2cwe6/d9Gg4R082KETwSEhuc5/LZ/L3w1X1hMaGmZ77ur3+dixowB8MvHDbK+3WixZrw8I4IupUzh44ABWa9a0UhER19+mlNy3SYqP631+mzS9i6W/LiYhIZ4dO7ZRq3YdSgQF2Rrd+d2vXeHtfdX8l58PCyuZNf9Vn8m42FiSk5PYuuUvtm75K1u9cXGxhIaFkZsrywDw8PDIs/788PHxybbMsMu59PDwwM/Pz7Zdx48dJSMjgxefH5mjTj9/f4yJRj6bMonYmH8GZL02dwGBgTneA3FPdzZuwl+bNnDw4H7aPtDedma4e88+tO/QCYDExEReeW005aMr4uXpSbVqNdi1cwf79+21Nbrr1K1n65YV4B/Agh/nkp6elusBqfwckL2RdWtXk5qawr9GvUzdevXJfDiTEUOfvO5rqlarbutXbkxMZPHPPzHkqaepXuN26tarz0svPsexo0eoW68+ixbOp1Ll22wH8QIDApn66WQOHz5kW15eB41PnTxOYGAgj/cfiJeXF+XKR3Pi2DEsl/eNV1itVhYv+onbqlTluX9lHZyrWKky48e9zZpVK23v/9UH7xITE1j8808kJiTka59enA7WqdHtbDxyn+x1ecd75QcyZIUBss5A3epyIetS1/ff/R8lSgQxaMhThJUsyWdTJtmeLxkeTpWq1dixfSvhpSIoFRGRr8vDAYKDg6lZqw7bt24hMSGB0LAw2497e/G4vG1t2rbLMbhTQEAA06dNZeP6dXTu0o3bqlZl4/p1rF+3xq41iBu6TmacNo8eULZsJI8/MTDbMq93ZP2KKztbK1a8vAq4fTdgMBj4z6tvsHPHdrZt3cyin+YzZ9b3vPr6f7ktl/7nt+rKd8OAJ4dka0z7+GQ1ciaM/x9mk5l+TwwkonRpZn0/A3OK2W7rF/d0vc9vs7vuYcnin1n88yLOx8XxcJdHiqSmK5/1xk2a0bJ1m2zP3cz4JEVSv0dWY/npZ1/INjk8vBQxMeeY+NEEykdHM2zEMwQFBTF+3Bj71yAu7+oDRsHBwZw6dZKJH04gPv6SbXpqagpJSUkkJMTT/LZWtuntO3SyNRhzXXY+DsjeyJVLva+M4+Lp6ZntoFturj7IZjt4dfmA2dUHszMyMjh96iRWq5Wnhw3Ktowrl4lD3geN2z3Ykb937eT5Z56i0Z1NuLNxE9vYUVczJiZy6dJF7rr7Xtu0mrVqA2Tr0nH13yL7QfcbN7qL08E6NbqdTFRU1hGXY0ePUK58NJDVXzk9PR1vb2/27dvLA+2zLn/Zf/moW3Q+Rj6Munwk59ixo1SvcTuWzEwmfjSB6AoVaNCwESaTie69+tCmbbusQSmu+WHduGkzZs/8nsDAk9xzX/PcVpHl8p7fcvkHOkDTu+5m2tQpXLp0kZat78fD4zotjltQrnw0Hh4eJMRf4o7Ll8GlpaZy4cJ5fHx9OXzoIJUqVbIdDTywb59d1y/uKa8sGjwM9Hm8v1PmsXz5Cuzbu5vKt1WxnQ07dvRIjvEXrshIz8BisWAwGDh86CAAZcqUJTo62rZNVw5k7d+b/+3LKfv3wratm1m3dg09evah/sDBdH2kO8MGPcGqFX/YtdFdProCABmZGbbvhpiYcwQHh2A0JhIbE0OHTg/bfnzNnztHjW65oet9fp94cjBhYSX59Zef8PAw0Lhx0yKpKSKiNL6+vsTFxdLwjjvx8PDAYrFw6uQJ2+CH8M/Bs7xUr3F7oddfProC+/ftpWTJcCpdHvDw+LGjVKxUmU0b15OZmUH3nr1pdGcTUnQGW/Jh397dTP9iKrVq16Vv/wGkpaUx9fLB6lv5yWmPA7JXfuteffDabqxWPDw8qFa9Bp27Zj8wVrFSZf7eueO6L69XvyEfTPyUTRvWsWP7Nsa+9Sb33HsfI555Ptt8uZ5guHyA3h4H4G+KGxysU6PbydSrV5/y0RX4evo04uJiOXf2LKtW/kGXbt1p174jPy9aQIC/P6FhYfyyaCHRFSpSp269Gy733vtaMHf2TCZP/IA2bdtxcP8+Nv/1J3XrN6B0mbL4+vqxbOkSMtIz2L5tC/Hxl2yjMAM0bXoXM2d8Q2JiAk2a5n1peUhIKADz5szigXYPUrVadZpcvsQ8PT39uq+9VWFhJWneohWrVv7Bxx++z21VqrB+zWrw8GDsO+8TXaEimzauZ84P32NOMfPbkqxL0DMyM/FywREvpWhcL4u+vr5OmcfOXbuxc8c23n7zdVq2asOZ06dYtXIF48ZPoEIul4THx1/i/XfHUr1GTZYt/RVvbx/uuuc+QkNDadrsbn5ZtBCLJROs8OviRTRoeAdR5XJvwF9PSGgokDW4S0BAAKXLlGXDujWcOX2Ke5u34OjhwwCUr1Dhppd9PU2aNCMyMoofvvuWSxcu4h8YwLIlv3LPfc157PEnKFkynA3r1hIaGsahg/s5fPig7WCFSF5Cw0rm+fn18PCgSbO7WPrrL9S4vWael3Xbm8HTk06duzJv9g+MG/Nf6tVvwNYtmzlz5hQTP/kcLy8vQkJC2f33Ln5ZtJCOD3XOdTlFUX/HTg+zasVyxo8bQ9v2D5KYkMCypb/y/IsvUb58NB4eBhbOn8eZ06fZsH4tAJmZmXavQ9zHocsHjfsPeJIKFStx8vJo5wCBgSUICQm1XaYMZA2KueIP+g94kjJls64EuXJAyl4HZK9cYXb40AFq1a5LZmambVDhgvLy9qZs2UhiY2OoXaeerYvKsaNH8nUb36lTJhFVvjydHurCgx0fYtrnn/L7b0t4/Insl78HBAQQHl6K/fv/ubT+ymX20RWL9lZn7nCwTo1uJ2Pw9OTFl17hq2lTmT9vDn5+/jzcuRuP9uiF1WIhIyODtWtWkZGRTp269Rjw5FA889Fw9Pf35z+vvM7X079g7qyZBAeH8NjjT9C6TVsARj73AjO+ns78ebNp2uxu0qqlERv7zyUaZcpGUqFiJeLjL1G9Rs0813PX3feyZtUK/ty4gbp161G1WnWCQ0KoXqMmp06doGatrMGMUlNTScql37Sn4dYawQMGDcXH15cN69ey5a9NVKteg/4Ds0ahfLz/QEymZH75+SfKl4+mXfsOLP7lJ2JjYoiKuvFlt1I8XS+LkNXny9nyWKt2XUY+9y9+nDOLWTO/IyIigoGDh+ba4IasgdRCQsNYtPBH/P0DGPnsC4RebiAPGTYCHx8fli9bisFg4O57m/PEgEG5LudGypUrT8tWbdiwfh1/79zJk0Pu5vkXX2LOrJnMnPENISGhdHu0J/e3bUdSUlKufcF9ff1uer1e3t689OrrfDP9C5b99iteXl7c2bgpXbp1x8PDg+f+NYppU6cwf95s6tStT6M7m7B92xZSzDrbLXmrXPm2PD+/kHWJ99Jff8nXqN/21K1bdyyZmaz443f27vmbChUr8ezzL9oGKOzeqw8zZ3zNij9+z7PRDbnXH3/pEpmWnA3fEiXy19/7apFR5Rj18mvM/O4b5s3+geCQELo92pMGDRthMBgYPPQp5s75gUUL59Oq9f22RpBIXq7c63rmd99So2ZNVq/4A4DMjKzPbIdODzPzu2/47JOJlClbll9+/okA/wDCS2VdMn71AakOnR62ywHZu++5j+9nfMOUyR9zf9usvuiJCQl260P8cNdH+HTyx4x583Wa3nU3B/bvZdvWrUya8vkNX5uUlMQP331LwqV4gkNC2Lr5L0LDwihRokTO9XTpxvRpU/lowngqVqrEksW/EBoaxt1XXXJeFNzhYJ2H9UbXGokUkCUzk2dGDKVOvfoMG57VF+PKPXCvVSoigomf3PgLQ0QK5r9vvEpcXKzT5W3KpI9Yncttua7cE1zE2S1ftpQvpk5h4ief33Q/UGeQW/0jhw/mfFxcjnmHDR9Ji1ZtckwXsacr+4WZcxawZ/cu3hr9Wo7P3o/zZrP011/wNHjSvmMn5s6ayZ1NmvHMc//CkpnJnFkzWfHH75hMJmrWqsUTTw6xnY1e/vtvzJzxNaFhJXnvg4kcPLCfaVOnEBsbQ5269bFYLGzftoUvps/gyJFDtvU3bnqXbZDEq3l7eRMcEsL2bVuYPm0qxkQjTZo248SJ4/j5+fH6m2Nsv4NfG/1W1gHz4YOJiCjN629mXRY9d/ZM5s2ZxceTPyOidBniYmN4ZsRQHunek0d79Aa4PP7CT1y6dJHIyCi69+xD46bNciwboHf3Lrb9aHJyEt9+PZ3Nf24iMzOD26pUo2//AVSufFuO99dqtTJ/3myW/bYEU3IyVavVYMCTQyh/uRva9er29vbJ82Ddl59/avubArn+Xa9d9q6dO5j53TecPHGc4JAQ7m/bns5dH8FgMLBi+TLmzvmB9LR0WrW+n/Xr1xAWWpL/jn0n2+cnr3UVBTW6pVBt/utPli9bwvZtWxn91v+ocXvWWbkLF85z/PLIwlfz8fHN1+W5IlIwztroPn7sKBcunM8xPTy8FBUrVXZARSL5Y0pOZuH8efyxfBmVKt/Gq6+/6eiSbsr16v97107S0lJzvKZipcr5upxVxB1daWBeq2at2raGYnGmg3XZ6fJyKVS7dmznwP599OrzuK3BDVk/oLWjFpFrVaxUWY1rcUnmFDNLl/xCufLRDBmW//v5Oovr1a+D4SI53XNv81wH/7yVbhfuaOhTI/M8WFcc6Uy3iIiIiIiISCEp4vHeRURERERERIoPNbpFRERERERECoka3SIiIiIiIiKFRI1uERERERERkUKiRreIiIiIiIhIIVGjW0RERERERKSQqNEtIiIiIiIiUkjU6BYREREREREpJGp0i4iIiIiIiBQSNbpFRERERERECoka3SIiIiIiIiKFRI1uERERERERkUKiRreIiIiIiIhIIVGjW0RERERERKSQqNEtIiIiIiIiUki8HF1AUbBYLFy6dBE/P388PDwcXY6I3VitVlJSzISFlcRgKF7H0JRrcUfFOdOgXIt7Ks65VqbFXd1srotFo/vSpYs8PWyQo8sQKTSTPv2C8PBSji6jSCnX4s6KY6ZBuRb3VhxzrUyLu8tvrotFo9vPzx/IelP8/QMcXI2I/ZjNJp4eNsj2GS9OlGtxR8U506Bci3sqzrlWpsVd3Wyui0Wj+8rlLP7+AQQEKPDiforjJVvKtbiz4phpUK7FvRXHXCvT4u7ym+ti0egWEREREZEsCQnxrFu7mtUrVzBi5HNEV6jI4cOHmDZ1CqdOniQyKoqBg4ZS4/aaWK1WZn73DatW/IGnpyedHu5Ch04PO3oTRFxK8RrNQURERESkGDObzYx8aggb163j+LGjQNaAZx+MH0e16jX4cOIUKlasxKefTARg+7Yt/P7bEka98hqDhg5nxjfTOXH8mAO3QMT1qNEtIiIiIlJM+Pj4MHHKVEY+94JtWlpqKvfc25yHu3SjZHg4tevUJSE+HoC9e3ZTrfrtVKlSlTsa3Unp0mXYv2+vg6oXcU26vFycSmZmJunp6Y4uw2l4e3vj6enp6DJEbpnFYiEtLc3RZTgVHx+fYnfbIHEv2ldn52r7ak9PT0JCQomLjbFN8/P3p3fffkDW33fF8t+5t3kLABITE/Hz87PNGxAYSGJiYq7LTk9Pz/bZMJtNhbEJUgiU6+zsnWs1usUpWK1Wzp07R/zlo6ryj9DQUMqWLVssB2AR15aWlsbRo0exWCyOLsWpGAwGKleujI+Pj6NLEbkp2lfnzZ321V989gnGJCO9+jye5zx5bebC+XOZN2dWIVUmhUG5zps9c61Gdy4yMzM5e+ZMtmmRUVEudRTT1VwJe+nSpQkICHCLnVZBWa1WTCYTsbGxAERGRjq4IpH8s1qtnD17Fk9PT6Kjo3Vm9zKLxcKZM2c4e/YsFSpU0HddAVgyM4mJOWd7XKZMWQzaTxcq7atzcrd99XfffsWunTsY/db/bKONBwUFceF8nG0es9lMcEhorq/v3PVROnTqfNW8pnzfp9tisZCYkABAcEiI9htFRLnOqTByrUZ3Ls6eOcO5JZ9RNiTrvmvnEszQfijlo6MdXJl7yszMtIU9PDzc0eU4FX//rM9gbGwspUuX1oEfJ7FgxjTSjRdyTPcOCqdL3ycdUJHzycjIwGQyERUVpdvEXCMiIoIzZ86QkZGBt7e3o8txWTEx54hd8hmlg/yINaZA+6FERpVzdFluS/vqvLnLvnrh/Hn88ftvvPx/o/EP8Cc5OQk/P39q1qrDb0sWc/DAfkwmEzHnzlGzZq1cl+Ht7X3L32uJCQkkLJ2c9aDdCELDwm51UySflOu82TvXanTnoWyIP+XDAh1dRrFwpf+Ifpjn7sr7kp6e7rI7cneTbrxA96o5Lw2ecyhnQ7y4yszMBNAl1Lm48p5kZmaq0V1ApYP8iAzVvqMoaF99fe6wr/7h+28BeO2VUbZpr41+i4Z3NKL9g50YP24Mnl6e9HtiIOXKF86JqBB/fScWJeX6+uyZazW6xWnocpbc6X0RV6bPb056T8SV6fObO1d8XyJKl2HmnAW2x1f//7V69+1nG2hN3I8rfn6Lgj3fF3WWEJfTsmVLKlWqxIYNGyhVqhQ//vijo0u6rrlz51KqVCk2bdrk6FJEnJZyLeJelGkR96Nc3zo1usVl1a9fnylTptCqVStHl3JdrVq1YsqUKdSrV8/RpYg4PeVaxL0o0yLuR7m+ebq8PB8yLVbOnztre6yRzJ1DQEAA3bt3d3QZNxQeHu4SdYo4A+VaxL0o0yLuR7m+eTrTnQ/nk1IwbfgBNnzDuSWf5bidmBSuv/76i3r16hEUFES3bt1s9xFcuXIlHh4efPXVVwAYjUaGDBlCqVKlCA4OplOnTpw8edK2nOXLl3P77bcTFBRE165d6dixI5UqVQLgq6++wsPDg/fff58aNWpQokQJunfvjtlstr3+q6++okaNGvj5+dGwYUOWL19ue+7ChQs89thjhIeHU6pUKR5//HEuXLiQbdkrV64E4NixYzz00EOEhIQQGRnJyJEjSUlJKbw3UMQJKdci7kWZFnE/yrX9qNGdTxElfCkfFmi7jZgUjfT0dB555BFOnjzJqFGj8PPzY8eOHbnO+/TTT/PVV1/x+OOP8+9//5uVK1cyaFDWvSEvXbpE165diY+P5+WXXyYgIIDFixfnWMaECRN4/PHHadeuHXPnzuXrr78GYN68eQwYMIAKFSowevRojEYjnTp14siRI7Z1z5kzh6eeeopBgwYxc+ZMhg8fnmudvXv3ZvXq1YwaNYouXbowadIk3njjDXu8XSIuQbkWcS/KtIj7Ua7tS5eXi1NbsmQJJ0+e5PPPP7eF98CBA5w/fz7HvCNHjmTkyJE0aNCAuLg4tmzZwrJlywD47rvvMBqN/PDDD3To0AGAQ4cOERMTk20Zn3zyCZ07d8ZoNPLjjz+ya9cuAN5//30iIyNZvHgx3t7edOrUibp16zJp0iQmTJjA33//TfXq1Xn77bcBqFq1qu1o4LX+/vtvmjdvzquvvgpAlSpVCA0NLfB7JeIqlGsR96JMi7gf5dq+1OgWp3bw4EEAmjZtaptWokSJXANfunRphg0bxm+//Wa7R/C1y7n33ntt067c9P5qISEhAAQFBQGQnJwMwI4dO2jXrp3tnrp16tShZMmS7Nu3D4B//etfDB48mFq1avHQQw/xyCOP0KRJk1y3adSoUbz++us0btyYjh070qNHD2rVqpWPd0PEPSjXIu5FmRZxP8q1fenycnFqBkPWRzQ/A9cNGDCAlStXMmbMGBYsWECbNm1uaTm58fX1zfFai8ViW+4TTzzB3r176devHxs2bKBp06a89tpruS7rtddeY/v27XTo0IGffvqJunXrMnXq1FuqS8QVKdci7kWZFnE/yrV9qdEtTq1atWoA/Pnnn7ZpRqMx13n//PNPHnzwQV566SU6d+5MWFiY7bnq1asDsG7dOtu0K0fQ8qNOnTps2rSJjIwMAHbv3k18fDx169bFaDTSt29f1q1bx3/+8x9Wr17Ngw8+yAcffJBjOUePHqVv376cPn2aN998ky1btnD77bfz8ccf57sWEVenXIu4F2VaxP0o1/aly8vFqbVr147o6GheeOEFTp06xd9//83WrVupWLFijnnr1q3LsmXLGDt2LIcPH2bu3LlA1kAQffr04eWXX6Z///6MHDmSnTt3snnz5lyXk5tRo0bx0EMP0aFDB9q0acO0adMICAhgyJAhBAUFsXfvXhYuXMiRI0fw8fFh/fr11KlTJ8dyIiMjWbFiBb///jvPPvssycnJHDx4kG7duhXsjZICWzBjGunGCzmmHzt1mkrly2WbduLIIaiqywxvlXIt4l6UaRH3o1zbl850i1Pz8vJi3rx5lC9fnnHjxmE2m2nfvn2u806fPp169eoxduxYjh07xoABAwA4cuQIISEhzJ8/n5CQEP73v/+RlpZG3bp1832pS6dOnfj00085ePAgb7zxBmFhYSxdupTKlSsDsHDhQh544AE++OADxo8fT/PmzZk5c2aO5fj5+bFs2TLq1q3L22+/zWeffUaPHj2YPHnyLb5DYi/pxgt0r+qT4x+m+BzTLBmpji7XpSnXIu5FmRZxP8q1fXlYrVZrkazJgUwmE0/278O0r78nICDghvOfOnkSNnxD+bBAALYcP0+gIZPbo8tw6lIy3NWP8tHRhV12sZGSksLRo0epXLkyfn5+hbaeQ4cOUbVqVSDryFvFihWpVasWv//+e6Gt0x6u9/7c7Gfbndh72+dMeTerkX2N8Yu38e8ODW84DWDOoTS6PzWqwLW4A+U6b8p03m5m+8+eOQ3rviYyNICz8Sa4pz+RUeWu+xq5dcr09SnXubuZbY+/dAlWX+5f23wIoVddoiyFQ7m+PnvmWpeXS7Fw6dIlGjZsSNu2bbn77rv57bffOHv2LOPHj3d0aSJyi5RrEfeiTIu4H+U6i9M2uv9Yvox5c34gOSmZ2nXqMnzks5hNZqZM/ogjhw8RGVWOocNHUrFiJUeXKi4gLCyMzz77jP/973/8+uuvVKpUiU8//ZTHHnvM0aUVOx++/y6bNq5n5pwFnI+LU6bllinXIu5FmRZxP8p1FqdsdBuNiXzx2RQGDBpCvfoNGPf2m/z800LOnj2Nr68f4ydMZO7smUydMokx495zdLniIvr06UOfPn0cXUaxtvmvP/nrz422xzO+na5MS4Eo1yLuRZkWcT/KtZMOpGa1Zt3TLTw8nJIlwy/fn83A3j27ubd5C0pFRNCy9f0cOXyI1FQNaCTiCkwmE9OnfUa7BzvapinTIiIiIuLunLLRHRwcTK/H+jJ+3BgG9utNRkYGD3d5BGNioq0Te2Bg1iBnxsTEHK9PT0/HZDLZ/pnNpiKtX0RymjnjG+rWa0CduvVs0/KbaVCuRURERMQ1OeXl5RcvXODHObMYMGgIVapWZ9KH77P4l59yndfDI+e0hfPnMm/OrEKuUkTya9/ePWz+axPjJ3zMgQP7rjtvbpkG5VpEREREXJNTNrr379+LxWLhgXYdAGjctBk7tm0lKCiY5ORkAMxmMwBBwSE5Xt+566N06NTZ9thsNvH0sEFFULmI5Gb+vDkYjUaefXoomZkWAJ7s3yffmQblWsQZadBTERGRG3PKy8ujypUnLS2NDevXEhsTw66dOyhXPpqatWqzZtUKzsfFsXLFcqpVq4GPT8776np7exMQEGD75+9fvO6JKOJsnhrxDB98PJlx4z+g/8CshvK48R/kO9OgXIs4myuDnnbp1p133v+QM6dP8fNPC7MNkFihQkWmTpnk6FJFREQcyikb3RUrVuKJJwcz45vpvPTis4SHl6JHr8fo228AmZkWXnx+JMeOHmHwsOGOLlVE8iE0LIyI0mWIKF2GkJCsM9kRpcso0yIuTIOeioiI5I9TNroBHmjXgcmfTmP6tz/w4kuvEBwcTKmICF4b/RZfzfiBse+8T3SFio4uUyQbDw8PPDw8+PLLL3M89/vvv9ueP3bsWNEX5yTuaNSYmXMWACjT4hKU69wVdNBT0ACJ4jjKtYh7cfZMO2WfbpG8nI+Lw2jM/cdbYQgKyjrYc7NmzZrFwIEDs02bPXu2vcoScSvKtWsq6KCnoAES3VlR5vpWMw3FN9cJCfGsW7ua1StXMGLkc0RXqMj5uLhcx2OwWq3M/O4bVq34A09PTzo93IUOnR529CZIEdO+umDU6BaXcT4ujheee5r0tKK7TNHbx5cJH066qdD7+fnxxx9/cOHCBcLDwwHIyMhg/vz5+Pv72wYMExHl2pUVdNBT0ACJ7qqoc30rmYbim2uz2czIp4ZQqVJljh87apt+9XgMc2fPZOqUSYwZ9x7bt23h99+W8Oobb5EQH89774yhTt16VNAAicWG9tUFp0a3uAyjMZH0tFQi2w3Hp2S5Ql9f2sXTnF36CUZj4k0F/v777+fnn3/mxx9/ZPDgwQD88ccfnD9/noceeohFixYVVskiLke5dl1XD3papUo1du3cQZWq1QgJCWXNqhXUrFk7XwMkent7F3HlUtiKMte3mmkovrn28fFh4pSppKWm8syIobbpe/fspv+AQbbxGN58/RVSU1PZu2c31arfTpUqVQEoXboM+/ftVaO7GNG+uuDU6BaX41OyHH6lKzu6jDyVKVOGZs2aMWvWLFvgZ82aRWRkJI0bN3bbnbhIQSjXrufqQU9NycnUrlOPHr0eIy01lSmTP+bF50cSVa4cT414xtGlioMo187J09OTkJBQ4mJjsk3PazyGxKumAwQEBpJ4nXEa0tPTbY81ToN7UaZvnRrdInaWkpJCz549efHFF4mLiyM0NJQFCxbw+OOPk5aW5ujyROQWKNe5e6BdB9vl5Vd7bfRbDqhG5OYo1zeW13gMGqdBnJEzZ9ppRy8XcVUpKSn06NEDq9XKvHnz+P3337l48SK9evVy2/5hIu5OuRZxP8p1dnmNxxAUFITJlGybz2w2ExwSmusyOnd9lGlff2/7N+nTLwq9bpErnDnTanSL2FlqaipRUVHcd999zJ49m9mzZ1OpUiWaNWume9WKuCjlWsT9KNfZ1axVmzWrVnA+Li7beAw1a9XhwP59HDywnx3btxFz7hw1a9bKdRne3t4EBATY/vn7B9x0HRarlYSEBOIvXcJisRR0s6QYceZM6/JyETuzWq0A9OrVixEjRhAYGMjw4cOzPSfu6ciRQ8yZ8m62ad5B4XTp+6SDKhJ7Ua5F3I9ynV3ffgNyHY+h4R2NaP9gJ8aPG4Onlyf9nhhIufLRhVaHMSWdtNXTSPDxhXYjCA0LK7R1iXtx5kyr0S1SSB599FFGjhyJ0WikV69eji5HioAhI5XuVbOP0jzn0AUHVSOFQbkWcT/FNdcRpcswc84C2+NSERG5jsfg4eFB77796N23X5HVFuznja+v7mwgt8YZM61Gt7ictIunXWI9pUqVok2bNhw7dowGDRrYpygRN6VcS0FYLFbOXzMSc5kyZTF4ejqoIoGiybU91qFci+SP9tW3To1ucRlBQcF4+/hyduknRbZObx9fgoKC8z3/tZeuLFmyJNvjSZMmMWnSJLvUJuIOlGuxh/PJKZjXfQ+lSwIQa0yB9kOJjCr8+8lKTkWd65vNNCjXIjdD++qCU6NbXEapiAgmfDgJozH3e0MWhqCgYEpFRBTZ+sQ1HEnyYPy62Fyny81RrsVeSgX6Ehl684M2if0Vda6VaZHCpX11wanRLS6lVESEWwVQXJMZP5Irt805/bTuTXorlGsR96Nci7gXZbpgdMswERERERERkUKiRreIiIiIiIhIIVGjW0RERERERKSQqNEtIiIiIiIiUkjU6BYREREREREpJGp0i4iIiIiIiBQS3TJMROQ6crsntzFD9+MWERERkfzRmW4RO/Lw8LD98/HxoXr16owdO5bMzExHlya36Mo9ua/+l6mvzmJFuRZxP8q1iHtx9kzrTLe4lPNxcRiNiUW2vqCgYEpFRNzUa6pVq8YLL7xAWloaP//8M6+++ipeXl6MGjWqkKoUcW3KtYj7Kcpc30qmQbkWuRnaVxeMGt3iMs7HxfHicyNITUsrsnX6+vjw3oeTbyr0UVFRDBs2DIAhQ4YQHh7OggULnCLwIs5GuRZxP0Wd61vJNCjXIvmlfXXBqdEtLsNoTCQ1LY0RrWpSLiyg0Nd3+pKJySv2YjQm3tIRdAA/Pz98fX1JSkqyc3XiKo4cOcScKe/mmO4dFE6Xvk86oCLnolyLuJ+izLU9Mg3Ktcj1aF9dcGp0i8spFxZA5VJBji4jT6mpqZw6dYq0tDS++uorLl26xEsvveTossRBDBmpdK/qk2P6nEMXHFCN81KuRdyPci3iXpTpW6dGt4idbdy4kejoaNvjO+64g6efftqBFYlIQSnXrsVisXI+Nsb2uEyZshg8PR1YkTgj5VrEvThzpjUEr4id1alTh0WLFrFo0SLGjRvHzp076du3r6PLEpECUK5dy/nkFMzrvod1XxO75DNiYs45uiRxQsq1iHtx5kzrTLeInYWHh9OpUycAOnXqxNq1a1mwYAHx8fGEhoY6tjhxGurr7VqUa9dTKtCXyNDC73sorku5FnEvzpxpNbpFCllSUhIGgwFfX19HlyJORH29XZtyLeJ+lGsR9+JMmVajW8TOzpw5w6efforFYuGvv/5i5cqVPPTQQ/j7+zu6NBG5Rcq1iPtRrkXcizNnWo1ucTmnL5mcej0HDx7kqaeewmAwEBUVxdChQxk7dqydqxNxL8q1iPspilwXZB3KtcjN0b761qnRLS4jKCgYXx8fJq/YW2Tr9PXxISgoON/zW63WQqxGxP0o1yLup6hzfbOZBuU6L38sX8a8OT+QnJRM7Tp1GT7yWcwmM1Mmf8SRw4eIjCrH0OEjqVixkqNLlSKkfXXB2b3RbbFYSDGbCQgMxGq1cuzoEUqXKUNgYImbW05mJgsWzGPViuWUKxfNqJf/j/NxcQp9MVYqIoL3PpyM0ZhYZOsMCgqmVEREka3PWRU015mZmcyaOYM/fv8NgIZ33MngYSNITEhQpos55dpx7LW/FrlWUee6uGW6sLJrNCbyxWdTGDBoCPXqN2Dc22/y808LOXv2NL6+foyfMJG5s2cydcokxox7z05bI65A++qCs2uj+8TxY7z7v7dp0bI1j/ToxZj/vs7ePXvw9fXh3//5P2rVrpPvZX391TT+3LiBgYOGUrNWbQBmfDtdoS/mSkVEuFUAXYE9cr12zSr++H0Z//7P/1EiKIi3R7/GH7//xr59e5RpUa4dwJ77a5HcKNeFozCza7WCwWAgPDyckiXD8fX1xdPTwN49u+k/YBClIiJo2fp+3nz9FVJTU51icCopOsp0wdj1Pt1fT59GZmYmterUZeuWzRzYv4/ejz1OqYjS/PDdt/leTnx8PMuXLeXJIcNo3LQZJYKCANi7Zzf3Nm9hC/2Rw4dITU215yaIyDXskesWLVvzxVczqHF7TUJDQ/Hy8sLT01OZFnEQe+2vRaRoFWZ2g4OD6fVYX8aPG8PAfr3JyMjg4S6PYExMxM/PD4DAwEAAjIm5n/FMT0/HZDLZ/pnNRdMHWMTZ2fVM99Ejh+j2aE9q16nL559OplHjJjzUuSuenp7M/uH7fC/n8KEDWCwWNq5fx/RpU4mOrsjgYcPzDL3vNUdd0tPTSU9Ptz22Z+AzLVbOnzubbVpkVBSenp52W4eIM7FXrgFG/etZTp86Sa3adbj/gfZMnzY1X5mGws21SHFjr1yrK5hI0bLnPvlaFy9c4Mc5sxgwaAhVqlZn0ofvs/iXn3Kd18Mj92UsnD+XeXNmFagOEXdk10a3f0AAJ04cx2hMZMvmv+jR+zEAzpw5jX9A/odqT05OBjyofvvtdHy4C1OnTOK7b7/Odd7cQl+YgT+flIJpww9QNhyAcwlmaD+U8tHRhbI+EUezV64BXnrlNc6eOc3HH7zPqpV/5DqPduQihc9euVZXMJGiZc998rX279+LxWLhgXYdAGjctBk7tm0lKCj48m9zMJvNAAQFh+S6jM5dH6VDp862x2aziaeHDSpQXSLuwK6N7pYt2zD/xzmsXb2KEiVK0KzZ3cz87lv++P03Ol4VwBsJDg7Bx8fHFvq77rmX1StX5Dv0hR34iBK+lA8LtNvyJIuzjzroKI5+X+yR6+PHj5EQH0+9+g0IDy9FrTp12LP7b+3IiwFHf36dkTO8J/bI9ZWuYM/9axR3Nm5qm67+n+7NGT6/zqio3hd7/dbOTVS58qSlpbFh/VqqVKnGrp07qFK1GiEhoaxZtYKaNWuzcsVyqlWrgY+PT67L8Pb2xtvbu0B1SNFTrnNnz/fFro3u7r36EBYezqmTJ2jdpi0Bly8XfbDjQ/S8fCQuP6pXr4G3tzdLf/2FOxrdyeY/N1G58m2kp6fnK/QKvGu58rcymUxOcfN6Z2MyZV1G7ajPtD1yfeLYUb784jNeee1N/Pz9OXhgPx0f6kxaaqp25G7qSpebtLQ05foaaWlpAA7tlmSPXBe0Kxio24gr0b76+opqX22v39q5qVixEk88OZgZ30zHlJxM7Tr16NHrMdJSU5ky+WNefH4kUeXK8dSIZ+yxKeIElOvrs2eu7X7LsPvbtsv2uPdjj9/0MgICA3n+xVFMn/Y5P3z/LbVq16Fv/wGkp6Ur9G7I09OT0NBQYmNjAQgICMAjr2uMixGr1YrJZCI2NpbQ0FCH/kAvaK7vbd6S48ePMX7cGKxWK83uvocH2nWgSZO7lGk35eXlRUBAAHFxcXh7e2Mw2HXcTpdlsViIi4sjICAALy+774JvSkFzXdCuYKBuI65E++rcOWJfbY/f2nl5oF0H25WmV3tt9Ft2W4c4D+U6d4WR6wLv8b/79iva3N+OspGRfPrJxDzn8wCGDh+Z7+XWql2X8RM+zjFdoXdPZcuWBbCFXv4RGhpqe3+Kir1z7eHhQd9+A+jbb0C26aUiIhyS6QUzppFuvJBt2okjh6BqrSKvxV15eHgQGRnJ0aNHOX78uKPLcSoGg4EKFSoU+Q8be+e6oF3BQN1GXI321XkrzH11Yf3WFgHl+nrsmesCN7o3rFtL7Tp1KRsZyeo8BkbK4qEvAsnTlR/opUuXznapYXHn7e3tkDPc7p7rdOMFulfNfhn7+AO6VZm9+fj4UK1aNdvl1JLFx8fHIWf+7Z3rgnYFA3UbcTXaV+eusPfV7r5PFsdSrnNn71wXuNH9wcQpth3m97PnF7ggKd48PT11+zUnoFyLvRgMBlv/XnEse+daXcGKL+2ri5b2yVIUlOvCVeBG97VHqI3GRFLMZiJKlyHFbGbnzu2UKx9NuXLlC7oqESkiyrWI+ymMXKsrmEjh0z5ZxPXZ9fq2Pbv/5rmnh7Hyj+VkpKfz2qsv8eH77/LSv55l08b19lyViBQR5VrE/SjXIq5J2RVxTXZtdH8/42tCQkJp3LQZmzZt4HxcLM88/yK3VanKj3Nn23NVIlJElGsR96Nci7gmZVfENdm10X3q5Enub9eeSpVvY/vWLTRuehfN7rqHu++5j3Nnz9hzVSJSRJRrEfejXIu4JmVXxDXZtdEdGhrK7l07OXL4ENu2bqZ+/QYA7N+3l5CQUHuuSkSKiHIt4n6UaxHXpOyKuCa7Nrof7PgQ27Zu4f9eHkVgYAkaN72Lzz+dzKaN62nTtp09VyUiRUS5FnE/yrWIa1J2RVxTgUcvv1q7BztSNjKKUydPcNc99+Hj40NUufL0G/Ak7R/sZM9ViUgRUa5F3I9yLeKalF0R12TXRjdA/QYNqd+gIYmJiSQZjXR8qLO9VyEiRUy5FnE/yrWIa1J2RVyPXRvdVquVnxb8yM+LFpCclAxAWFgYD3Z6iE4PdbHnqkSkiCjXIu5HuRZxTcquiGuya6N7zqzvWfDjXG67rSq3t6yF1WJl3749fP/tN2RmZNK56yP2XJ2IFAHlOv9MaRmMXxebbdqRJA8HVSOSN+VaxDUpuyKuya6N7hV//E6Tpnfx3L9GZZv+4fvvsmzpr/oiEHFBynX+pRl8Sa7cNts08+lZDqpGJG/KtYhrUnZFXJNdRy83m8xUvq1KjumVbrsNozHRnqsSkSKiXIu4H+VaxDUpuyKuya6N7uo1arDk15/Zvm0rKWYzaamp7Nyxnd9+XUzVajXsuSoRKSLKtYj7Ua5FXJOyK+Ka7Hp5+YBBQ3l79Gu8+7+3s00vWbIkAwcNseeqRKSIKNcFk1s/b1Bfb3Es5VrENSm7Iq7Jro3uyMgo3vtwEuvXrubE8eN4eXsRXaEid1++j6CIuB7lumBy6+cN6ustjqVci7gmZVfENdn9Pt3+/v60advO3osVEQdSrkXcj3It4pqUXRHXY9dG9+HDh/j6y885eeI4qalp2Z7z8IDvZv1oz9WJSBFQrkXcj3It4pqUXRHXZNdG96eTPyY25hwNGjbC39/fnosWEQdRrkXcj3It4pqUXRHXZNdGd2zMOTp3fYRuj/a052JFxIGUaxH3o1yLuKbCzq4lM5MFC+axasVyypWLZtTL/8f5uDimTP6II4cPERlVjqHDR1KxYiX7rdNiITEhgYSEBIKtdlusiFOx6y3D6tZrwKWLl+y5SBFxMOVaxP0o1yKuqbCz+/VX01i25Ff6Pj6A4U8/C8CMb6fj6+vH+AkTqVChIlOnTLLrOhMTEkhYOhnjyumkpaXaddkizsKuZ7oDAwNZ/vtvJCYm4B8QkO05D2Do8JH2XJ2IFAHlWsT9KNcirqkwsxsfH8/yZUt57l+juLNxU9v0vXt203/AIEpFRNCy9f28+forpKam4uvre8vrulaIvzdgvfxPxP3YtdG9ZvVKAP76c2Muz3poJy7igpRrEfejXIu4psLM7uFDB7BYLGxcv47p06YSHV2RwcOGY0xMxM/PD8hq9AMYExPxjYjIsYz09HTS09Ntj81m0y3XI+JO7Nro/n72fHsuTkScgHIt4n6UaxHXVJjZTU5OBjyofvvtdHy4C1OnTOK7b7/OdV4Pj9yXsXD+XObNmVVoNYq4Krs2uvfu2Z3ncwaDgYjSZShZsqQ9VykihUy5FnE/yrWIayrM7AYHh+Dj48MD7ToAcNc997J65QqCgoIvN8jBbDYDEBQckusyOnd9lA6dOtsem80mnh426JbqEXEndm10vzX6/8jqUZK3uvXqM/LZFygRFGTPVYtIIVGuRdyPci3imgozu9Wr18Db25ulv/7CHY3uZPOfm6hc+TbS09NZs2oFNWvWZuWK5VSrVgMfH59cl+Ht7Y23t/dNrVekOLBro7tzl0f4fdlSevR+zBbG1JQUZv/wHY3ubEJwcAhLlyzm+xlfM+Spp+25ahEpJK6c6wUzppFuvJBj+okjh6BqLQdUJOIcXDnXIsVZYWY3IDCQ518cxfRpn/PD999Sq3Yd+vYfQHpaOlMmf8yLz48kqlw5nhrxTGFsmohbs2uje/PmP2nXoSNtH2ifbXpiYgKbNm5g/ISPsVgtrF+3xp6rFZFC5Mq5TjdeoHvVnEfjxx/QLUmkeHPlXIsUZ4Wd3Vq16zJ+wsc5pr82+q1bWp6IZLHrfbrjYmNIuBSfY3pCfAJxsbEAlCgRRGqKfvCKuArlWsT9KNcirknZFXFNdj3TXbdeA5b//hvJpmRq1Lgdg8HA/v37WL92NY2bNMNkMrF2zSpq16lrz9WKSCFSrkXcj3It4pqUXRHXZNdG99DhI/nqy8/ZuH4tG9evBcBg8KR5i1b0e+JJMjIyuO22Kjzas3e+lvfh+++yaeN6Zs5ZwPm4OKZM/ogjhw8RGVWOocNHUrFiJXuWLyK5sFeuFy2cz+KffyI1NYV6DRoybPgzJBmNyrWIA9h7fy0iRUPZFXFNdm10lyhRgqefeZ6Bg4YSG3MOD4OB0qXL4O/vb5tnxDPP52tZm//6k7/+3Gh7POPb6fj6+jF+wkTmzp7J1CmTGDPuPXuWLyK5sEeud+7YzqyZ3/HSK68RGhbG2P++wZLFizh27KhyLeIA9txfi0jRUXZFXJNdG90A5+PiOHz4IKmpWX1Jjh87SmZGBrExMfTs0zdfyzCZTEyf9hntHuzIr78sArLuS9h/wCBKRUTQsvX9vPn6K6SmpuLr62vvTRCRaxQ0115eXvTp24+69eoDEBkVRUJ8gnIt4kD22F+7AovFyvnYGNvjMmXKYvD0dGBFIgVTXLIr4k7s2uj+68+NTPxwAhkZGVdNtXLlfoL5/SKYOeMb6tZrQJ269WyNbmNiIn5+fgAEBgbapvlGROR4fXp6Ounp6bbHZrPpFrZGRMA+ua5Vuw61atcBsn4cHDp4gD59+7N0yS/KtYgD2Gt/Dc7fFex8cgrmdd9D6ZLEGlOg/VAio8o5tCaRW2XP7IpI0bFro3vWzO+oULEiD3Z8iMkff0CvPo9TProCX3z2CR06PZyvZezbu4fNf21i/ISPOXBg33Xn9fDIffrC+XOZN2fWzZYvIrmwR66vuHDhPOPHjaFjp85UrVY913kclesjSR6MXxebY7oxI4+CRFyYvXLtKl3BSgX6Ehka4OgyRArMnvtkESk6dm10x8bE0KtPX+rXbwhAmbJluaPRndz/QDt+/20JnR7ucsNlzJ83B6PRyLNPDyUz0wLAk/37EBQUTHJyMgBmsxmAoOCQXJfRueujdOjU2fbYbDbx9LBBBdm0PGVarJw/d9b2ODIqCk9dtiZuxB65BkhMTGTsW6OpXacuPXo/BuBUuTbjR3LltjmmZx6fa7d1iDgLe+RaXcFEip699skiUrTsep/u0qVLs2P7Vry8vQkICGTThvWkpKRw7uxZ2w/rG3lqxDN88PFkxo3/gP4Ds35Qjxv/ATVr1WbNqhWcj4tj5YrlVKtWAx8fn1yX4e3tTUBAgO2fv3/hHd0+n5SCacMPsOEbzi35jLNnzhTaukQcwR65TjGbeXfsW5QqVYq+/QdgMiVjMpmcNtci7s4eub66K9gVeXUFy0t6ejomk8n2T91GRK7PHtkVkaJn1zPdD3XpxmefTOTokcO0e7Aj8+fNZuOG9QA80P7BfC0jNCzM9v8hIScAiChdhr79BjBl8se8+PxIosqV46kRz9iz9AKJKOFL+bBAR5chUijsketNmzZw+PBBAIYM7AdAqYgI3nhzrNPmWsSdFTTX9ugKBuoOJnKz7LFPFpGiZ9dGd4uWrYmIiKBMmbLUrFWbsmXLcvjwIaIrVKRV6/tvenl3NGrMzDkLgKwf6K+Nfsue5YpIPtgj1y1atqZFy9a5PqdcixS9gubaHl3BoGi7g4m4A3v/1haRomH3W4bVql3X9v/3tWjFfS1a2XsVhSIzM9N2aXjMubNEWK0OrkjEebhqrkUkbwXJ9VMjniE9PQ2Av//exdQpkxg3/gO++/Zr1qxaQc2atW/YZQSyuo14e3vf+kaIFEPaJ4u4ngI3uj+aMJ7OXR+hUuXbeGv0a3nO5+EB//eG857ROnvmDOeWfEbZEH/On75EYIg3lCzh6LJEHMJdci0i/7Bnrl2xK5iIq9I+WcT1FbjRHRNzjpSUrEvIYmPP4YHr3l6nbIg/5cMCiUk0A5mOLkfEYdwp1yKSpbByXZRdwSyZmcTEnAMgNjZGV6VJsaB9sojrK3Cje+w779v+f+Innxd0cSLiBJTrwmdKy8j1vuAXTGl0z+cyFsyYRrrxQrZp3kHhdOn7pB0qFHfjDrmOiTlH7JLPKB3kx8VzCQQGeYEGMhU35w7ZFSnu7H6f7lOnTpKcnERgYCDlypWnTNlIe65CRIqYcl040gy+ud4XPGnn0nwvI914ge5Vs/eXnXPoQh5zi/zDlXNdOsiPyNAAYo1mwOLockSKlCtn92ZZrFaMCQkABIeEYDDY9U7HIkXKLo3u48ePMf3zzzhwYP/lKVa4fOlL1WrVeHLIU1SsWMkeqxKRIqJci7gf5VrENRXH7BpT0klbPY0EH19oNyLbWBIirqbAje7Tp07y39dfwWKx0LJ1G8qVK0+JEiVISkri5MkTbFy/jrfeeJU3x7xDuXLl7VGziBQy5VrE/SjXIq6pOGc32M8bX1/d4UBcX4Eb3bN/+B4/f3/+O+YdwsNL5Xi+2yM9eP3Vl5g3+weeef7Fgq5ORIqAcu04xiQjc6a8m22a+mmLPSjXIq5J2RVxfQXuHLF3z26aN2+V65cAQOkyZWjeshW7d+8q6KpEpIgo147jYcmke1WfbP+uHSxN5FYo1yKuSdkVcX0FbnQnJRkpFRFx3XlKlymLMdFY0FWJSBFRrkXcj3It4pqUXRHXZ5eB1Bb//BPr163N8/n4SxftsRoRKULKtYj7Ua5FXJOyK+La7NLoPnv2DGfPnrnBXB72WJWIFBHlWsT9KNcirqmos/vh+++yaeN6Zs5ZwPm4OKZM/ogjhw8RGVWOocNHut1I6SKFrcCN7u9nz7dHHSLiRJRrEfejXIu4pqLO7ua//uSvPzfaHs/4djq+vn6MnzCRubNnMnXKJMaMe69IaxJxdbrLvIiIiIiIYDKZmD7tM9o92NE2be+e3dzbvAWlIiJo2fp+jhw+RGpqqgOrFHE9anSLiIiIiAgzZ3xD3XoNqFO3nm2aMTERPz8/AAIDA23TcpOeno7JZLL9M5tNhV+0iAuwS59uERERERFxXfv27mHzX5sYP+FjDhzYd915PfLoPr5w/lzmzZlVCNWJuDY1ukVEREREirn58+ZgNBp59umhZGZaAHiyfx+CgoJJTk4GwGw2AxAUHJLrMjp3fZQOnTrbHpvNJp4eNqiQKxdxfmp0i4iIiIgUc0+NeIb09DQA/v57F1OnTGLc+A/47tuvWbNqBTVr1mbliuVUq1YDHx+fXJfh7e2Nt7d3UZYt4hLUp1tERESKBYvFSmxsDGfPnObsmdNYMjMdXZKI0wgNCyOidBkiSpchJCTrTHZE6TL07TeAzEwLLz4/kmNHjzB42HAHVyrienSmW0RERIqF88kpTP0rnpCyIaQnxvJCK4iMKufoskSczh2NGjNzzgIASkVE8NrotxxbkIiLU6NbREREig2voFL4hEU6ugwRESlGdHm5iIiIiIiISCFRo1tERERERESkkOjychEpdo4keTB+XWy2acaMPG46KiIiIiJSAGp0i0ixY8aP5Mpts03LPD7XQdWIiIiIiDvT5eUiIiIiIiIihUSNbhEREREREZFCosvLRUSc3JEjh5gz5d0c008cOQRVazmgIhERERHJLzW67SjTYuX8ubPZpkVGReHp6emgikTEHRgyUule1SfH9PEHUh1QjYiIiIjcDDW67eh8UgrTNl8iJCoUgPSEGJ5rBeWjox1bmIiIiIiIiDiEGt125hkcgW94eUeXISIiIiIiIk7AKRvdixbOZ/HPP5GamkK9Bg0ZNvwZkoxGpkz+iCOHDxEZVY6hw0dSsWIlR5cqIjchISGedWtXs3rlCkaMfI7oChU5HxenbF/FlJaR4x7iR5J0D3ERERERV+V0o5fv3LGdWTO/Y/jI53hzzDvs37uXJYsXMePb6fj6+jF+wkQqVKjI1CmTHF2qiNwEs9nMyKeGsHHdOo4fO2qbrmxnl2bwJbly22z/zPg5uiwRERERuUVO1+j28vKiT99+1K1Xn+joCkRGRZEQn8DePbu5t3kLSkVE0LL1/Rw5fIjUVA0iJOIqfHx8mDhlKiOfeyHbdGVbxHUtWjifpwYPYGC/3nw44V1SUlI4HxfHW6P/jwGP9+KVl/7F8ePHHF2miIiIQzldo7tW7Tp06PQwAMePHeXQwQPcc19zjImJ+Pllne0JDAwEwJiYmOsy0tPTMZlMtn9ms6lIas+0WDGZTCQmJJKYkEhSUhIWS2aRrFvE2Xl6ehISEppjen6z7ahci0judGWaiIhI/jhln26ACxfOM37cGDp26kzVatVznccjj26OC+fPZd6cWYVYXe4umVLJMB4CSzIApotxxMVWp0Ix7p8qcityy7ajci0iubv6yjQg25Vp/QcMsl298ubrr5Camoqvr6+DKxYREXEMp2x0JyYmMvat0dSuU5cevR8DICgomOTkrMas2WzOmhYckuvrO3d9lA6dOtsem80mnh426JbrsVisxCWnUuJSMueTUvAvkffb5u9tINgv63666T553587MzOTs2fO2B7rft5SXOU32/bOtYgUTK3adahVuw7wz5Vpffr2Z+mSX3K9esU3IiLHMtLT00lPT7c9ttcVLBarlfNJqQTGm7iYnHrd/baIiEhhc7q9UIrZzLtj36JUqVL07T8AkykZDw8DNWvVZs2qFdSsWZuVK5ZTrVoNfHx8cl2Gt7c33t7edqvpoimVefG3Ee5ZlphLsQzwOFTgZZ49c4YPVxzDO6SM7uctxVp+s23vXIuIfTjjlWnxpjRmXapKSY/SxFyMZbAd9tsiIiK3yuka3Zs2beDw4YMADBnYD4BSERG88eZYpkz+mBefH0lUuXI8NeKZIq3L4BeMb1A4JJq4aErj1KWsM3M3OvN9Pd4hZXRPbyn2+vYb4NBsi8itc7Yr065m8AvCp0QYhiRzrs9bLRZiY2OyTStTpiwGXXUmIiJ25nSN7hYtW9OiZetcn3tt9FtFXE1O1pQk5mVWZ2NsFIDdznyLFBcRpcswc84C2+NSERFOkW0RuTnOeGXazchIusDUv0yElM06IJCeGMsLrSAyqpxD6hEREffldI1uV+Dhe/msN+BhTMnXa67twx1z7iwWa+5H/kVERJyds16Zdi2r1colUxpnL/fvtvpbbc95BZXCJyzSgdWJiEhxoEZ3Ebm6DzeA6dQZLKFe+JdycGEiIiK3wNmvTLvCmprErMzbWRNblotxJ8gskfvl5iICixbOZ/HPP5GamkK9Bg0ZNvwZkoxGpkz+iCOHDxEZVY6hw0dS0QF35rFYLCQmJAAQHBKCweB0dz4WyZM+rQVktVpsfbzjTWlgzf7c+fNxnDp5kphzZ/EMLo1veHl8w8vjVSLccUWLiIgUIwbfEviUCMPTt8RNv9aSmcnZM6dt/yyZmYVQoYjj7dyxnVkzv2P4yOd4c8w77N+7lyWLFzHj2+n4+voxfsJEKlSoyNQpkxxSX2JCAuNWxjBuZYyt8S3iKnSmu4Cu7uN9NtEba4DF9lym2cisfSUok2bWmW0RuWWmtAzGr4vNMf1IUh5DQotIrqxYSTWnYDQaSTGZ8Az0z3U+S2YmMTHnAIiNjeHbXan4hJZWv29xa15eXvTp24+69eoDWbezTYhPYO+e3fQfMIhSERG0bH0/b77+Cqmpqfj6+hZ9jQHBRb5OEXtQo9sOrvTx9vCJvfpEd9ZzJcLxDS9PWnwMaQ6pTkRcXZrBl+TKbXNMN5+2/62WRNxZakYmGXHHwDONlHNHMVQIyHW+mJhzTFhxAu/g0pjOnMUaEk0J9f0WN1erdh1q1a4DwPFjRzl08AB9+vZn6ZJf8PPzAyAwMBAAY2IivhEROZaRnp5Oenq67bHZbCqCykWcnxrdIiIiUmz4eRkI8vMmxcsz28Hwq28hFhsbg1eJCHzCIklPjNNBcylWLlw4z/hxY+jYqTNVq1XPdR6PPC60Wjh/LvPm6ICwyLXU6BYREZFi7+pbiGWd3fai6C+eFXGsxMRExr41mtp16tKj92MABAUFk5ycDIDZnDUQYVBw7nfg6dz1UTp06mx7bDabeHrYoEKuWsT5qdEtIiIiwj+3ENPZbSmOUsxm3h37FqVKlaJv/wGYTMl4eBioWas2a1atoGbN2qxcsZxq1Wrg4+OT6zK8vb3x9va2a10WqxXj5YHTrFZvPPI6zS7ixNTodkLX3tM7MioKT09PB1YkIiIiIu5s06YNHD58EIAhA/sBUCoigjfeHMuUyR/z4vMjiSpXjqdGPFOkdRlT0vloYwKeljQILIWvn65BEdejRrcTuvqe3ukJMTzXCspHRzu6LBEREadksVo5n5RKYHzWoE3xJp2nFrlZLVq2pkXL1rk+99rot4qsDovVSmJKOqkWD3z8PbFYId0rq6FtyDFk8VWv0328xYmp0V2IrNasS3USExIxm0x4BQXm+7XeIWXwDS9fiNWJiIi4h3hTGrMuVaWkR2kAzib44hGo+2mLuKLk1Aw+P3876RYrg0L/Js3iQaZpF5bMdAyV7rCNpH6tK/fxBvhPSwgNCyvCqkWuT43uQpSaYSHzwgnwtZBy9jAGr0DCHV2UiBRLC2ZMI914Ids076BwuvR90kEVidiXwS8InxJZP7INvjlv4Xmtq+/ZDVz3vt0iUrQMPv54pJr5/FItyEjH4A++npB+g9fpPt7irNToLmS+np4E+/lg9jZoUBYRcZh04wW6V80+8M2cQxfymFvE/V19z27guvftFhHHMHj7g0HjGonrU6PbCVgtmcScO2t7HHPuLBZr7rdiEBEREfu4cs9uIMd9u0VEROxFjW4nkJ54nmmbTYREhQJgOnUGS6gX/qUcW5eIiIiIiIgUjBrdTsIzOMI2cFpafIyOtouIiLghS2YmMTHnbI/LlCmLQbcFFblp145WLuLM1OgWEXFRprQMxq+LzTbt8JlYmPJujnlPHDkEVWsVVWkikoeYmHNMWHEC7+DSpCfG8kIriIwq5+iyRFyG1WohISGBhIQEpmwzAx78p6WjqxK5PjW6XUxmZiZnz5zJNi0yKgpPHSUXKXbSDL4kV26bbVrK6Vk5BkwDGH8gtajKEik2bvWstXdwaXzCIguzNBG3lWk28tHGNDwtaRBYCl8/X0eXJHJDanS7mLNnzvDhimN4h5QBID0hhudaQfnoaAdXJiIiUrzorLWIY3j6B+NpSSHT0YWI5JMa3bmwWKzEJadS4lIyAPGmNPBwTC25jWzuGVza1v9bREREHOfKWWurxUJsbIxtuvpqi9wci9VKYko6SSkZWK1W+y//mj7gBoPB7usQyYsa3bm4aEplXvxthHuWBeBsojfWAItDatHI5iJyM3Lr5w1wJCn/Rw4XzJhGujH7Pby9g8Lp0vfJAtcn4q4yki4w9S8TIWVDdNZb5BYkp2bw+fnbSUtNweBv/9/diQkJjFuZdWDsPy0hNCzM7usQyYsa3Xkw+AXjGxQOgIdPLPY/3pZ/+R3ZXP29RSS3ft4A5tOz8r2MdOOFHP3C5xy6kMfcIo5hsVo5n5RKYLwp64q0ArJiJdWcgtFoJMVkwjPQ/6aX4RVUSn21RQrA4OOPoRB/dHsFBBfewkWuQ41uN6L+3iIiUlzEm9KYdakqJT1KczbBF4/AgvXuTM3IJCPuGHimkXLuKIYKAfYpVEREij01uouI1QopZjOJCYkAmE0mvIIC7b4e75AytrPi1/YH11lvERFxJwa/IHxKhGHwtc8VaX5eBoL8vEnx8sz1qrJr+23HxsZgtejMmYgzutKH22KxgAcYE41Yrd6AlQT17ZYipkZ3EUnNsJB54QT4ZvVRSTl7GINXIOGFuM6r+4PrrLcUR1uOxnIsJufts4wZDhoZ0YEKek/vI0cOMSeXeY+dOk2l8tn7rar/t7irq/ttA5jOnMUa4oVuWCRS+KxAemoaaZlWDP7/pO7Kfbuz/v+fRvWV+3hnmpPINPjYbjHmaUnho41p+PimqG+3FBk1uouQr6cnwX5ZDQCztyHPvtn2dHV/8LyoL7i4q6RML/xy6d+ceXyuA6pxrILe09uQkZrHvPF0r1o52zT1/xZ3dnW/7fTEuALtyzXiuUj+pWVayTy7l1QyMVS6A6/LrZhr79t9pVFte+wPGPyy3WLM0z8YL93fW4qQGt2ivuAiIiIOoBHPRW6Oj6cBHzIxX3PG+9r7dufnPt5XzpBfufzc4GHQ5eZSaNTodnFX99uOOXcWizXkhvNdcfXZ7Kv7gouIiBRnBR3J/GbOYGvEc5Gbk9cZ75v1zxnyODINPvj4+upycyk0anS7uKv7bV/vHt7X3u9bZ7NFxB739D6S5JFjGRdMaXQvcHUijlPQkcx1BlukcPl4GvAlk/QCLufKGXEMfrrcXAqVGt1u4Eq/7evdw/vq+W6G+nuLuC973NPbjF+OZSTtXFrg2kQc7UYjmd9IQc5gWzIziYk5989jiwWsYPDMuuxVfb9F7C+/l5tfGRUdNPq55J8a3XJd6u8tIiJStGJizjFhxQm8g0sDYDqzj3SDPyFlK+rMuUghyety8+CQkGyN7MSEBMatzOo+osvRJb/U6HYCVqyYTCa8C/ke3tnWmc++4KD+3iIiUnxd3b/bnJxMuid4GY0At9TfO7+8g0tnGyXd6hmQ48z51WfErz0bDjojLnKzcrvc/NpGNoBXQLCDKhRX5XKN7g3r1vLD99+SnJzEnU2a8eTgYXh7ezu6rAIxm8ykxJ0jxJIMFP09vK/XF1ykKLhjroszY5Ix13t6bzttJKxC9WzTSpXwZUCfHvla7iv/9xqJ5pw9+IL9vRn79lvZpi2YMY10Y85blxXlPcSdoQZHcadMX92/23jqEJleAQRnZB0kv5X+3vZ09Rnxq8+GAzojLnbnTrnOj6vv/+3pH4SHR+7jnehyc8kPl2p0G42JfPrJxwwYNJSqVasz5q3XWbF8GQ+07+Do0m6a1QopZjOJCYmkpJjx8zbY7uFt8jJgvPzctWe9rz0rbko2ke7lgXcu895IfvuCZ6v7mlHQr+7ffW3/7+LU99tefd+L43voTrmWLB6WzFzv6b3qUDo+tR7JPnHPvHwvN9GcTql67XJMP59LH/J044VcayjKe4g7Qw2O4I6ZvtK/O97LgPXy/wP56u997UjmsbExWC05z5JdPV9e8+Q2n1eJCHzCIvM8Gw45+4i76xnwa7cTCmdbi2o9zsQZc20F0q+5dRiA1WolJS0V78y0bNNv1rX3//a9ZqC1K43yhIQEpmwzY7VaGX5HAkFBQbn2Cb9R4/zK87qFWdG59m8CFNoBFJdqdB8+dBCrFVq0bI2HhwcNGzZi757dLrkjT82wkHnhBPhaSI07ibdfUK7PXXvW+9qz4omnDmDxDiDEmlzkZ8iv7d99df/v4tb3215934vje+hOuRYRZfpaV49kDmA6cxZriBfXNgWuni+veW5mvqtdfUbcnc+AX9sXvrC2tajW40ycMdd53TosPS2d9DMHsWSmFeiWYnD9+31f2yj3tKTw0caEPG9BdqO+4FeezzQbdQuzIpJb14HC6q/vUo3uxMREfP18bZd3BAQGEhMTk2O+9PR00tP/uQTRZMpqoJrNpjyXnZJiZu/xC5y4mMSRWCPJlvPEXb6KJMV4Aau3ibhzhmz/X9Dn8PYnNd4bqzme1IzUXJ+zmONJjT1GnHfW0VNT3EmsyUZS47OKs5rjISM113nTzx0l3dMfS3pqtv+/0XMW43m2kcGJ48e4cOE88Se8MFy6kO11HpcuYDHGs23rZk4cPwbAhQvnSU7wwmDxyvGcu7t624Fb3v5r38OUFDMmU96f2yufaavVesu1O1ph5tpiySTz8uc6G6sl5/TcphX1vE5Sm9VqwZSWkW1apsWaY9qVea9dRm6vh8t/j9Tsf6/MjPTrfsZzvD6Xei2WzBzLSM/IwJSW8wh1ekZGvtdXULdSQ3HKNNx8rlNSzBw4dZGTF5M4EpdEcuYFLgApSZewGMxciMna/139OD//f6uvSU68SIbncS54GUiLubIvTcn1/w3xWfvRNGMi6aYj153v6nmAfM139TwAmUkX2Oll4eTJE1y6eJHkRAOeFk8yk+LZueMiJ0+eKMif2SldvZ1AoW1rbutJSYlQrrm1fbXZbOZMrJHYRDPm1Eukp6WCpw9kpuXrv5nWDNIungWDhUyDL5bUJDLNiZCZlm26pyW1QP9N9/Hm8KGs7U+KtZKZkvTP8+bUHPNb0lM4fCiREkFZV60kGRNJScr6DFw9/Yorz19Z7rWvF/u79m8C2B6bzcH4+OZ9SPNmc+1hdaFvgNWrVvDt11/y+ZffAjDjm+kcO3qE/3sje1++ubNnMm9O/m95I+LqJn36BeHhrtkpX7kWyak4ZBqUayleikOulWkpbvKba5c60x0UFESK2YzFYsFgMGA2mQgOCc0xX+euj9KhU2fbY4vFQnJSEp5enox8ajCTPv0Cf3/HDXxSVMxmE08PG6TtdVNXtnf8BxMJCyvp6HJuWUFzXSIo78FNCpOzfd6crR5QTbdSj9VqJSXFXCwyDa65v3a2z9DVVNutKezailOu87uvdubPQ2HSdrvPdt9srl2q0V2lanUMBgPLly2lVp26bN++la6P5Bz11tvbO8doiiVKlLBd9uPvH0BAgHv8wfND2+veSpYMd+lBNgqaa0dzts+bs9UDqik/rq4nMLBwbxlZ2PKbaXDt/bVquzXFtbbikuub3Vc78+ehMGm73cPN5NqlGt3BwcEMG/4MM7/7hlkzZ9C4STNatGzt6LJEpACUaxH3okyLuB/lWqRgXKrRDXDXPfdy1z33OroMEbEj5VrEvSjTIu5HuRa5da57Teot8Pb25pHuPXNc9uKutL3urbhtr7Nxtvff2eoB1ZQfzlaPs3Dm90W13RrVJlcrru+5trt4bffVXGr0chERERERERFXUqzOdIuIiIiIiIgUJTW6RURERERERAqJyw2kdqs2rFvLD99/S3JyEnc2acaTg4e5fb+ChIR41q1dzeqVKxgx8jmiK1R0dEmFZtHC+Sz++SdSU1Oo16Ahw4Y/g5+fn6PLKhSZmZnMmjmDP37/DYCGd9zJ4GEj8PHxcXBlxYczZsuZMuDsn9EP33+XTRvXM3POAkeXwv/eHs3OHdttjzs+1Jm+/QY4riAn4Oz7a2f7m+X2fXQ+Lo4pkz/iyOFDREaVY+jwkVSsWMkpalu3djWTPppgm6dEUBCff/ltkdaV2/dlktHoFO9ZceHsOS+Im/l8Wa1WZn73DatW/IGnpyedHu5Ch04PO3oTCuTqfWxe30XuuN03UizOdBuNiXz6ycd0fbQHo98ax47tW1mxfJmjyypUZrOZkU8NYeO6dRw/dtTR5RSqnTu2M2vmdwwf+RxvjnmH/Xv3smTxIkeXVWjWrlnFH78v49//+T/eHPMOf+/aaWvcSOFzxmw5Wwac+TO6+a8/+evPjY4uw+bSpUsMGDSEL76awRdfzaBHr8ccXZJDucL+2pn+Znl9H834djq+vn6MnzCRChUqMnXKJKepLf7SJWrUqGl7/z6a9FmR1pXX96UzvGfFhSvk/Fbd7Odr+7Yt/P7bEka98hqDhg5nxjfTOXH8mGM3ogCu3ccWl+3Oj2LR6D586CBWK7Ro2Zry0dE0bNiIvXt2O7qsQuXj48PEKVMZ+dwLji6l0Hl5edGnbz/q1qtPdHQFIqOiSIhPcHRZhaZFy9Z88dUMatxek9DQULy8vPD09HR0WcWGM2bL2TLgrJ9Rk8nE9Gmf0e7Bjo4uxSb+0iVKly5DYGAJAgNLOM3VAI7iCvtrZ/qb5fV9tHfPbu5t3oJSERG0bH0/Rw4fIjU11Slqi790ibCSJW3vX0BAQJHWldf3pTO8Z8WFK+T8Vt3s52vvnt1Uq347VapU5Y5Gd1K6dBn279vr6M24JbntY4vDdudXsWh0JyYm4uvni4eHBwABgYEkJiY6uKrC5enpSUhIqKPLKBK1atexXZJy/NhRDh08wD33NXdwVYVv1L+eZcjAfpSNjOT+B9o7upxiwxmz5awZcLbP6MwZ31C3XgPq1K3n6FIAyEhPJynJyHfffs3wIQP54L13MBrde990I86+v3a2v1le30fGxERb95LAwEDbtKKUV22XLl3k4IH9jBj6JP/59/Ps2rmjSOvK6/vSGd6z4sLZc14QN/v5SrxqOrj2e5HbPrY4bHd+FYtGd24u51zcyIUL5xk/bgwdO3WmarXqji6n0L30ymu8/H9vcPzYMVat/MPR5YgTcLYMONNndN/ePWz+axN9H3/CoXVk4+HBE08O5vH+A3nh3//hxInjzJ39g6OrcjpOtb924b+Zs7yPre9vS7fuPXn5/0ZTrVoNPv7gPTLS04u8jvx8XzrLe1YcuNt7XZDPlyu+Fzezj3Wn7b4ZxWIgtaCgIFLMZiwWCwaDAbPJRLCTnamSgklMTGTsW6OpXacuPXq7d5/I48ePkRAfT736DQgPL0WtOnXYs/tvWrZq4+jSxIGcKQPO+BmdP28ORqORZ58eSmamBYAn+/dh2tffO6wmi8XCnXc2pWR4OAB3Nm7CoYMHHVaPM3D2/bWr/M2CgoJJTk4GsvpWAwQFhziyJJvIqHJUrVodH19f2j3Ykd+XLeHixYuULlOmyGrI7fvSmd8zd+PsOS+om/l8BQUFceF8nO21ZrPZJd+LvPax7r7dN6NYnOmuUrU6BoOB5cuWcvr0KbZv30qt2nUcXZbYSYrZzLtj36JUqVL07T8AkykZk8nk6LIKzYljR/ngvXEcPLCfkydPcPDAfipVruzossSBnC0DzvgZfWrEM3zw8WTGjf+A/gMHATBu/AcOrSnm3FlGDHuSDevWEhNzjp07tlOhouNHwnckZ99fu8rfrGat2qxZtYLzcXGsXLGcatVqOM14Ae+9M5bJEz/k4sWLrFu7mhIlgihZsmSRrT+v70tnfs/cjbPnvCBu9vNVs1YdDuzfx8ED+9mxfRsx585Rs2YtR2/GTctrH+vu230zisWZ7uDgYIYNf4aZ333DrJkzaNykGS1atnZ0WWInmzZt4PDhrDMNQwb2A6BURAQTP/nckWUVmnubt+T48WOMHzcGq9VKs7vv4YF2HRxdljiQs2XAGT+joWFhtv8PCTkBQETpojuzlpvoChXpP3AQM76Zjtlsom69+nTv2cehNTmas++vXeVv1rffAKZM/pgXnx9JVLlyPDXiGUeXZDNk2AimTf2U50cOo3SZsjz7wr/xKsJbReX1ffnGm2Od9j1zN86e84K42c9Xwzsa0f7BTowfNwZPL0/6PTGQcuWjHVb/rcprH5vXd5G7bPfN8LBarVZHFyEiIiIiIiLijorF5eUiIiIiIiIijqBGt4iIiIiIiEghUaNbREREREREpJCo0S0iIiIiIiJSSNToFhERERERESkkanSLiIiIiIiIFBI1ukVEREREREQKiRrdcl17du+id/curFqxHIAP3hvHq/950cFViYiIFD+vjHqBD99/19FliIjITVKjW25K566P0rffAEeXIVIsTZn0Eb27d3Ga5YhI0erbfyCduz5SKMtetWI5vbt3Yc/uXYWyfBGR4szL0QVI0bJkZmLw9Lzl199WpaodqxERV2OxWPDw8MDDw8PRpYgUG1f23bVq13F0Kbkq6G8LEcnJarVitVoxGHSO1B14WK1Wq6OLkMITFxvDMyOG0rTZ3Zw4foywkiXp/Vg/ZnwznSOHDxMUFESr+9vyaPdeQNYP6m+//pJVK5ZTokQQDe5oxLKlvzJs+EhatGrDf994lbi4WCZ+8jmrVizn008m8trot6hVuy4AI4cPJiKiNK+/OQar1crcWTNZuWI5JlMyt1WpSr8Bg6hYsdJ1azYaE/n6yy/YsX0beECDBnfQb8CTBAUFA7Bv726+/Xo6p0+dpGxkFL0f60f9Bg0L9X0UcbSRwwdzPi7O9vi10W9hMBhyzcLSX3/hqy8/Z9iIZ2jRsjXLly3li6lTGDBoCIsWzs+xnFUr/mD1qhXMnLMA+Od745HuPXm0R2/++8arXLhwngoVKrFj+1be/3ASEaXLsHzZUn5a8CNGo5Fq1asz4MmhlI2MvO52xMXG8NWXn7N3zx58fX1p0uwuHnv8CXx8fAD4a9NGZv3wHefj4qhYqRL9Bgyiig72iYu6kqVWbdpy7MhhTp8+RfUatzN85HOEhZXk5InjfPXl5xw+dJDwUhF06fYo9zVvCUDv7l2oV78BiYmJmEzJfDTps2z72Cv74F59HmfN6pXExcZQt14Duvfqw1fTpnL40CGioqIYOuIZKle+DYALF87z5eefsfvvXYSEhtC23YN07NSZTyd/zOpVK2x1X8l+XvN7eHgwcvhgQkJC8fHx4cD+fcz4Yd5134ulv/7C4l9+IiE+nvLlK9Dn8X623w7JyUl8/eUXbP7rT/wD/Ln33hZ079UHLy+dGxL3dOjggVx/i0+Z9BGbNm7g7nvuZf26tYx6+VVq1a573X3jtq2bmf3D95w+dZKwsJI81KUb97dtd8MaNqxfy7w5s4iLjaF0mbI82qMXTZvdDUB6ejrfz/iatWtWYTAYaHRnE/r1H4ifv3+hvi/uTIdOionNf/1Jw0Z38kD7Dox9azTGxES6de9BjdtrMm/2D6xbuxqA5b//xpLFP3N7zdq0atOWrZv/uuV1Lv/9N36cN5uatevQ9dEenD51infHvkVmZuZ1Xzd92uds3LCe+x9oT+vWbVm/bg1ffv4ZAGfPnGbsW2/i7eVNj16PERwczHvvjCEuNuaW6xRxBT1796VatRoADBw8DA8PQ55ZuP+B9pQrV565s2aSlJTEvDmzKFc+mjb3t8uxnLKR5fK1/tiYGFJTU+jZuy+BJYJYvWoFX0ydQo3ba9Ktew9iY2N5750xWG6Q74kfTmDvnj081LkrdzZuym9LFjN39kwgawyJD95/h9Kly9CjVx8yMzJ5Z8x/MZlMBXjnRBxv3ZpV1G9wBy1b3c/uv3cx/YupGI2JvP3m6yQmJtK9Zx8qVKjIJxM/5MD+fbbX7dyxndtuq0LXR3rkuew/fv+Ne5u3oG69BmzZ/CevvvQilSrfxsNdunLmzGm+nvY5kPUjeuxbozl+7CjduvegXr2GfPfNV6xfu5rmLVtzX4tWAHTo+DANGzW+7vxXHD50kOCQEPr07X/d7d+xfRtfffk5UVHl6N6zD8nJSbz3zlgSExIAmDD+HbZu2Uynhztzz73N+eXnhfz80/xbfr9FnFlyctJ1f4unpqZw4sRxHu3RizJlyl5333j27Bnef/d/GAwGHu3ZmzJlyzJt6pRs3yO5OXXyJJM+mkCAfwA9e/fFx8eHjz94j5MnjgMw7fNPWb7sN1q3eYC27R5k4/q1fPv1l4X+3rgzHUIsJtq178Dj/QeSYjbz4ksvU6ZsJIEBgSQmJrJh/Vr279vLPfc2Z8Xvv1GqVAQvvvQKBoOBipUqMX7cmFta55Xg9us/kOCQEG67rQq7//4bs9lMiRIl8nzdqRPHiYyKomfvxwAoExmJKTkZgCWLf8FqtTB42HD8/P2pV78h/35hJOvXrS20fm4izuDe+1qwa8d2Dh7cT9sH2jP9i6nXzULf/gN4Z+xb/PeNV7l06SJDnnoaT0/PHMvJr+CQEEa9/JrtzNOihfOpVPk2evbpC0BgQCBTP53M4cOHqFa9Rp7LOXnyOLfXrE3XR7oDUKZsWQICAwH4+aeFhISEMmDQEAwGA+XKRzNuzJts37aFu++571bfOhGHa/9gJ1tWkk3JrF+7hqrVq5OYmMCzL7xImbKRNLvrbnbu2MbqVSuoXuN2ABo3acbgYSOuu+wBg4bSoOEdmM1mBvbrTe06deg/YBCQtR/esX0bAFs3/8WZ06cYPvI522Xqe/fuZvWqlbz8f29wPi6WNatW0KhxY6pUqcqmDevznP+e+1oAUKnybTz3wqgbbv/Jk1m/Bx7t0ZsqVatRq3Yd/ty0EXOKmbjzcezZvYueffrazvIfP3aUNatW0qVb95t5m0VcgqfBM8/f4le88tqbBAQEADDt88/y3DfWqVufV14bTfnoinh5elKtWg127dzB/n17bd8juTl9+iQWi4UODz1Ms7vuoVHjJqz8YzkZGRkkJMSzeuUK7n+gHQ+0fxCAi+fPs2b1KgYNHa7uZbdIje5iwj8g63IQP39/jIlGPpsyidiYf84Op6akAHDu3Fnq1qtv6z/i5+d3y+tsff8DrF+7hn//6xka3dmEOxrdSfcevW7Y76vjQ535/LNPePG5p7njzsY0aXoXVatVB7J2xBkZGbz4/Mhsr4mLi73lOkVc0Y2y0KBhI+rVb8jOHduoV78hDRreUaD1+fj42BrcGRkZnD51EqvVytPDBuVY//Ua3Q917sqcWTN59T8v0vCORjS7617KR0fbtik+/hLPDB+SfZmxyre4Nm8fb9v/V69eg3VrVrF3924A3hr9WrZ5r/68++fjUk6fy8u+Mm9oaJjtOT8/f1JTUwE4duwoAJ9M/DDb660WS67Lzc/8+akP4O6772Ppr78w9q03aNioMQ0b3kG3R3vg7e3N7r+XATDr+xnM+n6G7TXe3t55LU7Epd3otzhga3DD9feNwcHBnDp1kokfTiA+/tI/y0pN4Xrq129IxUqVmTLpIzasW0O9BnfwcJdu+Pv7s2vnDqxWC8uW/sqypb9me11CfDyhYWF5LFWuR43uYiYm5hwTP5pA+ehoho14hqCgoGxnsj08PPCw04ANFStW4oOJU9i0YR07d2znw/fHU71GDf7v9f9et+HdolUbatxei00b17N92xYWLZxP10e606PXY+CRtZN/+tkXsr0mPLyUXWoWcRk3yILVaiU5OQkAkykZq9Vqv6PTl5dVrXqNHFeYVKxU+bov7fZoTxrd2YQ/N21ky+a/+HHuHJ4cPJQ2bduBB5QtG8njTwzM9prIyCj71C3iBCyXG60GQ1Yen3thVLZGeYkSQYWy3ivxH/DkEEpFRNim+/j42mX+6ykZHs57H0ziz00b2Ll9G59/NoX5P87lv2Pe4cq3UrdHe1KlqsZvEPd3o9/iOVxn37hv726mfzGVWrXr0rf/ANLS0pg6ZdINa/Dz9+ft/41n65a/2LFtKz98/y3zZv+QlcnLoWzTth13NLoz2+uuPhggN0eN7mLm2NEjZGZm0L1nbxrd2YSUlOxHwspGRnH08GHbD3STyZznsq4MppB8+dLvjIwM0tLSbM/PnPENAL379qNN23b8tPBHZs74hqPHjuY5MJLZbGba559St159Ond9hM5dH+Gdsf9l8c+L6NHrMcpHV2D/vr2ULBlOpcsDwxw/dvSGP/RF3MGVRrPFYrlhFtauWcXhQwdp0PAOtm/byrq1q7n38iWhVy/HYDBcleUkAgNL3LAPtZe3N2XLRhIbG0PtOvXw9c36EX7s6JHrHgCLjYlh9qzvuefe++jeszeP9ujFv194hiW//kKbtu0oX74C+/bupvJtVQgLK2lbZmRU/vqdizirq/eNhw4dxMPDQLXqNdi6ZTMGTwN3NGoMwMmTJ4gqpM97+egKAGRkZtjWFxNzjuDgkKwZbN8L1vzNfxN+XrSAM6dPM3jocO5r3pIN69fy8QfvsWvHdtt6TKZk23oSExLIuMH4ECKu6ka/xa91vX3jli1ZYy/1H/AkFSpW4uTJE/mqYdXKP9i1cwdPDh5Gk6Z30apNW157ZRQbN6zjnvua4+HhQUL8JVsm01JTuXDhPD6+N3/QTbKo0V3MlC8fjYeHgYXz53Hm9Gk2rF8LYBvcrFWbtkybOoX33hlLlWrVWP7b0jyXVblyFQwGA7NmfsfJE8fZtXMHiQkJlCtXHshqhC/+5SeSk5OIKlee1StX4OvrS5nSZfJcpr+/P2dOnWTLX5uIjYnBy8uLA/v3EV0ha6fcsdPDrFqxnPHjxtC2/YMkJiSwbOmvPP/iS7YvBhF3FRISCsC3X3953SzUrlOPH77/lnLlo/nXqFd4ZdQLzPzuGxo3aYavr2+25TzQ7kGqVK0GwOSPP6Ry5dtYu3bVDWt5uOsjfDr5Y8a8+TpN77qbA/v3sm3rViZN+ZzgkNx/lIeGhbHn7138vXMH7Tt2IjUllXNnz9KkaTMAOnftxs4d23j7zddp2aoNZ06fYtXKFYwbP4EKN7jrgYgzW7L4FwwGAykpKaxfu5o7GzelTdt2/PLzT3w6+WOOHztKZkYmS5f8Qs/efWn3YEe719CkSTMiI6P44btvuXThIv6BASxb8iv33Necvv0G2L4Xfv1lEVar9Ybz3wwvTy9WLF+GyZRMjRo12bB+LR4eBqLKlyc6ugK1atdh6a+LSU9Pp3SZMqz4fRkVKlbi+Rdfsvv7IOJo1/st7pnLlaDX3TdWqAjAzO++pUbNmqxe8UfWsjKuf9AqMLAE69asIiE+njsa3cmunTuyaouuQFhYSZq3aMWqlX/w8Yfvc1uVKqxfsxo8PBj7zvv2fCuKFY1eXsyUKx/N4KFPceHCeRYtnE/duvUpFRFh61PSuk1b2nfoxN49f7Ny+e+0ur9tnssqXaYM/QcMwpSczJLFv1A+ugLRl49YA/R67HE6dHqYzX/9yayZM/Dz8+PFl16lRFAQFy6cz/Vfeno6/3rpFerVb8Cvv/zEzz/N5/aatRn57L8AiIwqx6iXXyMkNJR5s39g08b1dHu0Jw0aNircN07ECbRu+wDloyuwasVyLl26mGcWFv00n4sXLtCz92N4eXnRs09fLl64wKLLowFfu5x77m1OqzZtObB/L6tXr8i61PsGWrRsTf8Bg4iPv8QP33/L2TNnGPnsC5QoUSLPfHt5evLKa28SXaEiC+bNYfmypTS7+x4GDMrqp1ardl1GPvcvPIBZM79j3949DBw8VA1ucXkN72jE37t2smL5MmrXqcuAQUMICgrmlf8bTYWKlflpwY/88ccyWrVuS6s2ee93C8LL25uXXn2duvXqs+y3X1m8aCH1GzS0DVZWt159GjRsxO6/d3L40IEbzn+tpKSkXHOflJREuwc70rP3Yxw+eJCZ331DitnMyOdesP1mePb5f2fdImntGubPnU356Ar0u+ZSWhF3caPf4te63r6xXv2GdO/VhyNHDvHbr4tp2eZ+vL29iYmNwWQy5ZrJxIQE7mzchEFDh3P+fBzfz/ias2dO88TAwbbxXwYMGkrbdg+ya+d25vzwPQGBgTz19LNF+C65H92nWxyid/cuuU6/+p7fIuJ6rtyXODcfT/6MiOtc6SLibq695707mzLpo2z3+r6ieYtW+rEu4gBzZ89k3pxZOabXrFWb19+8tTsTya3T5eXiEP/+z6u5To++fJmMiLimkJDQPPN95fJVEXE/HTo9TNO77s4xXQOdijjGPfc257ZcxlAqrMEa5frU6BaHUP9rEffk4+urfIsUQxUrVdagpiJOJDKqnAYidSK6vFxERERERESkkGggNREREREREZFCoka3iIiIiIiISCFRo1tERERERESkkKjRLSIiIiIiIlJI1OgWERERERERKSRqdIuIiIiIiIgUEjW6RURERERERAqJGt0iIiIiIiIihUSNbhEREREREZFC8v/l9xMXKCudVwAAAABJRU5ErkJggg==\n",
=======
      "image/png": "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",
>>>>>>> 104d26f96e50e44d222b2e3f2483806b63dac7c4
      "text/plain": [
       "<Figure size 1000x1000 with 16 Axes>"
      ]
     },
     "metadata": {},
     "output_type": "display_data"
    }
   ],
   "source": [
    "plt.figure(figsize=(10,10),facecolor='white')\n",
    "plotnumber=1\n",
    "\n",
    "for column in data:\n",
    "    if plotnumber<=16:\n",
    "        ax=plt.subplot(4,4,plotnumber)\n",
    "        sns.histplot(x=data[column],hue=data['diagnosis'])\n",
    "        plt.xlabel(column,fontsize=10)\n",
    "        plt.ylabel('Diagnosis',fontsize=10)\n",
    "    plotnumber+=1\n",
    "plt.tight_layout()"
   ]
  },
  {
   "cell_type": "markdown",
   "metadata": {},
   "source": [
    "### Data Preprocessing"
   ]
  },
  {
   "cell_type": "code",
<<<<<<< HEAD
   "execution_count": 10,
=======
   "execution_count": 95,
>>>>>>> 104d26f96e50e44d222b2e3f2483806b63dac7c4
   "metadata": {},
   "outputs": [
    {
     "data": {
      "text/plain": [
       "id                           0\n",
       "diagnosis                    0\n",
       "radius_mean                  0\n",
       "texture_mean                 0\n",
       "perimeter_mean               0\n",
       "area_mean                    0\n",
       "smoothness_mean              0\n",
       "compactness_mean             0\n",
       "concavity_mean               0\n",
       "concave points_mean          0\n",
       "symmetry_mean                0\n",
       "fractal_dimension_mean       0\n",
       "radius_se                    0\n",
       "texture_se                   0\n",
       "perimeter_se                 0\n",
       "area_se                      0\n",
       "smoothness_se                0\n",
       "compactness_se               0\n",
       "concavity_se                 0\n",
       "concave points_se            0\n",
       "symmetry_se                  0\n",
       "fractal_dimension_se         0\n",
       "radius_worst                 0\n",
       "texture_worst                0\n",
       "perimeter_worst              0\n",
       "area_worst                   0\n",
       "smoothness_worst             0\n",
       "compactness_worst            0\n",
       "concavity_worst              0\n",
       "concave points_worst         0\n",
       "symmetry_worst               0\n",
       "fractal_dimension_worst      0\n",
       "Unnamed: 32                569\n",
       "dtype: int64"
      ]
     },
<<<<<<< HEAD
     "execution_count": 10,
=======
     "execution_count": 95,
>>>>>>> 104d26f96e50e44d222b2e3f2483806b63dac7c4
     "metadata": {},
     "output_type": "execute_result"
    }
   ],
   "source": [
    "data.isnull().sum()"
   ]
  },
  {
   "cell_type": "code",
<<<<<<< HEAD
   "execution_count": 11,
=======
   "execution_count": 96,
>>>>>>> 104d26f96e50e44d222b2e3f2483806b63dac7c4
   "metadata": {},
   "outputs": [
    {
     "data": {
      "text/plain": [
       "0"
      ]
     },
<<<<<<< HEAD
     "execution_count": 11,
=======
     "execution_count": 96,
>>>>>>> 104d26f96e50e44d222b2e3f2483806b63dac7c4
     "metadata": {},
     "output_type": "execute_result"
    }
   ],
   "source": [
    "data.duplicated().sum()"
   ]
  },
  {
   "cell_type": "code",
<<<<<<< HEAD
   "execution_count": 12,
=======
   "execution_count": 97,
>>>>>>> 104d26f96e50e44d222b2e3f2483806b63dac7c4
   "metadata": {},
   "outputs": [
    {
     "data": {
      "text/plain": [
       "array(['M', 'B'], dtype=object)"
      ]
     },
<<<<<<< HEAD
     "execution_count": 12,
=======
     "execution_count": 97,
>>>>>>> 104d26f96e50e44d222b2e3f2483806b63dac7c4
     "metadata": {},
     "output_type": "execute_result"
    }
   ],
   "source": [
    "data['diagnosis'].unique()"
   ]
  },
  {
   "cell_type": "code",
<<<<<<< HEAD
   "execution_count": 13,
=======
   "execution_count": 98,
>>>>>>> 104d26f96e50e44d222b2e3f2483806b63dac7c4
   "metadata": {},
   "outputs": [],
   "source": [
    "from sklearn.preprocessing import LabelEncoder\n",
    "\n",
    "encoder = LabelEncoder()\n",
    "Diagnosis = encoder.fit_transform(data['diagnosis'])\n",
    "\n",
    "data['diagnosis'] = pd.DataFrame(Diagnosis)"
   ]
  },
  {
   "cell_type": "code",
<<<<<<< HEAD
   "execution_count": 14,
=======
   "execution_count": 99,
>>>>>>> 104d26f96e50e44d222b2e3f2483806b63dac7c4
   "metadata": {},
   "outputs": [
    {
     "data": {
      "text/html": [
       "<div>\n",
       "<style scoped>\n",
       "    .dataframe tbody tr th:only-of-type {\n",
       "        vertical-align: middle;\n",
       "    }\n",
       "\n",
       "    .dataframe tbody tr th {\n",
       "        vertical-align: top;\n",
       "    }\n",
       "\n",
       "    .dataframe thead th {\n",
       "        text-align: right;\n",
       "    }\n",
       "</style>\n",
       "<table border=\"1\" class=\"dataframe\">\n",
       "  <thead>\n",
       "    <tr style=\"text-align: right;\">\n",
       "      <th></th>\n",
       "      <th>id</th>\n",
       "      <th>diagnosis</th>\n",
       "      <th>radius_mean</th>\n",
       "      <th>texture_mean</th>\n",
       "      <th>perimeter_mean</th>\n",
       "      <th>area_mean</th>\n",
       "      <th>smoothness_mean</th>\n",
       "      <th>compactness_mean</th>\n",
       "      <th>concavity_mean</th>\n",
       "      <th>concave points_mean</th>\n",
       "      <th>...</th>\n",
       "      <th>texture_worst</th>\n",
       "      <th>perimeter_worst</th>\n",
       "      <th>area_worst</th>\n",
       "      <th>smoothness_worst</th>\n",
       "      <th>compactness_worst</th>\n",
       "      <th>concavity_worst</th>\n",
       "      <th>concave points_worst</th>\n",
       "      <th>symmetry_worst</th>\n",
       "      <th>fractal_dimension_worst</th>\n",
       "      <th>Unnamed: 32</th>\n",
       "    </tr>\n",
       "  </thead>\n",
       "  <tbody>\n",
       "    <tr>\n",
       "      <th>0</th>\n",
       "      <td>842302</td>\n",
       "      <td>1</td>\n",
       "      <td>17.99</td>\n",
       "      <td>10.38</td>\n",
       "      <td>122.80</td>\n",
       "      <td>1001.0</td>\n",
       "      <td>0.11840</td>\n",
       "      <td>0.27760</td>\n",
       "      <td>0.30010</td>\n",
       "      <td>0.14710</td>\n",
       "      <td>...</td>\n",
       "      <td>17.33</td>\n",
       "      <td>184.60</td>\n",
       "      <td>2019.0</td>\n",
       "      <td>0.16220</td>\n",
       "      <td>0.66560</td>\n",
       "      <td>0.7119</td>\n",
       "      <td>0.2654</td>\n",
       "      <td>0.4601</td>\n",
       "      <td>0.11890</td>\n",
       "      <td>NaN</td>\n",
       "    </tr>\n",
       "    <tr>\n",
       "      <th>1</th>\n",
       "      <td>842517</td>\n",
       "      <td>1</td>\n",
       "      <td>20.57</td>\n",
       "      <td>17.77</td>\n",
       "      <td>132.90</td>\n",
       "      <td>1326.0</td>\n",
       "      <td>0.08474</td>\n",
       "      <td>0.07864</td>\n",
       "      <td>0.08690</td>\n",
       "      <td>0.07017</td>\n",
       "      <td>...</td>\n",
       "      <td>23.41</td>\n",
       "      <td>158.80</td>\n",
       "      <td>1956.0</td>\n",
       "      <td>0.12380</td>\n",
       "      <td>0.18660</td>\n",
       "      <td>0.2416</td>\n",
       "      <td>0.1860</td>\n",
       "      <td>0.2750</td>\n",
       "      <td>0.08902</td>\n",
       "      <td>NaN</td>\n",
       "    </tr>\n",
       "    <tr>\n",
       "      <th>2</th>\n",
       "      <td>84300903</td>\n",
       "      <td>1</td>\n",
       "      <td>19.69</td>\n",
       "      <td>21.25</td>\n",
       "      <td>130.00</td>\n",
       "      <td>1203.0</td>\n",
       "      <td>0.10960</td>\n",
       "      <td>0.15990</td>\n",
       "      <td>0.19740</td>\n",
       "      <td>0.12790</td>\n",
       "      <td>...</td>\n",
       "      <td>25.53</td>\n",
       "      <td>152.50</td>\n",
       "      <td>1709.0</td>\n",
       "      <td>0.14440</td>\n",
       "      <td>0.42450</td>\n",
       "      <td>0.4504</td>\n",
       "      <td>0.2430</td>\n",
       "      <td>0.3613</td>\n",
       "      <td>0.08758</td>\n",
       "      <td>NaN</td>\n",
       "    </tr>\n",
       "    <tr>\n",
       "      <th>3</th>\n",
       "      <td>84348301</td>\n",
       "      <td>1</td>\n",
       "      <td>11.42</td>\n",
       "      <td>20.38</td>\n",
       "      <td>77.58</td>\n",
       "      <td>386.1</td>\n",
       "      <td>0.14250</td>\n",
       "      <td>0.28390</td>\n",
       "      <td>0.24140</td>\n",
       "      <td>0.10520</td>\n",
       "      <td>...</td>\n",
       "      <td>26.50</td>\n",
       "      <td>98.87</td>\n",
       "      <td>567.7</td>\n",
       "      <td>0.20980</td>\n",
       "      <td>0.86630</td>\n",
       "      <td>0.6869</td>\n",
       "      <td>0.2575</td>\n",
       "      <td>0.6638</td>\n",
       "      <td>0.17300</td>\n",
       "      <td>NaN</td>\n",
       "    </tr>\n",
       "    <tr>\n",
       "      <th>4</th>\n",
       "      <td>84358402</td>\n",
       "      <td>1</td>\n",
       "      <td>20.29</td>\n",
       "      <td>14.34</td>\n",
       "      <td>135.10</td>\n",
       "      <td>1297.0</td>\n",
       "      <td>0.10030</td>\n",
       "      <td>0.13280</td>\n",
       "      <td>0.19800</td>\n",
       "      <td>0.10430</td>\n",
       "      <td>...</td>\n",
       "      <td>16.67</td>\n",
       "      <td>152.20</td>\n",
       "      <td>1575.0</td>\n",
       "      <td>0.13740</td>\n",
       "      <td>0.20500</td>\n",
       "      <td>0.4000</td>\n",
       "      <td>0.1625</td>\n",
       "      <td>0.2364</td>\n",
       "      <td>0.07678</td>\n",
       "      <td>NaN</td>\n",
       "    </tr>\n",
       "    <tr>\n",
       "      <th>...</th>\n",
       "      <td>...</td>\n",
       "      <td>...</td>\n",
       "      <td>...</td>\n",
       "      <td>...</td>\n",
       "      <td>...</td>\n",
       "      <td>...</td>\n",
       "      <td>...</td>\n",
       "      <td>...</td>\n",
       "      <td>...</td>\n",
       "      <td>...</td>\n",
       "      <td>...</td>\n",
       "      <td>...</td>\n",
       "      <td>...</td>\n",
       "      <td>...</td>\n",
       "      <td>...</td>\n",
       "      <td>...</td>\n",
       "      <td>...</td>\n",
       "      <td>...</td>\n",
       "      <td>...</td>\n",
       "      <td>...</td>\n",
       "      <td>...</td>\n",
       "    </tr>\n",
       "    <tr>\n",
       "      <th>564</th>\n",
       "      <td>926424</td>\n",
       "      <td>1</td>\n",
       "      <td>21.56</td>\n",
       "      <td>22.39</td>\n",
       "      <td>142.00</td>\n",
       "      <td>1479.0</td>\n",
       "      <td>0.11100</td>\n",
       "      <td>0.11590</td>\n",
       "      <td>0.24390</td>\n",
       "      <td>0.13890</td>\n",
       "      <td>...</td>\n",
       "      <td>26.40</td>\n",
       "      <td>166.10</td>\n",
       "      <td>2027.0</td>\n",
       "      <td>0.14100</td>\n",
       "      <td>0.21130</td>\n",
       "      <td>0.4107</td>\n",
       "      <td>0.2216</td>\n",
       "      <td>0.2060</td>\n",
       "      <td>0.07115</td>\n",
       "      <td>NaN</td>\n",
       "    </tr>\n",
       "    <tr>\n",
       "      <th>565</th>\n",
       "      <td>926682</td>\n",
       "      <td>1</td>\n",
       "      <td>20.13</td>\n",
       "      <td>28.25</td>\n",
       "      <td>131.20</td>\n",
       "      <td>1261.0</td>\n",
       "      <td>0.09780</td>\n",
       "      <td>0.10340</td>\n",
       "      <td>0.14400</td>\n",
       "      <td>0.09791</td>\n",
       "      <td>...</td>\n",
       "      <td>38.25</td>\n",
       "      <td>155.00</td>\n",
       "      <td>1731.0</td>\n",
       "      <td>0.11660</td>\n",
       "      <td>0.19220</td>\n",
       "      <td>0.3215</td>\n",
       "      <td>0.1628</td>\n",
       "      <td>0.2572</td>\n",
       "      <td>0.06637</td>\n",
       "      <td>NaN</td>\n",
       "    </tr>\n",
       "    <tr>\n",
       "      <th>566</th>\n",
       "      <td>926954</td>\n",
       "      <td>1</td>\n",
       "      <td>16.60</td>\n",
       "      <td>28.08</td>\n",
       "      <td>108.30</td>\n",
       "      <td>858.1</td>\n",
       "      <td>0.08455</td>\n",
       "      <td>0.10230</td>\n",
       "      <td>0.09251</td>\n",
       "      <td>0.05302</td>\n",
       "      <td>...</td>\n",
       "      <td>34.12</td>\n",
       "      <td>126.70</td>\n",
       "      <td>1124.0</td>\n",
       "      <td>0.11390</td>\n",
       "      <td>0.30940</td>\n",
       "      <td>0.3403</td>\n",
       "      <td>0.1418</td>\n",
       "      <td>0.2218</td>\n",
       "      <td>0.07820</td>\n",
       "      <td>NaN</td>\n",
       "    </tr>\n",
       "    <tr>\n",
       "      <th>567</th>\n",
       "      <td>927241</td>\n",
       "      <td>1</td>\n",
       "      <td>20.60</td>\n",
       "      <td>29.33</td>\n",
       "      <td>140.10</td>\n",
       "      <td>1265.0</td>\n",
       "      <td>0.11780</td>\n",
       "      <td>0.27700</td>\n",
       "      <td>0.35140</td>\n",
       "      <td>0.15200</td>\n",
       "      <td>...</td>\n",
       "      <td>39.42</td>\n",
       "      <td>184.60</td>\n",
       "      <td>1821.0</td>\n",
       "      <td>0.16500</td>\n",
       "      <td>0.86810</td>\n",
       "      <td>0.9387</td>\n",
       "      <td>0.2650</td>\n",
       "      <td>0.4087</td>\n",
       "      <td>0.12400</td>\n",
       "      <td>NaN</td>\n",
       "    </tr>\n",
       "    <tr>\n",
       "      <th>568</th>\n",
       "      <td>92751</td>\n",
       "      <td>0</td>\n",
       "      <td>7.76</td>\n",
       "      <td>24.54</td>\n",
       "      <td>47.92</td>\n",
       "      <td>181.0</td>\n",
       "      <td>0.05263</td>\n",
       "      <td>0.04362</td>\n",
       "      <td>0.00000</td>\n",
       "      <td>0.00000</td>\n",
       "      <td>...</td>\n",
       "      <td>30.37</td>\n",
       "      <td>59.16</td>\n",
       "      <td>268.6</td>\n",
       "      <td>0.08996</td>\n",
       "      <td>0.06444</td>\n",
       "      <td>0.0000</td>\n",
       "      <td>0.0000</td>\n",
       "      <td>0.2871</td>\n",
       "      <td>0.07039</td>\n",
       "      <td>NaN</td>\n",
       "    </tr>\n",
       "  </tbody>\n",
       "</table>\n",
       "<p>569 rows × 33 columns</p>\n",
       "</div>"
      ],
      "text/plain": [
       "           id  diagnosis  radius_mean  texture_mean  perimeter_mean  \\\n",
       "0      842302          1        17.99         10.38          122.80   \n",
       "1      842517          1        20.57         17.77          132.90   \n",
       "2    84300903          1        19.69         21.25          130.00   \n",
       "3    84348301          1        11.42         20.38           77.58   \n",
       "4    84358402          1        20.29         14.34          135.10   \n",
       "..        ...        ...          ...           ...             ...   \n",
       "564    926424          1        21.56         22.39          142.00   \n",
       "565    926682          1        20.13         28.25          131.20   \n",
       "566    926954          1        16.60         28.08          108.30   \n",
       "567    927241          1        20.60         29.33          140.10   \n",
       "568     92751          0         7.76         24.54           47.92   \n",
       "\n",
       "     area_mean  smoothness_mean  compactness_mean  concavity_mean  \\\n",
       "0       1001.0          0.11840           0.27760         0.30010   \n",
       "1       1326.0          0.08474           0.07864         0.08690   \n",
       "2       1203.0          0.10960           0.15990         0.19740   \n",
       "3        386.1          0.14250           0.28390         0.24140   \n",
       "4       1297.0          0.10030           0.13280         0.19800   \n",
       "..         ...              ...               ...             ...   \n",
       "564     1479.0          0.11100           0.11590         0.24390   \n",
       "565     1261.0          0.09780           0.10340         0.14400   \n",
       "566      858.1          0.08455           0.10230         0.09251   \n",
       "567     1265.0          0.11780           0.27700         0.35140   \n",
       "568      181.0          0.05263           0.04362         0.00000   \n",
       "\n",
       "     concave points_mean  ...  texture_worst  perimeter_worst  area_worst  \\\n",
       "0                0.14710  ...          17.33           184.60      2019.0   \n",
       "1                0.07017  ...          23.41           158.80      1956.0   \n",
       "2                0.12790  ...          25.53           152.50      1709.0   \n",
       "3                0.10520  ...          26.50            98.87       567.7   \n",
       "4                0.10430  ...          16.67           152.20      1575.0   \n",
       "..                   ...  ...            ...              ...         ...   \n",
       "564              0.13890  ...          26.40           166.10      2027.0   \n",
       "565              0.09791  ...          38.25           155.00      1731.0   \n",
       "566              0.05302  ...          34.12           126.70      1124.0   \n",
       "567              0.15200  ...          39.42           184.60      1821.0   \n",
       "568              0.00000  ...          30.37            59.16       268.6   \n",
       "\n",
       "     smoothness_worst  compactness_worst  concavity_worst  \\\n",
       "0             0.16220            0.66560           0.7119   \n",
       "1             0.12380            0.18660           0.2416   \n",
       "2             0.14440            0.42450           0.4504   \n",
       "3             0.20980            0.86630           0.6869   \n",
       "4             0.13740            0.20500           0.4000   \n",
       "..                ...                ...              ...   \n",
       "564           0.14100            0.21130           0.4107   \n",
       "565           0.11660            0.19220           0.3215   \n",
       "566           0.11390            0.30940           0.3403   \n",
       "567           0.16500            0.86810           0.9387   \n",
       "568           0.08996            0.06444           0.0000   \n",
       "\n",
       "     concave points_worst  symmetry_worst  fractal_dimension_worst  \\\n",
       "0                  0.2654          0.4601                  0.11890   \n",
       "1                  0.1860          0.2750                  0.08902   \n",
       "2                  0.2430          0.3613                  0.08758   \n",
       "3                  0.2575          0.6638                  0.17300   \n",
       "4                  0.1625          0.2364                  0.07678   \n",
       "..                    ...             ...                      ...   \n",
       "564                0.2216          0.2060                  0.07115   \n",
       "565                0.1628          0.2572                  0.06637   \n",
       "566                0.1418          0.2218                  0.07820   \n",
       "567                0.2650          0.4087                  0.12400   \n",
       "568                0.0000          0.2871                  0.07039   \n",
       "\n",
       "     Unnamed: 32  \n",
       "0            NaN  \n",
       "1            NaN  \n",
       "2            NaN  \n",
       "3            NaN  \n",
       "4            NaN  \n",
       "..           ...  \n",
       "564          NaN  \n",
       "565          NaN  \n",
       "566          NaN  \n",
       "567          NaN  \n",
       "568          NaN  \n",
       "\n",
       "[569 rows x 33 columns]"
      ]
     },
<<<<<<< HEAD
     "execution_count": 14,
=======
     "execution_count": 99,
>>>>>>> 104d26f96e50e44d222b2e3f2483806b63dac7c4
     "metadata": {},
     "output_type": "execute_result"
    }
   ],
   "source": [
    "data"
   ]
  },
  {
   "cell_type": "code",
<<<<<<< HEAD
   "execution_count": 15,
=======
   "execution_count": 100,
>>>>>>> 104d26f96e50e44d222b2e3f2483806b63dac7c4
   "metadata": {},
   "outputs": [],
   "source": [
    "X = data.iloc[:,2:-1]\n",
    "y = data['diagnosis']"
   ]
  },
  {
   "cell_type": "code",
<<<<<<< HEAD
   "execution_count": 16,
=======
   "execution_count": 101,
>>>>>>> 104d26f96e50e44d222b2e3f2483806b63dac7c4
   "metadata": {},
   "outputs": [],
   "source": [
    "from sklearn.preprocessing import StandardScaler\n",
    "\n",
    "scalar = StandardScaler()\n",
    "scaled_data = scalar.fit_transform(X)\n",
    "X = pd.DataFrame(scaled_data, columns=X.columns)"
   ]
  },
  {
   "cell_type": "code",
<<<<<<< HEAD
   "execution_count": 17,
=======
   "execution_count": 102,
>>>>>>> 104d26f96e50e44d222b2e3f2483806b63dac7c4
   "metadata": {},
   "outputs": [],
   "source": [
    "from sklearn.model_selection import train_test_split\n",
    "\n",
    "X_train,X_test,y_train,y_test = train_test_split(X, y, test_size=0.2, random_state=20)"
   ]
  },
  {
   "cell_type": "code",
<<<<<<< HEAD
   "execution_count": 18,
=======
   "execution_count": 103,
>>>>>>> 104d26f96e50e44d222b2e3f2483806b63dac7c4
   "metadata": {},
   "outputs": [],
   "source": [
    "from sklearn.neural_network import MLPClassifier\n",
    "\n",
    "model = MLPClassifier(hidden_layer_sizes=(50,3), learning_rate_init=0.1, max_iter=100, random_state=20)\n",
    "model.fit(X_train, y_train)\n",
    "\n",
    "y_pred = model.predict(X_test)"
   ]
  },
  {
   "cell_type": "code",
<<<<<<< HEAD
   "execution_count": 19,
=======
   "execution_count": 104,
>>>>>>> 104d26f96e50e44d222b2e3f2483806b63dac7c4
   "metadata": {},
   "outputs": [
    {
     "data": {
      "text/plain": [
       "array([0, 0, 1, 0, 1, 1, 1, 0, 0, 1, 1, 0, 0, 1, 0, 0, 0, 1, 1, 0, 0, 0,\n",
       "       1, 1, 1, 1, 1, 0, 0, 0, 1, 0, 1, 0, 1, 1, 1, 0, 1, 0, 1, 0, 0, 0,\n",
       "       1, 0, 0, 0, 0, 1, 0, 0, 1, 0, 0, 0, 0, 0, 0, 0, 0, 0, 0, 0, 1, 0,\n",
       "       1, 0, 0, 1, 1, 1, 1, 0, 0, 1, 1, 1, 1, 0, 0, 1, 0, 0, 0, 1, 0, 0,\n",
       "       0, 0, 0, 1, 0, 0, 1, 1, 1, 0, 0, 0, 0, 1, 1, 1, 0, 0, 1, 1, 0, 1,\n",
       "       0, 0, 1, 0])"
      ]
     },
<<<<<<< HEAD
     "execution_count": 19,
=======
     "execution_count": 104,
>>>>>>> 104d26f96e50e44d222b2e3f2483806b63dac7c4
     "metadata": {},
     "output_type": "execute_result"
    }
   ],
   "source": [
    "y_pred"
   ]
  },
  {
   "cell_type": "code",
<<<<<<< HEAD
   "execution_count": 20,
=======
   "execution_count": 105,
>>>>>>> 104d26f96e50e44d222b2e3f2483806b63dac7c4
   "metadata": {},
   "outputs": [
    {
     "name": "stdout",
     "output_type": "stream",
     "text": [
      "Test accuracy : 0.9912280701754386\n"
     ]
    }
   ],
   "source": [
    "from sklearn.metrics import accuracy_score,confusion_matrix\n",
    "\n",
    "print(\"Test accuracy :\",accuracy_score(y_test, y_pred))"
   ]
  },
  {
   "cell_type": "code",
<<<<<<< HEAD
   "execution_count": 21,
=======
   "execution_count": 106,
>>>>>>> 104d26f96e50e44d222b2e3f2483806b63dac7c4
   "metadata": {},
   "outputs": [
    {
     "data": {
      "text/plain": [
       "array([0, 1, 0, 0, 1, 1, 0, 0, 1, 0, 1, 0, 0, 0, 0, 0, 0, 1, 0, 0, 0, 1,\n",
       "       0, 1, 0, 0, 1, 0, 0, 1, 0, 0, 1, 0, 0, 0, 0, 0, 0, 0, 0, 0, 1, 0,\n",
       "       0, 1, 0, 0, 0, 0, 0, 0, 1, 0, 1, 0, 1, 1, 1, 0, 1, 0, 1, 0, 0, 0,\n",
       "       0, 0, 0, 1, 1, 0, 0, 1, 1, 0, 1, 1, 0, 0, 0, 0, 0, 0, 0, 0, 0, 0,\n",
       "       1, 0, 0, 0, 0, 0, 0, 0, 0, 1, 0, 0, 1, 1, 0, 0, 0, 1, 0, 1, 0, 0,\n",
       "       0, 0, 0, 0, 1, 0, 0, 0, 1, 1, 1, 0, 0, 1, 1, 0, 0, 1, 1, 0, 0, 1,\n",
       "       0, 0, 1, 0, 0, 1, 0, 0, 0, 1, 1, 0, 0, 1, 0, 0, 1, 0, 1, 1, 1, 1,\n",
       "       0, 1, 0, 0, 0, 0, 0, 0, 0, 1, 0, 1, 1, 1, 0, 0, 1, 0, 0, 0, 0, 1,\n",
       "       0, 1, 0, 0, 0, 0, 1, 1, 0, 0, 0, 0, 0, 0, 1, 0, 0, 0, 0, 0, 1, 0,\n",
       "       0, 1, 0, 0, 0, 1, 1, 0, 1, 0, 1, 1, 0, 0, 0, 1, 0, 0, 0, 0, 0, 0,\n",
       "       1, 0, 0, 0, 1, 1, 0, 0, 0, 1, 0, 0, 1, 0, 0, 0, 1, 1, 0, 0, 0, 0,\n",
       "       0, 0, 1, 1, 1, 1, 0, 0, 0, 1, 0, 0, 0, 1, 0, 0, 1, 1, 1, 1, 1, 0,\n",
       "       0, 1, 0, 0, 0, 0, 1, 1, 0, 0, 0, 0, 0, 0, 0, 0, 0, 1, 0, 1, 0, 0,\n",
       "       1, 0, 1, 1, 0, 0, 1, 1, 0, 1, 0, 1, 1, 1, 0, 0, 0, 0, 0, 0, 0, 1,\n",
       "       0, 0, 1, 0, 1, 0, 1, 0, 1, 0, 1, 0, 0, 0, 0, 0, 1, 0, 0, 0, 0, 0,\n",
       "       0, 1, 0, 0, 0, 0, 0, 1, 0, 0, 1, 1, 0, 0, 1, 1, 0, 0, 0, 1, 0, 0,\n",
       "       0, 1, 0, 0, 0, 1, 0, 0, 1, 0, 0, 1, 0, 0, 1, 0, 1, 0, 0, 1, 0, 1,\n",
       "       1, 1, 0, 0, 0, 1, 0, 0, 1, 0, 0, 1, 0, 1, 1, 0, 0, 0, 0, 1, 0, 1,\n",
       "       1, 0, 1, 0, 0, 0, 0, 1, 0, 0, 0, 1, 0, 1, 0, 1, 0, 1, 1, 1, 1, 0,\n",
       "       1, 0, 0, 0, 0, 0, 0, 0, 0, 1, 0, 1, 1, 1, 0, 0, 1, 1, 0, 1, 1, 1,\n",
       "       0, 0, 1, 1, 0, 0, 1, 1, 0, 1, 1, 1, 0, 0, 0])"
      ]
     },
<<<<<<< HEAD
     "execution_count": 21,
=======
     "execution_count": 106,
>>>>>>> 104d26f96e50e44d222b2e3f2483806b63dac7c4
     "metadata": {},
     "output_type": "execute_result"
    }
   ],
   "source": [
    "# check for traing accuracy\n",
    "y_train_pred = model.predict(X_train)\n",
    "y_train_pred"
   ]
  },
  {
   "cell_type": "code",
<<<<<<< HEAD
   "execution_count": 22,
=======
   "execution_count": 107,
>>>>>>> 104d26f96e50e44d222b2e3f2483806b63dac7c4
   "metadata": {},
   "outputs": [
    {
     "name": "stdout",
     "output_type": "stream",
     "text": [
      "Train accuracy : 0.9912087912087912\n"
     ]
    }
   ],
   "source": [
    "print(\"Train accuracy :\",accuracy_score(y_train, y_train_pred))"
   ]
  },
  {
   "cell_type": "code",
<<<<<<< HEAD
   "execution_count": 23,
=======
   "execution_count": 108,
>>>>>>> 104d26f96e50e44d222b2e3f2483806b63dac7c4
   "metadata": {},
   "outputs": [
    {
     "data": {
      "text/html": [
       "<div>\n",
       "<style scoped>\n",
       "    .dataframe tbody tr th:only-of-type {\n",
       "        vertical-align: middle;\n",
       "    }\n",
       "\n",
       "    .dataframe tbody tr th {\n",
       "        vertical-align: top;\n",
       "    }\n",
       "\n",
       "    .dataframe thead th {\n",
       "        text-align: right;\n",
       "    }\n",
       "</style>\n",
       "<table border=\"1\" class=\"dataframe\">\n",
       "  <thead>\n",
       "    <tr style=\"text-align: right;\">\n",
       "      <th>col_0</th>\n",
       "      <th>0</th>\n",
       "      <th>1</th>\n",
       "    </tr>\n",
       "    <tr>\n",
       "      <th>diagnosis</th>\n",
       "      <th></th>\n",
       "      <th></th>\n",
       "    </tr>\n",
       "  </thead>\n",
       "  <tbody>\n",
       "    <tr>\n",
       "      <th>0</th>\n",
       "      <td>66</td>\n",
       "      <td>0</td>\n",
       "    </tr>\n",
       "    <tr>\n",
       "      <th>1</th>\n",
       "      <td>1</td>\n",
       "      <td>47</td>\n",
       "    </tr>\n",
       "  </tbody>\n",
       "</table>\n",
       "</div>"
      ],
      "text/plain": [
       "col_0       0   1\n",
       "diagnosis        \n",
       "0          66   0\n",
       "1           1  47"
      ]
     },
<<<<<<< HEAD
     "execution_count": 23,
=======
     "execution_count": 108,
>>>>>>> 104d26f96e50e44d222b2e3f2483806b63dac7c4
     "metadata": {},
     "output_type": "execute_result"
    }
   ],
   "source": [
    "pd.crosstab(y_test, y_pred)"
   ]
  },
  {
   "cell_type": "code",
<<<<<<< HEAD
   "execution_count": 24,
=======
   "execution_count": 109,
>>>>>>> 104d26f96e50e44d222b2e3f2483806b63dac7c4
   "metadata": {},
   "outputs": [
    {
     "data": {
      "text/plain": [
       "array([[66,  0],\n",
       "       [ 1, 47]], dtype=int64)"
      ]
     },
<<<<<<< HEAD
     "execution_count": 24,
=======
     "execution_count": 109,
>>>>>>> 104d26f96e50e44d222b2e3f2483806b63dac7c4
     "metadata": {},
     "output_type": "execute_result"
    }
   ],
   "source": [
    "confusion_matrix(y_test, y_pred)"
   ]
  },
  {
   "cell_type": "markdown",
   "metadata": {},
   "source": [
    "### Hyperparameter Tunning"
   ]
  },
  {
   "cell_type": "code",
<<<<<<< HEAD
   "execution_count": 25,
=======
   "execution_count": 148,
>>>>>>> 104d26f96e50e44d222b2e3f2483806b63dac7c4
   "metadata": {},
   "outputs": [],
   "source": [
    "from sklearn.model_selection import GridSearchCV\n",
    "\n",
    "\n",
    "param_grid = {\n",
    "    'hidden_layer_sizes': [(16,), (32,), (64,), (50,)],\n",
    "    'activation': ['relu', 'logistic'],\n",
    "    'alpha': [0.0001, 0.001, 0.01],\n",
    "}\n",
    "mlp = MLPClassifier(max_iter=100)\n",
    "\n",
    "grid = GridSearchCV(estimator=mlp, param_grid=param_grid, cv=3, scoring='f1')\n",
    "grid_result = grid.fit(X_train, y_train)\n"
   ]
  },
  {
   "cell_type": "code",
<<<<<<< HEAD
   "execution_count": 26,
=======
   "execution_count": 149,
>>>>>>> 104d26f96e50e44d222b2e3f2483806b63dac7c4
   "metadata": {},
   "outputs": [
    {
     "name": "stdout",
     "output_type": "stream",
     "text": [
<<<<<<< HEAD
      "Best Parameters:  {'activation': 'relu', 'alpha': 0.01, 'hidden_layer_sizes': (64,)}\n"
=======
      "Best Parameters:  {'activation': 'relu', 'alpha': 0.001, 'hidden_layer_sizes': (64,)}\n"
>>>>>>> 104d26f96e50e44d222b2e3f2483806b63dac7c4
     ]
    }
   ],
   "source": [
    "print(\"Best Parameters: \", grid_result.best_params_)"
   ]
  },
  {
   "cell_type": "code",
<<<<<<< HEAD
   "execution_count": 27,
=======
   "execution_count": 150,
>>>>>>> 104d26f96e50e44d222b2e3f2483806b63dac7c4
   "metadata": {},
   "outputs": [
    {
     "data": {
<<<<<<< HEAD
=======
      "text/html": [
       "<style>#sk-container-id-9 {color: black;}#sk-container-id-9 pre{padding: 0;}#sk-container-id-9 div.sk-toggleable {background-color: white;}#sk-container-id-9 label.sk-toggleable__label {cursor: pointer;display: block;width: 100%;margin-bottom: 0;padding: 0.3em;box-sizing: border-box;text-align: center;}#sk-container-id-9 label.sk-toggleable__label-arrow:before {content: \"▸\";float: left;margin-right: 0.25em;color: #696969;}#sk-container-id-9 label.sk-toggleable__label-arrow:hover:before {color: black;}#sk-container-id-9 div.sk-estimator:hover label.sk-toggleable__label-arrow:before {color: black;}#sk-container-id-9 div.sk-toggleable__content {max-height: 0;max-width: 0;overflow: hidden;text-align: left;background-color: #f0f8ff;}#sk-container-id-9 div.sk-toggleable__content pre {margin: 0.2em;color: black;border-radius: 0.25em;background-color: #f0f8ff;}#sk-container-id-9 input.sk-toggleable__control:checked~div.sk-toggleable__content {max-height: 200px;max-width: 100%;overflow: auto;}#sk-container-id-9 input.sk-toggleable__control:checked~label.sk-toggleable__label-arrow:before {content: \"▾\";}#sk-container-id-9 div.sk-estimator input.sk-toggleable__control:checked~label.sk-toggleable__label {background-color: #d4ebff;}#sk-container-id-9 div.sk-label input.sk-toggleable__control:checked~label.sk-toggleable__label {background-color: #d4ebff;}#sk-container-id-9 input.sk-hidden--visually {border: 0;clip: rect(1px 1px 1px 1px);clip: rect(1px, 1px, 1px, 1px);height: 1px;margin: -1px;overflow: hidden;padding: 0;position: absolute;width: 1px;}#sk-container-id-9 div.sk-estimator {font-family: monospace;background-color: #f0f8ff;border: 1px dotted black;border-radius: 0.25em;box-sizing: border-box;margin-bottom: 0.5em;}#sk-container-id-9 div.sk-estimator:hover {background-color: #d4ebff;}#sk-container-id-9 div.sk-parallel-item::after {content: \"\";width: 100%;border-bottom: 1px solid gray;flex-grow: 1;}#sk-container-id-9 div.sk-label:hover label.sk-toggleable__label {background-color: #d4ebff;}#sk-container-id-9 div.sk-serial::before {content: \"\";position: absolute;border-left: 1px solid gray;box-sizing: border-box;top: 0;bottom: 0;left: 50%;z-index: 0;}#sk-container-id-9 div.sk-serial {display: flex;flex-direction: column;align-items: center;background-color: white;padding-right: 0.2em;padding-left: 0.2em;position: relative;}#sk-container-id-9 div.sk-item {position: relative;z-index: 1;}#sk-container-id-9 div.sk-parallel {display: flex;align-items: stretch;justify-content: center;background-color: white;position: relative;}#sk-container-id-9 div.sk-item::before, #sk-container-id-9 div.sk-parallel-item::before {content: \"\";position: absolute;border-left: 1px solid gray;box-sizing: border-box;top: 0;bottom: 0;left: 50%;z-index: -1;}#sk-container-id-9 div.sk-parallel-item {display: flex;flex-direction: column;z-index: 1;position: relative;background-color: white;}#sk-container-id-9 div.sk-parallel-item:first-child::after {align-self: flex-end;width: 50%;}#sk-container-id-9 div.sk-parallel-item:last-child::after {align-self: flex-start;width: 50%;}#sk-container-id-9 div.sk-parallel-item:only-child::after {width: 0;}#sk-container-id-9 div.sk-dashed-wrapped {border: 1px dashed gray;margin: 0 0.4em 0.5em 0.4em;box-sizing: border-box;padding-bottom: 0.4em;background-color: white;}#sk-container-id-9 div.sk-label label {font-family: monospace;font-weight: bold;display: inline-block;line-height: 1.2em;}#sk-container-id-9 div.sk-label-container {text-align: center;}#sk-container-id-9 div.sk-container {/* jupyter's `normalize.less` sets `[hidden] { display: none; }` but bootstrap.min.css set `[hidden] { display: none !important; }` so we also need the `!important` here to be able to override the default hidden behavior on the sphinx rendered scikit-learn.org. See: https://github.com/scikit-learn/scikit-learn/issues/21755 */display: inline-block !important;position: relative;}#sk-container-id-9 div.sk-text-repr-fallback {display: none;}</style><div id=\"sk-container-id-9\" class=\"sk-top-container\"><div class=\"sk-text-repr-fallback\"><pre>MLPClassifier(alpha=0.001, hidden_layer_sizes=(64,))</pre><b>In a Jupyter environment, please rerun this cell to show the HTML representation or trust the notebook. <br />On GitHub, the HTML representation is unable to render, please try loading this page with nbviewer.org.</b></div><div class=\"sk-container\" hidden><div class=\"sk-item\"><div class=\"sk-estimator sk-toggleable\"><input class=\"sk-toggleable__control sk-hidden--visually\" id=\"sk-estimator-id-9\" type=\"checkbox\" checked><label for=\"sk-estimator-id-9\" class=\"sk-toggleable__label sk-toggleable__label-arrow\">MLPClassifier</label><div class=\"sk-toggleable__content\"><pre>MLPClassifier(alpha=0.001, hidden_layer_sizes=(64,))</pre></div></div></div></div></div>"
      ],
>>>>>>> 104d26f96e50e44d222b2e3f2483806b63dac7c4
      "text/plain": [
       "MLPClassifier(alpha=0.001, hidden_layer_sizes=(64,))"
      ]
     },
<<<<<<< HEAD
     "execution_count": 27,
=======
     "execution_count": 150,
>>>>>>> 104d26f96e50e44d222b2e3f2483806b63dac7c4
     "metadata": {},
     "output_type": "execute_result"
    }
   ],
   "source": [
    "model_with_best_params = MLPClassifier(hidden_layer_sizes=(64,), activation='relu', alpha=0.001)\n",
    "model_with_best_params.fit(X_train, y_train)"
   ]
  },
  {
   "cell_type": "code",
<<<<<<< HEAD
   "execution_count": 28,
=======
   "execution_count": 151,
>>>>>>> 104d26f96e50e44d222b2e3f2483806b63dac7c4
   "metadata": {},
   "outputs": [
    {
     "data": {
      "text/plain": [
       "array([0, 0, 1, 0, 1, 1, 1, 0, 0, 1, 1, 0, 0, 1, 0, 0, 0, 1, 1, 0, 0, 0,\n",
       "       1, 1, 1, 1, 1, 0, 0, 0, 1, 0, 1, 0, 1, 1, 1, 0, 1, 0, 1, 0, 0, 0,\n",
       "       1, 0, 0, 0, 0, 1, 0, 0, 1, 0, 0, 0, 0, 0, 0, 0, 0, 0, 0, 0, 1, 0,\n",
       "       1, 0, 0, 1, 1, 1, 1, 0, 0, 1, 1, 1, 1, 0, 0, 1, 0, 0, 0, 1, 0, 0,\n",
       "       0, 0, 0, 1, 0, 0, 1, 1, 1, 0, 0, 0, 0, 1, 1, 1, 0, 0, 1, 1, 0, 1,\n",
       "       0, 0, 1, 0])"
      ]
     },
<<<<<<< HEAD
     "execution_count": 28,
=======
     "execution_count": 151,
>>>>>>> 104d26f96e50e44d222b2e3f2483806b63dac7c4
     "metadata": {},
     "output_type": "execute_result"
    }
   ],
   "source": [
    "y_pred_tunning = model_with_best_params.predict(X_test)\n",
    "y_pred_tunning"
   ]
  },
  {
   "cell_type": "code",
<<<<<<< HEAD
   "execution_count": 29,
=======
   "execution_count": 152,
>>>>>>> 104d26f96e50e44d222b2e3f2483806b63dac7c4
   "metadata": {},
   "outputs": [
    {
     "data": {
      "text/plain": [
       "0.9912280701754386"
      ]
     },
<<<<<<< HEAD
     "execution_count": 29,
=======
     "execution_count": 152,
>>>>>>> 104d26f96e50e44d222b2e3f2483806b63dac7c4
     "metadata": {},
     "output_type": "execute_result"
    }
   ],
   "source": [
    "accuracy_score(y_test, y_pred_tunning)"
   ]
  },
  {
   "cell_type": "code",
<<<<<<< HEAD
   "execution_count": 30,
=======
   "execution_count": 153,
>>>>>>> 104d26f96e50e44d222b2e3f2483806b63dac7c4
   "metadata": {},
   "outputs": [
    {
     "name": "stdout",
     "output_type": "stream",
     "text": [
      "[[66  0]\n",
      " [ 1 47]]\n"
     ]
    }
   ],
   "source": [
    "print(confusion_matrix(y_test, y_pred_tunning))"
   ]
  },
  {
   "cell_type": "code",
<<<<<<< HEAD
   "execution_count": 31,
=======
   "execution_count": 154,
>>>>>>> 104d26f96e50e44d222b2e3f2483806b63dac7c4
   "metadata": {},
   "outputs": [
    {
     "name": "stdout",
     "output_type": "stream",
     "text": [
      "              precision    recall  f1-score   support\n",
      "\n",
      "           0       0.99      1.00      0.99        66\n",
      "           1       1.00      0.98      0.99        48\n",
      "\n",
      "    accuracy                           0.99       114\n",
      "   macro avg       0.99      0.99      0.99       114\n",
      "weighted avg       0.99      0.99      0.99       114\n",
      "\n"
     ]
    }
   ],
   "source": [
    "from sklearn.metrics import classification_report\n",
    "\n",
    "print(classification_report(y_test, y_pred_tunning))"
   ]
  },
  {
   "cell_type": "code",
<<<<<<< HEAD
   "execution_count": 32,
   "metadata": {},
   "outputs": [
    {
     "name": "stdout",
     "output_type": "stream",
     "text": [
      "Hello world\n"
     ]
    }
   ],
   "source": [
    "print(\"Hello world\")"
   ]
  },
  {
   "cell_type": "code",
=======
>>>>>>> 104d26f96e50e44d222b2e3f2483806b63dac7c4
   "execution_count": null,
   "metadata": {},
   "outputs": [],
   "source": []
  }
 ],
 "metadata": {
  "kernelspec": {
   "display_name": "Python 3 (ipykernel)",
   "language": "python",
   "name": "python3"
  },
  "language_info": {
   "codemirror_mode": {
    "name": "ipython",
    "version": 3
   },
   "file_extension": ".py",
   "mimetype": "text/x-python",
   "name": "python",
   "nbconvert_exporter": "python",
   "pygments_lexer": "ipython3",
<<<<<<< HEAD
   "version": "3.9.13"
=======
   "version": "3.11.5"
>>>>>>> 104d26f96e50e44d222b2e3f2483806b63dac7c4
  }
 },
 "nbformat": 4,
 "nbformat_minor": 2
}
